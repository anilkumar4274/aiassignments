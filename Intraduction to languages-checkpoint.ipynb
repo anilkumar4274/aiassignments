{
 "cells": [
  {
   "cell_type": "markdown",
   "metadata": {},
   "source": [
    "### 1. What is programing language?"
   ]
  },
  {
   "cell_type": "raw",
   "metadata": {},
   "source": [
    "Ans. The language which is used to communicate with computers is called as programming language.This programing language\n",
    "consits of code which is understand by the computers  and used to solve the complex algorithams and get various output through the diffrent code which are given by the human.\n",
    "       And this programing language is used to develop the computer programing and to implent the alogrithams is known as programing language "
   ]
  },
  {
   "cell_type": "markdown",
   "metadata": {},
   "source": [
    "### 2. What are the types of programing languages?"
   ]
  },
  {
   "cell_type": "raw",
   "metadata": {},
   "source": [
    "Ans: Diffrent types of programming languages are :\n",
    "      low level and high level\n",
    "      1.low level:\n",
    "        machine language:\n",
    "        assembly language:\n",
    "      2.High level language:\n",
    "            python ,\n",
    "        3.proscedural programing language:\n",
    "            c, cobal, basic ,ada\n",
    "        4. object orented programing language:\n",
    "              java, c++,c#, \n",
    "        3. script programing language:\n",
    "               javascript ,php,vb scritpt\n",
    "        4. logical programing language:\n",
    "               chip, eclipse, godel,mercury,\n",
    "         5. functional programing language:\n",
    "              lisp,scheme,\n",
    "          6.Query languages:\n",
    "             sql,\n",
    "            \n",
    "            "
   ]
  },
  {
   "cell_type": "markdown",
   "metadata": {},
   "source": [
    "### 3.Intraduction to Translator, compiler,interpreter"
   ]
  },
  {
   "cell_type": "raw",
   "metadata": {},
   "source": [
    "Ans: Which is used to convert the one language to other language is called as translator\n",
    "      i) translator consits of three parts in computer programing\n",
    "          a) Assembler\n",
    "          b) interpretar \n",
    "          c) Compiler\n",
    "  a)Assembler:\n",
    "           which is used to convert assembly code to machine code is called as assembler\n",
    "  b)Interpretar:\n",
    "           It interprets the high level code to the machine code is called as interpriter\n",
    "            ex: python code:\n",
    "  c)Compiler:\n",
    "           It compiles the code to machine language is called as compiler\n",
    "            ex: c-code \n",
    "             "
   ]
  },
  {
   "cell_type": "markdown",
   "metadata": {},
   "source": [
    "### 4.what is a scripting language?"
   ]
  },
  {
   "cell_type": "raw",
   "metadata": {},
   "source": [
    "A scripting language is a computer language which  holds a series of commands with in a file that is capabel of executed \n",
    "without compiling is called script language"
   ]
  },
  {
   "cell_type": "markdown",
   "metadata": {},
   "source": [
    "### 5.what is diffrence between scripting and programing language?"
   ]
  },
  {
   "cell_type": "raw",
   "metadata": {},
   "source": [
    "Ans: Programing languages need to be compiled:\n",
    "     scripting languages not to be compiled we can directly execute the code:\n",
    "        compiled languages run more faster than scripting languges:\n",
    "            "
   ]
  },
  {
   "cell_type": "markdown",
   "metadata": {},
   "source": [
    "### 6.what is diffrent between procedural orented programing and object orented programing:?"
   ]
  },
  {
   "cell_type": "raw",
   "metadata": {},
   "source": [
    "Ans: procedural orented programing :\n",
    "        In this procedural orented programming it fallows the programme model which is derived from the structured programming \n",
    "         it'is simpley know as routines and simplyconsits of computational steps which is carried out during programme execution\n",
    "         it is top to down approach.\n",
    "        there is no access specifier in this type \n",
    "        it is less secure\n",
    "        in this overloading is not possible\n",
    "            ex: for procedural orented programming \n",
    "                 cobol,c,basic,Fortran:\n",
    "    Object orented programing:\n",
    "        It can be defined as the progaming model which is based on the concept of the object\n",
    "        it fallows the bottoms up approch.\n",
    "        it hase access specfier like public,private, protected .\n",
    "        it is more secure.\n",
    "        overloading is possible\n",
    "        In this language is based on objects which can interact with real world .\n",
    "        ex: java, python,c#,c++\n",
    "        \n",
    "        "
   ]
  },
  {
   "cell_type": "code",
   "execution_count": null,
   "metadata": {},
   "outputs": [],
   "source": []
  }
 ],
 "metadata": {
  "kernelspec": {
   "display_name": "Python 3",
   "language": "python",
   "name": "python3"
  },
  "language_info": {
   "codemirror_mode": {
    "name": "ipython",
    "version": 3
   },
   "file_extension": ".py",
   "mimetype": "text/x-python",
   "name": "python",
   "nbconvert_exporter": "python",
   "pygments_lexer": "ipython3",
   "version": "3.7.4"
  }
 },
 "nbformat": 4,
 "nbformat_minor": 2
}
