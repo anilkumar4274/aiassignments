{
  "nbformat": 4,
  "nbformat_minor": 0,
  "metadata": {
    "colab": {
      "name": "regular_expressions_2.ipynb",
      "provenance": [],
      "collapsed_sections": [],
      "authorship_tag": "ABX9TyP+Loq8XZE2uO+ns/uCrgJ3",
      "include_colab_link": true
    },
    "kernelspec": {
      "name": "python3",
      "display_name": "Python 3"
    }
  },
  "cells": [
    {
      "cell_type": "markdown",
      "metadata": {
        "id": "view-in-github",
        "colab_type": "text"
      },
      "source": [
        "<a href=\"https://colab.research.google.com/github/anilkumar4274/aiassignments/blob/haasini/regular_expressions_2.ipynb\" target=\"_parent\"><img src=\"https://colab.research.google.com/assets/colab-badge.svg\" alt=\"Open In Colab\"/></a>"
      ]
    },
    {
      "cell_type": "code",
      "metadata": {
        "id": "bWR6NQ-o7GYl",
        "colab_type": "code",
        "colab": {
          "base_uri": "https://localhost:8080/",
          "height": 35
        },
        "outputId": "e504270b-0f0f-4c85-8c38-bb3b3e5c0ee4"
      },
      "source": [
        "import re\n",
        "string1 = \"Heleoidlelo, world.\"\n",
        "if re.search(r\"e[l]*o\", string1):\n",
        "    print(\"'e' followed by zero to many 'll' followed by 'o' (eo, ello, ellllo)\")"
      ],
      "execution_count": 32,
      "outputs": [
        {
          "output_type": "stream",
          "text": [
            "'e' followed by zero to many 'll' followed by 'o' (eo, ello, ellllo)\n"
          ],
          "name": "stdout"
        }
      ]
    },
    {
      "cell_type": "code",
      "metadata": {
        "id": "amRH8aYj8kKF",
        "colab_type": "code",
        "colab": {
          "base_uri": "https://localhost:8080/",
          "height": 35
        },
        "outputId": "78b683fd-c056-4ea1-e4ea-4b286e6173cf"
      },
      "source": [
        "re.search(r\"e[lod]+o\", string1)"
      ],
      "execution_count": 34,
      "outputs": [
        {
          "output_type": "execute_result",
          "data": {
            "text/plain": [
              "<_sre.SRE_Match object; span=(8, 11), match='elo'>"
            ]
          },
          "metadata": {
            "tags": []
          },
          "execution_count": 34
        }
      ]
    },
    {
      "cell_type": "code",
      "metadata": {
        "id": "AqvjLoUw9Z02",
        "colab_type": "code",
        "colab": {
          "base_uri": "https://localhost:8080/",
          "height": 35
        },
        "outputId": "15d8db6a-d046-4fff-9e4a-f80abb9570f2"
      },
      "source": [
        "string1 = \"Hello World\"\n",
        "if re.search(r\"^He\", string1):\n",
        "    print(string1, \"starts with the characters 'He'\")"
      ],
      "execution_count": 37,
      "outputs": [
        {
          "output_type": "stream",
          "text": [
            "Hello World starts with the characters 'He'\n"
          ],
          "name": "stdout"
        }
      ]
    },
    {
      "cell_type": "code",
      "metadata": {
        "id": "IRNCEy7bAvS8",
        "colab_type": "code",
        "colab": {
          "base_uri": "https://localhost:8080/",
          "height": 35
        },
        "outputId": "369c47a6-c4a5-465a-9118-35ad11de6b6d"
      },
      "source": [
        "re.search(r\"^He\", string1)"
      ],
      "execution_count": 38,
      "outputs": [
        {
          "output_type": "execute_result",
          "data": {
            "text/plain": [
              "<_sre.SRE_Match object; span=(0, 2), match='He'>"
            ]
          },
          "metadata": {
            "tags": []
          },
          "execution_count": 38
        }
      ]
    },
    {
      "cell_type": "code",
      "metadata": {
        "id": "HuEHMF0kAvc7",
        "colab_type": "code",
        "colab": {
          "base_uri": "https://localhost:8080/",
          "height": 35
        },
        "outputId": "c061b9c0-19e8-4cbe-c4aa-8092c375d0c3"
      },
      "source": [
        "string1 = \"Hello World\"\n",
        "if re.search(r\"rld$\", string1):\n",
        "  print(string1, \"is a line or string that ends with 'rld'\")"
      ],
      "execution_count": 39,
      "outputs": [
        {
          "output_type": "stream",
          "text": [
            "Hello World is a line or string that ends with 'rld'\n"
          ],
          "name": "stdout"
        }
      ]
    },
    {
      "cell_type": "code",
      "metadata": {
        "id": "m4os2FD2Avgk",
        "colab_type": "code",
        "colab": {
          "base_uri": "https://localhost:8080/",
          "height": 35
        },
        "outputId": "779f419d-a42b-472c-f21c-dfee5f7611d2"
      },
      "source": [
        "re.search(r\"d$\", string1)"
      ],
      "execution_count": 41,
      "outputs": [
        {
          "output_type": "execute_result",
          "data": {
            "text/plain": [
              "<_sre.SRE_Match object; span=(10, 11), match='d'>"
            ]
          },
          "metadata": {
            "tags": []
          },
          "execution_count": 41
        }
      ]
    },
    {
      "cell_type": "code",
      "metadata": {
        "id": "HobREb82Avjg",
        "colab_type": "code",
        "colab": {
          "base_uri": "https://localhost:8080/",
          "height": 35
        },
        "outputId": "2c3e7366-1297-4f79-b514-0fa767ea1b84"
      },
      "source": [
        "string1 = \"Hello, world.\"\n",
        "if re.search(r\"[aeiou]+\",string1):\n",
        "    print(string1 + \" contains one or more vowels.\")"
      ],
      "execution_count": 42,
      "outputs": [
        {
          "output_type": "stream",
          "text": [
            "Hello, world. contains one or more vowels.\n"
          ],
          "name": "stdout"
        }
      ]
    },
    {
      "cell_type": "code",
      "metadata": {
        "id": "PFMdNE0NAvmd",
        "colab_type": "code",
        "colab": {
          "base_uri": "https://localhost:8080/",
          "height": 35
        },
        "outputId": "750fb490-7405-4c04-ec86-aad554627ebe"
      },
      "source": [
        "re.search(r\"[aeiou]+\",string1)"
      ],
      "execution_count": 43,
      "outputs": [
        {
          "output_type": "execute_result",
          "data": {
            "text/plain": [
              "<_sre.SRE_Match object; span=(1, 2), match='e'>"
            ]
          },
          "metadata": {
            "tags": []
          },
          "execution_count": 43
        }
      ]
    },
    {
      "cell_type": "code",
      "metadata": {
        "id": "j37nF_H_Avpw",
        "colab_type": "code",
        "colab": {
          "base_uri": "https://localhost:8080/",
          "height": 35
        },
        "outputId": "c2118be2-3100-4fe2-c83e-cd4b482672b7"
      },
      "source": [
        "string1 = \"Hello - world\"\n",
        "if re.search(r\"[-abc]+\",string1):\n",
        "    print(string1 + \" contains one or more vowels.\")"
      ],
      "execution_count": 50,
      "outputs": [
        {
          "output_type": "stream",
          "text": [
            "Hello - world contains one or more vowels.\n"
          ],
          "name": "stdout"
        }
      ]
    },
    {
      "cell_type": "code",
      "metadata": {
        "id": "Owv9BYplDLR8",
        "colab_type": "code",
        "colab": {
          "base_uri": "https://localhost:8080/",
          "height": 52
        },
        "outputId": "0b2138c4-d890-4311-c693-a16f6d8d51d9"
      },
      "source": [
        "string1 = \"Hello World\\n\"\n",
        "if re.search(r\"[^a-c]\", string1):\n",
        "  print(string1 + \" contains a character other than a, b, and c\")"
      ],
      "execution_count": 59,
      "outputs": [
        {
          "output_type": "stream",
          "text": [
            "Hello World\n",
            " contains a character other than a, b, and c\n"
          ],
          "name": "stdout"
        }
      ]
    },
    {
      "cell_type": "code",
      "metadata": {
        "id": "TjOPb-CoENZx",
        "colab_type": "code",
        "colab": {
          "base_uri": "https://localhost:8080/",
          "height": 35
        },
        "outputId": "0afd2685-84e5-4e6b-b61a-5fb353a9bcca"
      },
      "source": [
        "string1 = \"helloworld123\"\n",
        "re.search(r\"[^a-z]*\", string1)"
      ],
      "execution_count": 77,
      "outputs": [
        {
          "output_type": "execute_result",
          "data": {
            "text/plain": [
              "<_sre.SRE_Match object; span=(0, 0), match=''>"
            ]
          },
          "metadata": {
            "tags": []
          },
          "execution_count": 77
        }
      ]
    },
    {
      "cell_type": "code",
      "metadata": {
        "id": "dkhN4c-tENc6",
        "colab_type": "code",
        "colab": {
          "base_uri": "https://localhost:8080/",
          "height": 35
        },
        "outputId": "ec811ddd-31be-43cf-977d-1bb5a945dbef"
      },
      "source": [
        "string1 = \"helloworld123.\"\n",
        "re.search(r\"..[.]\", string1)"
      ],
      "execution_count": 84,
      "outputs": [
        {
          "output_type": "execute_result",
          "data": {
            "text/plain": [
              "<_sre.SRE_Match object; span=(11, 14), match='23.'>"
            ]
          },
          "metadata": {
            "tags": []
          },
          "execution_count": 84
        }
      ]
    },
    {
      "cell_type": "code",
      "metadata": {
        "id": "q8OC3s8IENgQ",
        "colab_type": "code",
        "colab": {
          "base_uri": "https://localhost:8080/",
          "height": 35
        },
        "outputId": "44670930-7faa-424f-f30f-9a91dcc53104"
      },
      "source": [
        "string1 = \"hello.world123\"\n",
        "re.search(r\"[^...]\", string1)"
      ],
      "execution_count": 99,
      "outputs": [
        {
          "output_type": "execute_result",
          "data": {
            "text/plain": [
              "<_sre.SRE_Match object; span=(0, 1), match='h'>"
            ]
          },
          "metadata": {
            "tags": []
          },
          "execution_count": 99
        }
      ]
    },
    {
      "cell_type": "code",
      "metadata": {
        "id": "3rHSTYIKH-rB",
        "colab_type": "code",
        "colab": {
          "base_uri": "https://localhost:8080/",
          "height": 35
        },
        "outputId": "eca30748-6a78-41f9-989f-df0def360fc9"
      },
      "source": [
        "string1 = \"Hello, world.\"\n",
        "if re.search(r\"(Hello|Hi|Pogo)\",string1):\n",
        " print(\"At least one of Hello,Hi, or Pogo is contained in \" +string1)"
      ],
      "execution_count": 108,
      "outputs": [
        {
          "output_type": "stream",
          "text": [
            "At least one of Hello,Hi, or Pogo is contained in Hello, world.\n"
          ],
          "name": "stdout"
        }
      ]
    },
    {
      "cell_type": "code",
      "metadata": {
        "id": "gVerW1jPJ4B3",
        "colab_type": "code",
        "colab": {
          "base_uri": "https://localhost:8080/",
          "height": 35
        },
        "outputId": "acdbd03a-cc88-4aeb-883c-aec17e8e71d4"
      },
      "source": [
        "re.search(r\"(Hello|Hi|Pogo)\",string1).group()"
      ],
      "execution_count": 110,
      "outputs": [
        {
          "output_type": "execute_result",
          "data": {
            "text/plain": [
              "'Hello'"
            ]
          },
          "metadata": {
            "tags": []
          },
          "execution_count": 110
        }
      ]
    },
    {
      "cell_type": "code",
      "metadata": {
        "id": "f78pNde-J-_e",
        "colab_type": "code",
        "colab": {
          "base_uri": "https://localhost:8080/",
          "height": 35
        },
        "outputId": "85c9e371-91a4-4fb4-9ed6-fb8adc803252"
      },
      "source": [
        "string1 = \"Hello, world.\"\n",
        "m_obj =re.search(r\"(H..).(o..)(...)\",string1)\n",
        "if re.search(r\"(H..).(o..)(...)\",string1):\n",
        "  print(\"We matched '\" + m_obj.group(1) + \"' and '\" + m_obj.group(2) + \"' and '\" + m_obj.group(3)+ \"'\")"
      ],
      "execution_count": 107,
      "outputs": [
        {
          "output_type": "stream",
          "text": [
            "We matched 'Hel' and 'o, ' and 'wor'\n"
          ],
          "name": "stdout"
        }
      ]
    },
    {
      "cell_type": "code",
      "metadata": {
        "id": "kY-Gs6VVLDef",
        "colab_type": "code",
        "colab": {}
      },
      "source": [
        ""
      ],
      "execution_count": 0,
      "outputs": []
    }
  ]
}