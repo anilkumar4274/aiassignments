{
 "cells": [
  {
   "cell_type": "markdown",
   "metadata": {},
   "source": [
    "### python interview questions\n"
   ]
  },
  {
   "cell_type": "markdown",
   "metadata": {},
   "source": [
    "##### 1.who is the creatoer of python?"
   ]
  },
  {
   "cell_type": "markdown",
   "metadata": {},
   "source": [
    "###### ANS : guido van rossum"
   ]
  },
  {
   "cell_type": "markdown",
   "metadata": {},
   "source": [
    "##### 2. what are the  data types in python ?"
   ]
  },
  {
   "cell_type": "markdown",
   "metadata": {},
   "source": [
    "##### ANS: there are two types of data types in python \n",
    "#####        1. mutabel data type \n",
    "#####        2.imutabel data type"
   ]
  },
  {
   "cell_type": "markdown",
   "metadata": {},
   "source": [
    "#### 3.How many types of operators in python ? what are they?"
   ]
  },
  {
   "cell_type": "markdown",
   "metadata": {},
   "source": [
    "#### ANS : There are 7 types of operators in python\n",
    "####        1. Arthematic operator (+,-,*,%,/) \n",
    "####        2. Assignment operator(=,+=,-=,**)\n",
    "####        3. Relational operator(==,>=,<=,<,>,!=)\n",
    "####        4. identity operator (is,is not)\n",
    "####        5. bit wise operator (&,!,^,~,<<,>>)\n",
    "####        6. Logical operator (and,or,not)\n",
    "####        7. membership operator (in,not in)"
   ]
  },
  {
   "cell_type": "markdown",
   "metadata": {},
   "source": [
    "#### 4. syntax for slicing?"
   ]
  },
  {
   "cell_type": "markdown",
   "metadata": {},
   "source": [
    "#### ANS:[start:stop:step]"
   ]
  },
  {
   "cell_type": "markdown",
   "metadata": {},
   "source": [
    "#### 5.how many types of slicing?"
   ]
  },
  {
   "cell_type": "markdown",
   "metadata": {},
   "source": [
    "#### ANS: There are two types of slicing\n",
    "####      1.positive slicing \n",
    "####      2. negative slicing"
   ]
  },
  {
   "cell_type": "markdown",
   "metadata": {},
   "source": [
    "##### 6. syntax for positive and negative slicing ?"
   ]
  },
  {
   "cell_type": "markdown",
   "metadata": {},
   "source": [
    "#### ANS: positive slicing:\n",
    "####      1.starting value should be less than stopping value\n",
    "####      2. [start < stop ]\n",
    "####      3.[n=0:n=n-1:n=1]\n",
    "####     2.NEGATIVE SLICING \n",
    "####      1. strarting value should be grater than the  stoping value \n",
    "####      2. [start > stop]\n",
    "####      3. [n=-1,n=n+1,n=-1]\n"
   ]
  },
  {
   "cell_type": "markdown",
   "metadata": {},
   "source": [
    "#### 7. How do we use start and stop in positive slicing explain by a exampel?"
   ]
  },
  {
   "cell_type": "markdown",
   "metadata": {},
   "source": [
    "#### ANS:\n",
    "#### let  us take a =[1,2,3,4,5,6,7]\n",
    "####    the above is the set of list which is assing to \"a\"\n",
    "    "
   ]
  },
  {
   "cell_type": "code",
   "execution_count": 5,
   "metadata": {},
   "outputs": [
    {
     "data": {
      "text/plain": [
       "[2, 3, 4]"
      ]
     },
     "execution_count": 5,
     "metadata": {},
     "output_type": "execute_result"
    }
   ],
   "source": [
    "a=[1,2,3,4,5,6,7]\n",
    "a[1:4]"
   ]
  },
  {
   "cell_type": "markdown",
   "metadata": {},
   "source": [
    "#### In the above example we have taken a[1:4]\n",
    "####  IN this\"1\" is the starting index point \n",
    "#### In this \"4\" is the ending index point \n",
    "####  index point start form \"0 to 6\"in the above example \n",
    "####  in the above example we have given print 1 to 4 \n",
    "#### start at index 1=2 and 3=4"
   ]
  },
  {
   "cell_type": "markdown",
   "metadata": {},
   "source": [
    "#### 8.what is list comprehension ? explain with syntax?"
   ]
  },
  {
   "cell_type": "markdown",
   "metadata": {},
   "source": [
    "#### Ans: list comprehension is nothing but making a list by appling logic in it is called as list comprehension\n",
    "####  syntax: [ <expression.>  for <var.> in <iterable.> if <.condition>]"
   ]
  },
  {
   "cell_type": "markdown",
   "metadata": {},
   "source": [
    "#### 9.write a program using list comprahension print no even or odd in range 9 ?"
   ]
  },
  {
   "cell_type": "code",
   "execution_count": 6,
   "metadata": {},
   "outputs": [
    {
     "data": {
      "text/plain": [
       "['even', 'odd', 'even', 'odd', 'even', 'odd', 'even', 'odd', 'even']"
      ]
     },
     "execution_count": 6,
     "metadata": {},
     "output_type": "execute_result"
    }
   ],
   "source": [
    "[\"even\" if i%2==0 else \"odd\" for i in range(9)]"
   ]
  },
  {
   "cell_type": "code",
   "execution_count": null,
   "metadata": {},
   "outputs": [],
   "source": [
    "#### 10. write an example in  list compreshion using starting and end point? "
   ]
  },
  {
   "cell_type": "code",
   "execution_count": 19,
   "metadata": {},
   "outputs": [
    {
     "name": "stdout",
     "output_type": "stream",
     "text": [
      "1\n",
      "200\n",
      "3\n",
      "400\n",
      "5\n",
      "600\n",
      "7\n",
      "800\n",
      "9\n",
      "1000\n",
      "11\n",
      "1200\n",
      "13\n",
      "1400\n"
     ]
    }
   ],
   "source": [
    "for x in range (1,15):\n",
    "    if x%2:\n",
    "        print(x)\n",
    "    else:\n",
    "        print(x*100)"
   ]
  },
  {
   "cell_type": "code",
   "execution_count": null,
   "metadata": {},
   "outputs": [],
   "source": []
  }
 ],
 "metadata": {
  "kernelspec": {
   "display_name": "Python 3",
   "language": "python",
   "name": "python3"
  },
  "language_info": {
   "codemirror_mode": {
    "name": "ipython",
    "version": 3
   },
   "file_extension": ".py",
   "mimetype": "text/x-python",
   "name": "python",
   "nbconvert_exporter": "python",
   "pygments_lexer": "ipython3",
   "version": "3.7.4"
  }
 },
 "nbformat": 4,
 "nbformat_minor": 2
}
