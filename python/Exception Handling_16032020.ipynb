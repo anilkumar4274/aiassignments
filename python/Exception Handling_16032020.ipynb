{
 "cells": [
  {
   "cell_type": "markdown",
   "metadata": {},
   "source": [
    "try block - lets you test a block of code for errors.\n",
    "\n",
    "except block - lets you handle the error.\n",
    "\n",
    "finally block - lets you execute code, regardless of the result of try and except block."
   ]
  },
  {
   "cell_type": "code",
   "execution_count": 1,
   "metadata": {},
   "outputs": [
    {
     "ename": "ZeroDivisionError",
     "evalue": "division by zero",
     "output_type": "error",
     "traceback": [
      "\u001b[1;31m---------------------------------------------------------------------------\u001b[0m",
      "\u001b[1;31mZeroDivisionError\u001b[0m                         Traceback (most recent call last)",
      "\u001b[1;32m<ipython-input-1-e574edb36883>\u001b[0m in \u001b[0;36m<module>\u001b[1;34m\u001b[0m\n\u001b[1;32m----> 1\u001b[1;33m \u001b[1;36m10\u001b[0m\u001b[1;33m/\u001b[0m\u001b[1;36m0\u001b[0m\u001b[1;33m\u001b[0m\u001b[1;33m\u001b[0m\u001b[0m\n\u001b[0m",
      "\u001b[1;31mZeroDivisionError\u001b[0m: division by zero"
     ]
    }
   ],
   "source": [
    "10/0"
   ]
  },
  {
   "cell_type": "code",
   "execution_count": 2,
   "metadata": {},
   "outputs": [
    {
     "ename": "NameError",
     "evalue": "name 'pinr' is not defined",
     "output_type": "error",
     "traceback": [
      "\u001b[1;31m---------------------------------------------------------------------------\u001b[0m",
      "\u001b[1;31mNameError\u001b[0m                                 Traceback (most recent call last)",
      "\u001b[1;32m<ipython-input-2-67d56fe6b7a7>\u001b[0m in \u001b[0;36m<module>\u001b[1;34m\u001b[0m\n\u001b[1;32m----> 1\u001b[1;33m \u001b[0mpinr\u001b[0m\u001b[1;33m(\u001b[0m\u001b[1;34m'hello world'\u001b[0m\u001b[1;33m)\u001b[0m\u001b[1;33m\u001b[0m\u001b[1;33m\u001b[0m\u001b[0m\n\u001b[0m",
      "\u001b[1;31mNameError\u001b[0m: name 'pinr' is not defined"
     ]
    }
   ],
   "source": [
    "pinr('hello world')"
   ]
  },
  {
   "cell_type": "code",
   "execution_count": 18,
   "metadata": {},
   "outputs": [
    {
     "name": "stdout",
     "output_type": "stream",
     "text": [
      "0\n",
      "b is  0\n",
      "oops <class 'ZeroDivisionError'> occured.\n",
      "next entry.\n",
      "\n",
      "a\n",
      "b is  a\n",
      "oops <class 'ValueError'> occured.\n",
      "next entry.\n",
      "\n",
      "2\n",
      "b is  2\n",
      "0.5\n",
      "5\n",
      "b is  5\n",
      "0.2\n",
      "the reciprocal of 0.2 is 0.2\n"
     ]
    }
   ],
   "source": [
    "import sys\n",
    "a=[0,'a',2,5]\n",
    "for b in a:\n",
    "    print(b)\n",
    "    try:\n",
    "        print('b is ',b)\n",
    "        r=1/int(b)\n",
    "        print(r)\n",
    "    except:\n",
    "        print('oops',sys.exc_info()[0],'occured.')\n",
    "        print('next entry.')\n",
    "        print()\n",
    "print(\"the reciprocal of\",r,\"is\",r)"
   ]
  },
  {
   "cell_type": "code",
   "execution_count": 21,
   "metadata": {},
   "outputs": [
    {
     "name": "stdout",
     "output_type": "stream",
     "text": [
      "0\n",
      "b is  0\n",
      "oops <class 'ZeroDivisionError'> occured.\n",
      "next entry.\n",
      "\n",
      "a\n",
      "b is  a\n",
      "oops <class 'ValueError'> occured.\n",
      "next entry.\n",
      "\n",
      "2\n",
      "b is  2\n",
      "0.5\n",
      "5\n",
      "b is  5\n",
      "0.2\n",
      "the reciprocal of 0.2 is 0.2\n"
     ]
    }
   ],
   "source": [
    "import sys\n",
    "a=[0,'a',2,5]\n",
    "for b in a:\n",
    "    print(b)\n",
    "    try:\n",
    "        print('b is ',b)\n",
    "        r=1/int(b)\n",
    "        print(r)\n",
    "    except ValueError:\n",
    "        print('oops',sys.exc_info()[0],'occured.')\n",
    "        print('next entry.')\n",
    "        print()\n",
    "    except ZeroDivisionError:\n",
    "        print('oops',sys.exc_info()[0],'occured.')\n",
    "        print('next entry.')\n",
    "        print()\n",
    "print(\"the reciprocal of\",r,\"is\",r)"
   ]
  },
  {
   "cell_type": "code",
   "execution_count": 22,
   "metadata": {},
   "outputs": [
    {
     "name": "stdout",
     "output_type": "stream",
     "text": [
      "0\n",
      "b is  0\n",
      "oops <class 'ZeroDivisionError'> occured.\n",
      "next entry.\n",
      "\n",
      "a\n",
      "b is  a\n",
      "oops <class 'ValueError'> occured.\n",
      "next entry.\n",
      "\n",
      "2\n",
      "b is  2\n",
      "0.5\n",
      "5\n",
      "b is  5\n",
      "0.2\n",
      "the reciprocal of 0.2 is 0.2\n"
     ]
    }
   ],
   "source": [
    "import sys\n",
    "a=[0,'a',2,5]\n",
    "for b in a:\n",
    "    print(b)\n",
    "    try:\n",
    "        print('b is ',b)\n",
    "        r=1/int(b)\n",
    "        print(r)\n",
    "    except (ValueError,ZeroDivisionError):\n",
    "        print('oops',sys.exc_info()[0],'occured.')\n",
    "        print('next entry.')\n",
    "        print()\n",
    "print(\"the reciprocal of\",r,\"is\",r)"
   ]
  },
  {
   "cell_type": "markdown",
   "metadata": {},
   "source": [
    "# Raising Exceptions"
   ]
  },
  {
   "cell_type": "code",
   "execution_count": 30,
   "metadata": {},
   "outputs": [
    {
     "name": "stdout",
     "output_type": "stream",
     "text": [
      "Enter a positive integer:-10\n",
      "That is not a positive number!\n"
     ]
    }
   ],
   "source": [
    "try:\n",
    "    a=int(input('Enter a positive integer:'))\n",
    "    if a <= 0:\n",
    "        raise ValueError(\"That is not a positive number!\")\n",
    "except ValueError as ve:\n",
    "    print(ve)"
   ]
  },
  {
   "cell_type": "markdown",
   "metadata": {},
   "source": [
    "##### try..except..else..finally"
   ]
  },
  {
   "cell_type": "code",
   "execution_count": 41,
   "metadata": {},
   "outputs": [
    {
     "name": "stdout",
     "output_type": "stream",
     "text": [
      "printing else block\n",
      "executing finally block\n"
     ]
    }
   ],
   "source": [
    "try:\n",
    "    f=open('text.txt','w+',encoding='utf-8')\n",
    "except:\n",
    "    print('file not found')\n",
    "    import sys\n",
    "    print(sys.exc_info()[0])\n",
    "else:\n",
    "    print('printing else block')\n",
    "finally:\n",
    "    print('executing finally block')"
   ]
  }
 ],
 "metadata": {
  "kernelspec": {
   "display_name": "Python 3",
   "language": "python",
   "name": "python3"
  },
  "language_info": {
   "codemirror_mode": {
    "name": "ipython",
    "version": 3
   },
   "file_extension": ".py",
   "mimetype": "text/x-python",
   "name": "python",
   "nbconvert_exporter": "python",
   "pygments_lexer": "ipython3",
   "version": "3.7.3"
  }
 },
 "nbformat": 4,
 "nbformat_minor": 2
}
