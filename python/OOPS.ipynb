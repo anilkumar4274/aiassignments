{
 "cells": [
  {
   "cell_type": "markdown",
   "metadata": {},
   "source": [
    "Today's Agenda:\n",
    "\n",
    "1. Relation Between Classes and Objects\n",
    "2. Creating a class\n",
    "3. Scope Of variables\n",
    "4. Attributes\n",
    "5. Class Variable and Instance Variable\n",
    "6. Constructor and Destructor\n",
    "7. Multiple Constructor\n",
    "8. Polymorphism\n",
    "9. Getter and Setter Methods\n",
    "10. Inheritence\n",
    "11. Overriding Methods"
   ]
  },
  {
   "cell_type": "raw",
   "metadata": {},
   "source": [
    "History:\n",
    "Machine Language Programming\n",
    "Assembly Language Programming\n",
    "Structed Programming (or) Procedural Programming ex: c langauge\n"
   ]
  },
  {
   "cell_type": "raw",
   "metadata": {},
   "source": [
    "Object Oriented Concepts\n",
    "1. Data becomes active\n",
    "2. Code is reusable, thus less code may have to be written\n",
    "3. Ability to simulate real world events much more effectively\n",
    "4. Programmer is able to produce faster, more accurate and better written applications"
   ]
  },
  {
   "cell_type": "markdown",
   "metadata": {},
   "source": [
    "Class is a blueprint used to create objects having same property or attribute as its class.\n",
    "\n",
    "An Object is an instance of a class which contains variables and methods"
   ]
  },
  {
   "cell_type": "markdown",
   "metadata": {},
   "source": [
    "# Relation Between Classes and Objects"
   ]
  },
  {
   "cell_type": "markdown",
   "metadata": {},
   "source": [
    "1. A class is a template for objects. It contains the code for all the object's methods\n",
    "\n",
    "2. A class describes the abstract characteristics of a real-life thing\n",
    "\n",
    "3. An instance is an object of a class created at run-time\n",
    "\n",
    "4. There can be multiple instances of a class"
   ]
  },
  {
   "cell_type": "markdown",
   "metadata": {},
   "source": [
    "# Creating a Class"
   ]
  },
  {
   "cell_type": "raw",
   "metadata": {},
   "source": [
    "class_name(object):\n",
    "    statement(s)"
   ]
  },
  {
   "cell_type": "code",
   "execution_count": 1,
   "metadata": {},
   "outputs": [],
   "source": [
    "class ao():\n",
    "    pass"
   ]
  },
  {
   "cell_type": "code",
   "execution_count": 2,
   "metadata": {},
   "outputs": [
    {
     "name": "stdout",
     "output_type": "stream",
     "text": [
      "<__main__.ao object at 0x0000020B29DD7D30>\n"
     ]
    }
   ],
   "source": [
    "x=ao()\n",
    "print(x)"
   ]
  },
  {
   "cell_type": "raw",
   "metadata": {},
   "source": [
    "Method Definition: 'self' points to the class. ob is the object of class. Instead of self.Hello(), we write ob.Hello()"
   ]
  },
  {
   "cell_type": "markdown",
   "metadata": {},
   "source": [
    "# Function"
   ]
  },
  {
   "cell_type": "code",
   "execution_count": 5,
   "metadata": {},
   "outputs": [
    {
     "name": "stdout",
     "output_type": "stream",
     "text": [
      "hello\n"
     ]
    },
    {
     "data": {
      "text/plain": [
       "5"
      ]
     },
     "execution_count": 5,
     "metadata": {},
     "output_type": "execute_result"
    }
   ],
   "source": [
    "print('hello')\n",
    "len('hello')"
   ]
  },
  {
   "cell_type": "markdown",
   "metadata": {},
   "source": [
    "# Method"
   ]
  },
  {
   "cell_type": "code",
   "execution_count": 4,
   "metadata": {},
   "outputs": [
    {
     "data": {
      "text/plain": [
       "[1]"
      ]
     },
     "execution_count": 4,
     "metadata": {},
     "output_type": "execute_result"
    }
   ],
   "source": [
    "a=[]\n",
    "a.append(1)\n",
    "a"
   ]
  },
  {
   "cell_type": "code",
   "execution_count": 6,
   "metadata": {},
   "outputs": [],
   "source": [
    "#### Example 2\n",
    "class name():\n",
    "    def Hello(self):\n",
    "        print('machine learning')"
   ]
  },
  {
   "cell_type": "code",
   "execution_count": 7,
   "metadata": {},
   "outputs": [
    {
     "name": "stdout",
     "output_type": "stream",
     "text": [
      "machine learning\n"
     ]
    }
   ],
   "source": [
    "ob=name()\n",
    "ob.Hello()"
   ]
  },
  {
   "cell_type": "markdown",
   "metadata": {},
   "source": [
    "# Scope Of Variables:\n",
    "\n",
    "Global Variables\n",
    "\n",
    "Local Variables"
   ]
  },
  {
   "cell_type": "code",
   "execution_count": 26,
   "metadata": {},
   "outputs": [],
   "source": [
    "b=25\n",
    "class Demo():\n",
    "    c=120"
   ]
  },
  {
   "cell_type": "code",
   "execution_count": 27,
   "metadata": {},
   "outputs": [
    {
     "name": "stdout",
     "output_type": "stream",
     "text": [
      "25\n"
     ]
    }
   ],
   "source": [
    "print(b)"
   ]
  },
  {
   "cell_type": "code",
   "execution_count": 32,
   "metadata": {},
   "outputs": [
    {
     "data": {
      "text/plain": [
       "120"
      ]
     },
     "execution_count": 32,
     "metadata": {},
     "output_type": "execute_result"
    }
   ],
   "source": [
    "Demo.c"
   ]
  },
  {
   "cell_type": "code",
   "execution_count": 33,
   "metadata": {},
   "outputs": [
    {
     "data": {
      "text/plain": [
       "120"
      ]
     },
     "execution_count": 33,
     "metadata": {},
     "output_type": "execute_result"
    }
   ],
   "source": [
    "aa=Demo()\n",
    "aa.c"
   ]
  },
  {
   "cell_type": "code",
   "execution_count": 10,
   "metadata": {},
   "outputs": [
    {
     "name": "stdout",
     "output_type": "stream",
     "text": [
      "120\n"
     ]
    }
   ],
   "source": [
    "print(Demo.a)"
   ]
  },
  {
   "cell_type": "code",
   "execution_count": 19,
   "metadata": {},
   "outputs": [],
   "source": [
    "a=20\n",
    "def abc():\n",
    "    global a\n",
    "    print(a)\n",
    "    a='happy learning'\n",
    "    print(a)"
   ]
  },
  {
   "cell_type": "code",
   "execution_count": 20,
   "metadata": {
    "scrolled": true
   },
   "outputs": [
    {
     "name": "stdout",
     "output_type": "stream",
     "text": [
      "20\n",
      "happy learning\n"
     ]
    }
   ],
   "source": [
    "abc()"
   ]
  },
  {
   "cell_type": "code",
   "execution_count": 21,
   "metadata": {},
   "outputs": [
    {
     "data": {
      "text/plain": [
       "'happy learning'"
      ]
     },
     "execution_count": 21,
     "metadata": {},
     "output_type": "execute_result"
    }
   ],
   "source": [
    "a"
   ]
  },
  {
   "cell_type": "markdown",
   "metadata": {},
   "source": [
    "# Attributes:\n",
    "\n",
    "Class attributes are attributes which are owned by the class itself. They will be shared by all the instances of the class.\n",
    "\n",
    "There are two Types of Attributes:\n",
    "\n",
    "1. Built-in Attributes\n",
    "\n",
    "2. User Defined Attributes"
   ]
  },
  {
   "cell_type": "markdown",
   "metadata": {},
   "source": [
    "# Built-in Attributes"
   ]
  },
  {
   "cell_type": "raw",
   "metadata": {},
   "source": [
    "#Dictionary containing the class's namespace\n",
    "print('how.__dict__: ',how.__dict__)\n",
    "\n",
    "#Class documentation string or None if undefined\n",
    "print('how.__doc__: ',how.__doc__)\n",
    "\n",
    "#class name\n",
    "print('how.__name__: ',how.__name__)\n",
    "\n",
    "#Module name in which the class is defined\n",
    "print('how.__module__: ',how.__module__)\n",
    "\n",
    "#A possibly empty tuple containing the base classes, in the order of their occurence in the base class list\n",
    "print('how.__bases__: ',how.__bases__)"
   ]
  },
  {
   "cell_type": "code",
   "execution_count": 5,
   "metadata": {},
   "outputs": [],
   "source": [
    "class how:\n",
    "    '''\n",
    "        machine learning\n",
    "        deep learning\n",
    "        natural langauge processing\n",
    "    '''"
   ]
  },
  {
   "cell_type": "code",
   "execution_count": 6,
   "metadata": {},
   "outputs": [
    {
     "name": "stdout",
     "output_type": "stream",
     "text": [
      "how.__dict__:  {'__module__': '__main__', '__doc__': '\\n        machine learning\\n        deep learning\\n        natural langauge processing\\n    ', '__dict__': <attribute '__dict__' of 'how' objects>, '__weakref__': <attribute '__weakref__' of 'how' objects>}\n"
     ]
    }
   ],
   "source": [
    "print('how.__dict__: ',how.__dict__)"
   ]
  },
  {
   "cell_type": "code",
   "execution_count": 7,
   "metadata": {},
   "outputs": [
    {
     "name": "stdout",
     "output_type": "stream",
     "text": [
      "how.__doc__:  \n",
      "        machine learning\n",
      "        deep learning\n",
      "        natural langauge processing\n",
      "    \n"
     ]
    }
   ],
   "source": [
    "print('how.__doc__: ',how.__doc__)"
   ]
  },
  {
   "cell_type": "code",
   "execution_count": 8,
   "metadata": {},
   "outputs": [
    {
     "name": "stdout",
     "output_type": "stream",
     "text": [
      "how.__name__:  how\n"
     ]
    }
   ],
   "source": [
    "print('how.__name__: ',how.__name__)"
   ]
  },
  {
   "cell_type": "code",
   "execution_count": 9,
   "metadata": {},
   "outputs": [
    {
     "name": "stdout",
     "output_type": "stream",
     "text": [
      "how.__module__:  __main__\n"
     ]
    }
   ],
   "source": [
    "print('how.__module__: ',how.__module__)"
   ]
  },
  {
   "cell_type": "code",
   "execution_count": 10,
   "metadata": {},
   "outputs": [
    {
     "name": "stdout",
     "output_type": "stream",
     "text": [
      "how.__bases__:  (<class 'object'>,)\n"
     ]
    }
   ],
   "source": [
    "print('how.__bases__: ',how.__bases__)"
   ]
  },
  {
   "cell_type": "markdown",
   "metadata": {},
   "source": [
    "# Attributes Defined by Users"
   ]
  },
  {
   "cell_type": "markdown",
   "metadata": {},
   "source": [
    "1. Attributes are created inside the class definition.\n",
    "2. We can dynamically create new attributes for existing instances of a class."
   ]
  },
  {
   "cell_type": "code",
   "execution_count": 26,
   "metadata": {},
   "outputs": [
    {
     "name": "stdout",
     "output_type": "stream",
     "text": [
      "today is 10\n",
      "today is 10\n",
      "today is 15\n",
      "today is 15.500000\n",
      "<class 'str'>\n"
     ]
    },
    {
     "data": {
      "text/plain": [
       "int"
      ]
     },
     "execution_count": 26,
     "metadata": {},
     "output_type": "execute_result"
    }
   ],
   "source": [
    "a,b,c='thursday',10,15.5\n",
    "#print(\"today is %s\" %a)\n",
    "#print(\"{} is {}\".format(a,b))\n",
    "print(\"today is %s\" %b)\n",
    "print(\"today is %d\" %b)\n",
    "print(\"today is %d\" %c)\n",
    "print(\"today is %f\" %c)\n",
    "print(type(a))\n",
    "type(b)"
   ]
  },
  {
   "cell_type": "code",
   "execution_count": 24,
   "metadata": {},
   "outputs": [],
   "source": [
    "class Foo(object):\n",
    "    def math(self):\n",
    "        pass"
   ]
  },
  {
   "cell_type": "markdown",
   "metadata": {},
   "source": [
    "Three Types of Attributes:\n",
    "1. Private(Prefix with \"__\"): Private attributes can only be accessed inside of the class definition\n",
    "2. Public: Public attributes can and should be, freely used\n",
    "3. Protected(Prefix with \"_\"): Protected attributes are accessible only from within the class and it's subclasses."
   ]
  },
  {
   "cell_type": "code",
   "execution_count": 39,
   "metadata": {},
   "outputs": [],
   "source": [
    "a=('I am public variable not in class')\n",
    "_b=('I am protected variable not in class')\n",
    "__c=('I am private variable not in class')"
   ]
  },
  {
   "cell_type": "code",
   "execution_count": 84,
   "metadata": {},
   "outputs": [],
   "source": [
    "class cc():\n",
    "    def __init__(self):\n",
    "        self.__pri=('I am Private local variable inside a class')\n",
    "        self._pro=('I am Protected local variable inside a class')\n",
    "        self.pub=('I am public local variable inside a class')\n",
    "        #self.ppub=('I am public method variable inside a class')\n",
    "        #self._ppro=('I am protected method variable inside a class')\n",
    "    def publicmethod(self,ppub):\n",
    "        return \"%s\"%ppub\n",
    "    def _protectedmethod(self,_ppro):\n",
    "        return _ppro\n",
    "    def __privatemethod(self,__prim):\n",
    "        self.__prim=('I am Private varialbe inside a private method ')\n",
    "        print('i am private method')\n",
    "    def __privatemethod1(self,__primv):\n",
    "        return \"%s\"%__primv"
   ]
  },
  {
   "cell_type": "code",
   "execution_count": 87,
   "metadata": {
    "scrolled": true
   },
   "outputs": [
    {
     "name": "stdout",
     "output_type": "stream",
     "text": [
      "I am public local variable inside a class\n",
      "I am Protected local variable inside a class\n",
      "I am Private local variable inside a class\n",
      "10\n",
      "10\n"
     ]
    }
   ],
   "source": [
    "ob=cc()\n",
    "print(ob.pub)\n",
    "print(ob._pro)\n",
    "print(ob._cc__pri)\n",
    "print(ob.publicmethod(10))\n",
    "print(ob._protectedmethod(10))"
   ]
  },
  {
   "cell_type": "code",
   "execution_count": 88,
   "metadata": {},
   "outputs": [
    {
     "data": {
      "text/plain": [
       "{'_cc__pri': 'I am Private local variable inside a class',\n",
       " '_pro': 'I am Protected local variable inside a class',\n",
       " 'pub': 'I am public local variable inside a class'}"
      ]
     },
     "execution_count": 88,
     "metadata": {},
     "output_type": "execute_result"
    }
   ],
   "source": [
    "ob.__dict__"
   ]
  },
  {
   "cell_type": "code",
   "execution_count": 89,
   "metadata": {
    "scrolled": true
   },
   "outputs": [
    {
     "name": "stdout",
     "output_type": "stream",
     "text": [
      "i am private method\n"
     ]
    },
    {
     "data": {
      "text/plain": [
       "'anil'"
      ]
     },
     "execution_count": 89,
     "metadata": {},
     "output_type": "execute_result"
    }
   ],
   "source": [
    "ob=cc()\n",
    "ob._cc__privatemethod(10)\n",
    "ob._cc__privatemethod1('anil')"
   ]
  },
  {
   "cell_type": "code",
   "execution_count": 90,
   "metadata": {},
   "outputs": [
    {
     "data": {
      "text/plain": [
       "'I am Private local variable inside a class'"
      ]
     },
     "execution_count": 90,
     "metadata": {},
     "output_type": "execute_result"
    }
   ],
   "source": [
    "ob._cc__pri"
   ]
  },
  {
   "cell_type": "markdown",
   "metadata": {},
   "source": [
    "# Class Variable and Instance Variable"
   ]
  },
  {
   "cell_type": "code",
   "execution_count": 100,
   "metadata": {},
   "outputs": [],
   "source": [
    "#defining a class variable\n",
    "class mlearn():\n",
    "    domain='data science'\n",
    "    def Setcourse(self,name):\n",
    "        self.name=name"
   ]
  },
  {
   "cell_type": "code",
   "execution_count": 107,
   "metadata": {},
   "outputs": [],
   "source": [
    "#defining an instance of class mlearn\n",
    "ob1=mlearn()\n",
    "ob2=mlearn()"
   ]
  },
  {
   "cell_type": "code",
   "execution_count": 108,
   "metadata": {},
   "outputs": [
    {
     "name": "stdout",
     "output_type": "stream",
     "text": [
      "data science\n",
      "GOD\n",
      "data science\n"
     ]
    }
   ],
   "source": [
    "print(ob1.domain)\n",
    "#instance variable\n",
    "ob1.domain='GOD'\n",
    "#class variable is shared by both instances ob1 and ob2\n",
    "print(ob1.domain)\n",
    "print(ob2.domain)"
   ]
  },
  {
   "cell_type": "code",
   "execution_count": 44,
   "metadata": {},
   "outputs": [],
   "source": [
    "ob1.Setcourse('Python')\n",
    "ob2.Setcourse('Machine Learning')"
   ]
  },
  {
   "cell_type": "code",
   "execution_count": 45,
   "metadata": {},
   "outputs": [
    {
     "name": "stdout",
     "output_type": "stream",
     "text": [
      "Python\n",
      "Machine Learning\n"
     ]
    }
   ],
   "source": [
    "#instance variable is unique to each instance\n",
    "print(ob1.name)\n",
    "print(ob2.name)"
   ]
  },
  {
   "cell_type": "markdown",
   "metadata": {},
   "source": [
    "# Constructor and Destructor"
   ]
  },
  {
   "cell_type": "raw",
   "metadata": {},
   "source": [
    "The constructor is implemented using __init__(self) which you can define parameters that follows the self"
   ]
  },
  {
   "cell_type": "raw",
   "metadata": {},
   "source": [
    "The destructor is defined using __del__(self). In the below example, the obj is created and manually deleted, therefore, both messages will be displayed."
   ]
  },
  {
   "cell_type": "code",
   "execution_count": 109,
   "metadata": {},
   "outputs": [],
   "source": [
    "class TestClass:\n",
    "    def __init__(self):\n",
    "        print('constructor')\n",
    "    def __del__(self):\n",
    "        print('destructor')"
   ]
  },
  {
   "cell_type": "code",
   "execution_count": 110,
   "metadata": {},
   "outputs": [
    {
     "name": "stdout",
     "output_type": "stream",
     "text": [
      "TestClass\n"
     ]
    }
   ],
   "source": [
    "print(TestClass.__name__)"
   ]
  },
  {
   "cell_type": "code",
   "execution_count": 111,
   "metadata": {},
   "outputs": [
    {
     "name": "stdout",
     "output_type": "stream",
     "text": [
      "__main__\n"
     ]
    }
   ],
   "source": [
    "print(__name__)"
   ]
  },
  {
   "cell_type": "code",
   "execution_count": 112,
   "metadata": {},
   "outputs": [
    {
     "data": {
      "text/plain": [
       "'__main__'"
      ]
     },
     "execution_count": 112,
     "metadata": {},
     "output_type": "execute_result"
    }
   ],
   "source": [
    "TestClass.__module__"
   ]
  },
  {
   "cell_type": "code",
   "execution_count": 113,
   "metadata": {},
   "outputs": [
    {
     "ename": "NameError",
     "evalue": "name 'a' is not defined",
     "output_type": "error",
     "traceback": [
      "\u001b[1;31m---------------------------------------------------------------------------\u001b[0m",
      "\u001b[1;31mNameError\u001b[0m                                 Traceback (most recent call last)",
      "\u001b[1;32m<ipython-input-113-2f96ca7ec85c>\u001b[0m in \u001b[0;36m<module>\u001b[1;34m\u001b[0m\n\u001b[0;32m      1\u001b[0m \u001b[0ma\u001b[0m\u001b[1;33m=\u001b[0m\u001b[1;36m10\u001b[0m\u001b[1;33m\u001b[0m\u001b[1;33m\u001b[0m\u001b[0m\n\u001b[0;32m      2\u001b[0m \u001b[1;32mdel\u001b[0m \u001b[0ma\u001b[0m\u001b[1;33m\u001b[0m\u001b[1;33m\u001b[0m\u001b[0m\n\u001b[1;32m----> 3\u001b[1;33m \u001b[0ma\u001b[0m\u001b[1;33m\u001b[0m\u001b[1;33m\u001b[0m\u001b[0m\n\u001b[0m",
      "\u001b[1;31mNameError\u001b[0m: name 'a' is not defined"
     ]
    }
   ],
   "source": [
    "a=10\n",
    "del a\n",
    "a"
   ]
  },
  {
   "cell_type": "code",
   "execution_count": 114,
   "metadata": {},
   "outputs": [
    {
     "name": "stdout",
     "output_type": "stream",
     "text": [
      "constructor\n",
      "destructor\n"
     ]
    }
   ],
   "source": [
    "if __name__=='__main__':\n",
    "    obj=TestClass()\n",
    "    del obj"
   ]
  },
  {
   "cell_type": "markdown",
   "metadata": {},
   "source": [
    "# Multiple Constructors"
   ]
  },
  {
   "cell_type": "raw",
   "metadata": {},
   "source": [
    "Decorator - @classmethod"
   ]
  },
  {
   "cell_type": "code",
   "execution_count": 108,
   "metadata": {},
   "outputs": [],
   "source": [
    "class Date:\n",
    "    def __init__(self,year,month,day):\n",
    "        self.year=year\n",
    "        self.month=month\n",
    "        self.day=day\n",
    "        \n",
    "    @classmethod\n",
    "    def dmy(cls,day,month,year):\n",
    "        cls.year=year\n",
    "        cls.month=month\n",
    "        cls.day=day\n",
    "        return cls(cls.year,cls.month,cls.day)   \n",
    "        \n",
    "    @classmethod\n",
    "    def mdy(cls,month,day,year):\n",
    "        cls.year=year\n",
    "        cls.month=month\n",
    "        cls.day=day\n",
    "        return cls(cls.year,cls.month,cls.day)"
   ]
  },
  {
   "cell_type": "code",
   "execution_count": 2,
   "metadata": {},
   "outputs": [
    {
     "name": "stdout",
     "output_type": "stream",
     "text": [
      "2019\n"
     ]
    }
   ],
   "source": [
    "#normal object, instance creation\n",
    "a=Date(2019,5,5)\n",
    "print(a.year)"
   ]
  },
  {
   "cell_type": "code",
   "execution_count": 109,
   "metadata": {},
   "outputs": [
    {
     "name": "stdout",
     "output_type": "stream",
     "text": [
      "2019\n"
     ]
    }
   ],
   "source": [
    "#constructor object, instance creation\n",
    "b=Date.dmy(9,9,2019)\n",
    "print(b.year)"
   ]
  },
  {
   "cell_type": "code",
   "execution_count": 4,
   "metadata": {},
   "outputs": [
    {
     "name": "stdout",
     "output_type": "stream",
     "text": [
      "9\n"
     ]
    }
   ],
   "source": [
    "a=Date.mdy(9,9,2017)\n",
    "print(b.day)"
   ]
  },
  {
   "cell_type": "markdown",
   "metadata": {},
   "source": [
    "# Polymorphism"
   ]
  },
  {
   "cell_type": "markdown",
   "metadata": {},
   "source": [
    "1. Polymorphism is the ability to leverage the same interface for different underlying forms such as data types or classes.\n",
    "\n",
    "2. Polymorphism is an important feature of class definition in Python that is utilized when you have commonly named methods across classes or subclasses"
   ]
  },
  {
   "cell_type": "code",
   "execution_count": 117,
   "metadata": {},
   "outputs": [],
   "source": [
    "class Animal:\n",
    "    #def __init(self,name):\n",
    "     #   self.name==name\n",
    "    def talk(self):\n",
    "        pass\n",
    "class Cat(Animal):\n",
    "    def talk(self):\n",
    "        print(\"Meow\")\n",
    "class Dog(Animal):\n",
    "    def talk(self):\n",
    "        print(\"woof\")"
   ]
  },
  {
   "cell_type": "code",
   "execution_count": 118,
   "metadata": {},
   "outputs": [
    {
     "name": "stdout",
     "output_type": "stream",
     "text": [
      "Meow\n"
     ]
    }
   ],
   "source": [
    "c=Cat()\n",
    "c.talk()"
   ]
  },
  {
   "cell_type": "code",
   "execution_count": 120,
   "metadata": {},
   "outputs": [
    {
     "name": "stdout",
     "output_type": "stream",
     "text": [
      "woof\n"
     ]
    }
   ],
   "source": [
    "d=Dog()\n",
    "d.talk()"
   ]
  },
  {
   "cell_type": "markdown",
   "metadata": {},
   "source": [
    "# Getter and Setter Methods\n",
    "\n",
    "Setter Methods: The methods used for changing the values of attributes are called Setter Methods\n",
    "\n",
    "Getter Methdos: The methods for retrieving or accessing the values of attributes are called Getter Methods\n"
   ]
  },
  {
   "cell_type": "code",
   "execution_count": 9,
   "metadata": {},
   "outputs": [],
   "source": [
    "class an:\n",
    "    def __init__(self,courseName):\n",
    "        self.courseName=courseName\n",
    "    def setCourse_Name(self,courseName):\n",
    "        self.courseName=courseName.upper()\n",
    "    def getCourse_Name(self):\n",
    "        return(self.courseName)"
   ]
  },
  {
   "cell_type": "code",
   "execution_count": 10,
   "metadata": {},
   "outputs": [],
   "source": [
    "ob=an('python')"
   ]
  },
  {
   "cell_type": "code",
   "execution_count": 11,
   "metadata": {
    "scrolled": false
   },
   "outputs": [
    {
     "name": "stdout",
     "output_type": "stream",
     "text": [
      "python\n"
     ]
    }
   ],
   "source": [
    "print(ob.getCourse_Name())"
   ]
  },
  {
   "cell_type": "code",
   "execution_count": 12,
   "metadata": {
    "scrolled": true
   },
   "outputs": [
    {
     "name": "stdout",
     "output_type": "stream",
     "text": [
      "MACHINE LEARNING\n"
     ]
    }
   ],
   "source": [
    "ob.setCourse_Name(\"Machine Learning\")\n",
    "print(ob.getCourse_Name())"
   ]
  },
  {
   "cell_type": "markdown",
   "metadata": {},
   "source": [
    "# Inheritence  \n",
    "\n",
    "A class is derived from another class\n",
    "\n",
    "Inheritence[Father(parent)->Son(child)]\n",
    "\n",
    "Types of Inheritence:\n",
    "1. Single Inheritence\n",
    "2. Multiple Inheritence\n",
    "3. Multilevel Inheritence"
   ]
  },
  {
   "cell_type": "markdown",
   "metadata": {},
   "source": [
    "# Single Inheritence"
   ]
  },
  {
   "cell_type": "code",
   "execution_count": 1,
   "metadata": {},
   "outputs": [],
   "source": [
    "class base1:\n",
    "    def fun(self):\n",
    "        print('in class base 1')"
   ]
  },
  {
   "cell_type": "code",
   "execution_count": 2,
   "metadata": {},
   "outputs": [],
   "source": [
    "class sub(base1):\n",
    "    def fun(self):\n",
    "        print('in class sub')"
   ]
  },
  {
   "cell_type": "code",
   "execution_count": 3,
   "metadata": {},
   "outputs": [
    {
     "name": "stdout",
     "output_type": "stream",
     "text": [
      "in class sub\n"
     ]
    }
   ],
   "source": [
    "ob=sub()\n",
    "ob.fun()"
   ]
  },
  {
   "cell_type": "markdown",
   "metadata": {},
   "source": [
    "# Multiple Inheritence (Child Inherited From Two Classes)"
   ]
  },
  {
   "cell_type": "code",
   "execution_count": 121,
   "metadata": {},
   "outputs": [],
   "source": [
    "class First(object):\n",
    "    def __init__(self):\n",
    "        super(First,self).__init__()\n",
    "        print('first')\n",
    "class Second(object):\n",
    "    def __init__(self):\n",
    "        super(Second,self).__init__()\n",
    "        print('Second')\n",
    "class Third(Second,First):\n",
    "    def __init__(self):\n",
    "        super(Third,self).__init__()\n",
    "        print('third')"
   ]
  },
  {
   "cell_type": "code",
   "execution_count": 122,
   "metadata": {},
   "outputs": [
    {
     "name": "stdout",
     "output_type": "stream",
     "text": [
      "first\n",
      "Second\n",
      "third\n"
     ]
    },
    {
     "data": {
      "text/plain": [
       "<__main__.Third at 0x26388040f28>"
      ]
     },
     "execution_count": 122,
     "metadata": {},
     "output_type": "execute_result"
    }
   ],
   "source": [
    "Third()"
   ]
  },
  {
   "cell_type": "markdown",
   "metadata": {},
   "source": [
    "# Multilevel Inheritence"
   ]
  },
  {
   "cell_type": "code",
   "execution_count": 124,
   "metadata": {},
   "outputs": [],
   "source": [
    "class Animal:\n",
    "    def eat(self):\n",
    "        print('Eating...')\n",
    "class Dog(Animal):\n",
    "    def bark(self):\n",
    "        print('Barking...')\n",
    "class BabyDog(Dog):\n",
    "    def weep(self):\n",
    "        print('Weeping..')"
   ]
  },
  {
   "cell_type": "code",
   "execution_count": 125,
   "metadata": {},
   "outputs": [
    {
     "name": "stdout",
     "output_type": "stream",
     "text": [
      "Eating...\n",
      "Barking...\n",
      "Weeping..\n"
     ]
    }
   ],
   "source": [
    "d=BabyDog()\n",
    "d.eat()\n",
    "d.bark()\n",
    "d.weep()"
   ]
  },
  {
   "cell_type": "markdown",
   "metadata": {},
   "source": [
    "# Overriding Method"
   ]
  },
  {
   "cell_type": "markdown",
   "metadata": {},
   "source": [
    "Child class overrides the method written in Parent class"
   ]
  },
  {
   "cell_type": "code",
   "execution_count": 11,
   "metadata": {},
   "outputs": [],
   "source": [
    "class Parent:#define parent class\n",
    "    def myMethod(self):\n",
    "        print('calling parent method')\n",
    "class Child(Parent): #define child class\n",
    "    def myMethod(self):\n",
    "        print('Calling child method')"
   ]
  },
  {
   "cell_type": "code",
   "execution_count": 12,
   "metadata": {},
   "outputs": [
    {
     "name": "stdout",
     "output_type": "stream",
     "text": [
      "Calling child method\n"
     ]
    }
   ],
   "source": [
    "c=Child()#instance of child\n",
    "c.myMethod()#child calls overridden method"
   ]
  },
  {
   "cell_type": "markdown",
   "metadata": {},
   "source": [
    "Another Example # 2 "
   ]
  },
  {
   "cell_type": "code",
   "execution_count": 13,
   "metadata": {},
   "outputs": [],
   "source": [
    "class Rectangle():\n",
    "    def __init__(self,length,breadth):\n",
    "        self.length=length\n",
    "        self.breadth=breadth\n",
    "    def getArea(self):\n",
    "        print(self.length*self.breadth,\"is area of rectangle\")"
   ]
  },
  {
   "cell_type": "code",
   "execution_count": 14,
   "metadata": {},
   "outputs": [],
   "source": [
    "class Square(Rectangle):\n",
    "    def __init__(self,side):\n",
    "        self.side=side\n",
    "        Rectangle.__init__(self,side,side)\n",
    "    #Example - class overriding\n",
    "    def getArea(self):\n",
    "        print(self.side*self.side,'is area of square')"
   ]
  },
  {
   "cell_type": "code",
   "execution_count": 15,
   "metadata": {},
   "outputs": [
    {
     "name": "stdout",
     "output_type": "stream",
     "text": [
      "16 is area of square\n",
      "8 is area of rectangle\n"
     ]
    }
   ],
   "source": [
    "s=Square(4)\n",
    "r=Rectangle(2,4)\n",
    "s.getArea()\n",
    "r.getArea()"
   ]
  },
  {
   "cell_type": "markdown",
   "metadata": {},
   "source": [
    "# Example (*args) keywords:"
   ]
  },
  {
   "cell_type": "code",
   "execution_count": 1,
   "metadata": {},
   "outputs": [],
   "source": [
    "def print_everything(*args):\n",
    "    for count, thing in enumerate(args):\n",
    "        print( '{0}. {1}'.format(count, thing))"
   ]
  },
  {
   "cell_type": "code",
   "execution_count": 2,
   "metadata": {},
   "outputs": [
    {
     "name": "stdout",
     "output_type": "stream",
     "text": [
      "0. apple\n",
      "1. banana\n",
      "2. cabbage\n"
     ]
    }
   ],
   "source": [
    "print_everything('apple', 'banana', 'cabbage')"
   ]
  },
  {
   "cell_type": "markdown",
   "metadata": {},
   "source": [
    "# Example (**kwargs) keywords:"
   ]
  },
  {
   "cell_type": "code",
   "execution_count": 3,
   "metadata": {},
   "outputs": [],
   "source": [
    "def table_things(**kwargs):\n",
    "    for name, value in kwargs.items():\n",
    "        print( '{0} = {1}'.format(name, value))"
   ]
  },
  {
   "cell_type": "code",
   "execution_count": 5,
   "metadata": {},
   "outputs": [
    {
     "name": "stdout",
     "output_type": "stream",
     "text": [
      "apple = fruit\n",
      "cabbage = vegetable\n"
     ]
    }
   ],
   "source": [
    "table_things(apple = 'fruit', cabbage = 'vegetable')"
   ]
  },
  {
   "cell_type": "code",
   "execution_count": null,
   "metadata": {},
   "outputs": [],
   "source": []
  }
 ],
 "metadata": {
  "kernelspec": {
   "display_name": "Python 3",
   "language": "python",
   "name": "python3"
  },
  "language_info": {
   "codemirror_mode": {
    "name": "ipython",
    "version": 3
   },
   "file_extension": ".py",
   "mimetype": "text/x-python",
   "name": "python",
   "nbconvert_exporter": "python",
   "pygments_lexer": "ipython3",
   "version": "3.7.3"
  }
 },
 "nbformat": 4,
 "nbformat_minor": 2
}
