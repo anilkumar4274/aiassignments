{
  "nbformat": 4,
  "nbformat_minor": 0,
  "metadata": {
    "kernelspec": {
      "display_name": "Python 3",
      "language": "python",
      "name": "python3"
    },
    "language_info": {
      "codemirror_mode": {
        "name": "ipython",
        "version": 3
      },
      "file_extension": ".py",
      "mimetype": "text/x-python",
      "name": "python",
      "nbconvert_exporter": "python",
      "pygments_lexer": "ipython3",
      "version": "3.7.3"
    },
    "colab": {
      "name": "opencv_6.ipynb",
      "provenance": [],
      "include_colab_link": true
    }
  },
  "cells": [
    {
      "cell_type": "markdown",
      "metadata": {
        "id": "view-in-github",
        "colab_type": "text"
      },
      "source": [
        "<a href=\"https://colab.research.google.com/github/anilkumar4274/aiassignments/blob/sharath/opencv_6.ipynb\" target=\"_parent\"><img src=\"https://colab.research.google.com/assets/colab-badge.svg\" alt=\"Open In Colab\"/></a>"
      ]
    },
    {
      "cell_type": "markdown",
      "metadata": {
        "id": "PjVGWhMvHsVO",
        "colab_type": "text"
      },
      "source": [
        "Cascade classifier - Haar Cascades\n",
        "\n",
        "Scale Invariant Feature Transformation - (SIFT)\n",
        "\n",
        "Speed-Up robust features - (SURF)"
      ]
    },
    {
      "cell_type": "code",
      "metadata": {
        "id": "O05QgscgHsVQ",
        "colab_type": "code",
        "colab": {}
      },
      "source": [
        "import cv2 #importing cv2 library\n",
        "cam = cv2.VideoCapture(0) #capture live laptop webcam\n",
        "while (cam.isOpened()):\n",
        "    ret, frame = cam.read()\n",
        "    cv2.imshow('frame',frame)\n",
        "    if cv2.waitKey(1) & 0xFF == ord('q'):\n",
        "        break\n",
        "cam.release()\n",
        "cv2.destroyAllWindows()"
      ],
      "execution_count": 0,
      "outputs": []
    },
    {
      "cell_type": "code",
      "metadata": {
        "id": "1qul3OFNHsVV",
        "colab_type": "code",
        "colab": {}
      },
      "source": [
        "import cv2 #importing cv2 library\n",
        "cam = cv2.VideoCapture(\"C:\\\\Users\\\\anil\\\\Desktop\\\\Most Popular Programming Languages on Stack Overflow Bar Chart Race.mp4\") #capture live laptop webcam\n",
        "while (cam.isOpened()):\n",
        "    ret, frame = cam.read()\n",
        "    cv2.imshow('frame',frame)\n",
        "    if cv2.waitKey(1) & 0xFF == ord('q'):\n",
        "        break\n",
        "cam.release()\n",
        "cv2.destroyAllWindows()"
      ],
      "execution_count": 0,
      "outputs": []
    },
    {
      "cell_type": "code",
      "metadata": {
        "id": "t1oe0vjwHsVZ",
        "colab_type": "code",
        "colab": {}
      },
      "source": [
        "import cv2\n",
        "cam = cv2.VideoCapture(\"C:\\\\Users\\\\anil\\\\Desktop\\\\Most Popular Programming Languages on Stack Overflow Bar Chart Race.mp4\") #capture live laptop webcam\n",
        "cam.set(cv2.CAP_PROP_POS_FRAMES, 100) # This will set the start point to frame 1800\n",
        "while (cam.isOpened()):\n",
        "    ret, frame = cam.read()\n",
        "    cv2.imshow('frame',frame)\n",
        "    if cv2.waitKey(1) & 0xFF == ord('q'):\n",
        "        break\n",
        "cam.release()\n",
        "cv2.destroyAllWindows()"
      ],
      "execution_count": 0,
      "outputs": []
    },
    {
      "cell_type": "code",
      "metadata": {
        "id": "FIVwpRiCHsVc",
        "colab_type": "code",
        "colab": {}
      },
      "source": [
        ""
      ],
      "execution_count": 0,
      "outputs": []
    }
  ]
}