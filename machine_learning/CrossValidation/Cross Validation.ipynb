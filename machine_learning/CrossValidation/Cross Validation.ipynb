{
 "cells": [
  {
   "cell_type": "markdown",
   "metadata": {},
   "source": [
    "1. Grid Search CV\n",
    "\n",
    "2. Randomized Searched CV (hyper parameter tuning)\n",
    "\n",
    "3. K-Fold Cross Validation\n",
    "\n",
    "4. LOO CV\n",
    "\n",
    "5. Hold Out Method\n",
    "\n",
    "6. Leave-P-Out\n",
    "\n",
    "7. Leave-One-Out\n",
    "\n",
    "8. Stratified K-Fold"
   ]
  },
  {
   "cell_type": "markdown",
   "metadata": {},
   "source": [
    "Cross-Validation is the process of assessing how the results of a statistical analysis will generalise to an independent dataset.\n",
    "In a prediction problem, a model is usually given a dataset of known data on which training is run (training dataset), and a dataset of unknown data (or first seen data) against which the model is tested (called the validation dataset or testing set). The goal of cross-validation is to define a dataset to “test” the model in the training phase (i.e., the validation set), in order to limit problems like overfitting, give an insight on how the model will generalize to an independent dataset.\n",
    "\n",
    "Two types of cross-validation can be distinguished, exhaustive and non-exhaustive cross-validation. Exhaustive cross-validation methods are cross-validation methods which learn and test on all possible ways to divide the original sample into a training and a validation set such as Leave-p-out cross-validation and Leave-one-out cross-validation. Non-exhaustive cross-validation methods do not compute all ways of splitting the original sample. Methods of Non-exhaustive cross-validation include Holdout method and k-fold cross-validation."
   ]
  },
  {
   "cell_type": "markdown",
   "metadata": {},
   "source": [
    "- Holdout Method: Splitting a percent of data off as test data\n",
    "- K-Fold Method: Dividing data into sections, using each as a test/train split\n",
    "- Leave-P-Out Method: Using every combination of a number of points (P) as test data"
   ]
  }
 ],
 "metadata": {
  "kernelspec": {
   "display_name": "Python 3",
   "language": "python",
   "name": "python3"
  },
  "language_info": {
   "codemirror_mode": {
    "name": "ipython",
    "version": 3
   },
   "file_extension": ".py",
   "mimetype": "text/x-python",
   "name": "python",
   "nbconvert_exporter": "python",
   "pygments_lexer": "ipython3",
   "version": "3.7.3"
  }
 },
 "nbformat": 4,
 "nbformat_minor": 2
}
