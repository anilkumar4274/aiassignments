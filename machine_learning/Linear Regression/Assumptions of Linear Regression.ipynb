{
 "cells": [
  {
   "cell_type": "markdown",
   "metadata": {},
   "source": [
    "1. The assumption about the form of the model\n",
    "2. Assumptions about the residuals\n",
    "3. Assumptions about the estimators"
   ]
  },
  {
   "cell_type": "markdown",
   "metadata": {},
   "source": [
    "#### 1.The assumption about the form of the model:\n",
    "    \n",
    "It is assumed that there is a linear relationship between the dependent and independent variable. It is known as the 'linearity assumption'"
   ]
  },
  {
   "cell_type": "markdown",
   "metadata": {},
   "source": [
    "#### 2. Assumptions about the residuals:\n",
    "    \n",
    "1. Normality Assumption : It is assumed that the error terms are normally distributed.\n",
    "2. Zero Mean Assumption : It is assumed that the residuals have a mean value of zero.\n",
    "3. Constant Variance Assumption : It is assumed that the residual terms have the same (but unknown) variance. This assumption is also known as \"homogeneity\" or \"hemoscedasticity\"\n",
    "4. Independent Error Assumption : It is assumed that the residual terms are independent of each other,i.e their pair-wise covariance is zero."
   ]
  },
  {
   "cell_type": "markdown",
   "metadata": {},
   "source": [
    "#### 3. Assumptions about the estimators"
   ]
  },
  {
   "cell_type": "markdown",
   "metadata": {},
   "source": [
    "1. The indendent variables are measured withour error\n",
    "\n",
    "2. The independent variables are linearly independent of each other, i.e. there is no mulitcollinearity in the data.\n"
   ]
  },
  {
   "cell_type": "markdown",
   "metadata": {},
   "source": [
    "Residual: residual refer to the error value of the model."
   ]
  },
  {
   "cell_type": "markdown",
   "metadata": {},
   "source": [
    "Covariance: Covariance is a measure of how changes in one variable are associated with changes in a second variable.\n",
    "\n",
    "covariance measures the degree to which two variables are linearly associated.\n"
   ]
  },
  {
   "cell_type": "markdown",
   "metadata": {},
   "source": [
    "Bias: Bias is the measurement process to over or under estimate the value of a population parameter."
   ]
  },
  {
   "cell_type": "code",
   "execution_count": null,
   "metadata": {},
   "outputs": [],
   "source": []
  }
 ],
 "metadata": {
  "kernelspec": {
   "display_name": "Python 3",
   "language": "python",
   "name": "python3"
  },
  "language_info": {
   "codemirror_mode": {
    "name": "ipython",
    "version": 3
   },
   "file_extension": ".py",
   "mimetype": "text/x-python",
   "name": "python",
   "nbconvert_exporter": "python",
   "pygments_lexer": "ipython3",
   "version": "3.7.3"
  }
 },
 "nbformat": 4,
 "nbformat_minor": 2
}
