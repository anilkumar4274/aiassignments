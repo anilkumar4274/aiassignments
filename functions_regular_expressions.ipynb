{
  "nbformat": 4,
  "nbformat_minor": 0,
  "metadata": {
    "colab": {
      "name": "functions_regular_expressions.ipynb",
      "provenance": [],
      "collapsed_sections": [],
      "authorship_tag": "ABX9TyPNM5+piZiuJmZdKOl0k0Y+",
      "include_colab_link": true
    },
    "kernelspec": {
      "name": "python3",
      "display_name": "Python 3"
    }
  },
  "cells": [
    {
      "cell_type": "markdown",
      "metadata": {
        "id": "view-in-github",
        "colab_type": "text"
      },
      "source": [
        "<a href=\"https://colab.research.google.com/github/anilkumar4274/aiassignments/blob/haasini/functions_regular_expressions.ipynb\" target=\"_parent\"><img src=\"https://colab.research.google.com/assets/colab-badge.svg\" alt=\"Open In Colab\"/></a>"
      ]
    },
    {
      "cell_type": "markdown",
      "metadata": {
        "id": "a4swA-6dkiha",
        "colab_type": "text"
      },
      "source": [
        "1. required arguments\n",
        "2. keyword arguments\n",
        "3. default arguments\n",
        "4. variable-length arguments"
      ]
    },
    {
      "cell_type": "markdown",
      "metadata": {
        "id": "V5vBDHkQmKgj",
        "colab_type": "text"
      },
      "source": [
        "1. Required Arguments:\n",
        "   1. No of arguments should match in both F.call and F.def\n",
        "   2. Position of the arguments should match in both F.call and F.def\n"
      ]
    },
    {
      "cell_type": "code",
      "metadata": {
        "id": "zCv21YbwkpMM",
        "colab_type": "code",
        "colab": {}
      },
      "source": [
        "#function definition\n",
        "def display(a,b):\n",
        "  print(a)\n",
        "  print(b)\n",
        "  return a"
      ],
      "execution_count": 0,
      "outputs": []
    },
    {
      "cell_type": "code",
      "metadata": {
        "id": "enk3WhYdkxvY",
        "colab_type": "code",
        "colab": {
          "base_uri": "https://localhost:8080/",
          "height": 52
        },
        "outputId": "446e940b-53d6-45f5-de5e-ee0e48ff29bb"
      },
      "source": [
        "#function call\n",
        "display(10,20)"
      ],
      "execution_count": 6,
      "outputs": [
        {
          "output_type": "stream",
          "text": [
            "10\n",
            "20\n"
          ],
          "name": "stdout"
        }
      ]
    },
    {
      "cell_type": "markdown",
      "metadata": {
        "id": "zAWLKJdpnGyq",
        "colab_type": "text"
      },
      "source": [
        "2. Keyword arguments:\n",
        "   1. no of arguments should match in both F.def and F.call   \n",
        "   2. Position of the arguments not required to match in both F.call and F.def."
      ]
    },
    {
      "cell_type": "code",
      "metadata": {
        "id": "u-RrcyIXmD9n",
        "colab_type": "code",
        "colab": {}
      },
      "source": [
        "def display(a,b):\n",
        "  return a"
      ],
      "execution_count": 0,
      "outputs": []
    },
    {
      "cell_type": "code",
      "metadata": {
        "id": "exE7WcVPmET7",
        "colab_type": "code",
        "colab": {
          "base_uri": "https://localhost:8080/",
          "height": 35
        },
        "outputId": "6f842e71-88bf-40f7-cc09-ce87c93b25be"
      },
      "source": [
        "display(b=20,a=50)"
      ],
      "execution_count": 8,
      "outputs": [
        {
          "output_type": "execute_result",
          "data": {
            "text/plain": [
              "50"
            ]
          },
          "metadata": {
            "tags": []
          },
          "execution_count": 8
        }
      ]
    },
    {
      "cell_type": "markdown",
      "metadata": {
        "id": "BN7jOqwin833",
        "colab_type": "text"
      },
      "source": [
        "3. Default Arguments:\n",
        "  1. No of arguments should not match in both F.call and F.Def\n",
        "  2. Position of the arguments should not be same in both F.Call and F.Def\n",
        "  3. Default Arguments should follow non-default arguments."
      ]
    },
    {
      "cell_type": "code",
      "metadata": {
        "id": "8Y-xXMm5mD4a",
        "colab_type": "code",
        "colab": {}
      },
      "source": [
        "#4 mandatory -- non-default\n",
        "#2 optional -- default\n",
        "def display(c,d,e,f,b=20,a=10):\n",
        "  print(a,b,c,d,e,f)\n",
        "  return a"
      ],
      "execution_count": 0,
      "outputs": []
    },
    {
      "cell_type": "code",
      "metadata": {
        "id": "FkP_0gruoXai",
        "colab_type": "code",
        "colab": {
          "base_uri": "https://localhost:8080/",
          "height": 52
        },
        "outputId": "ba0a6a50-dc8d-4122-aaa0-f6301944887a"
      },
      "source": [
        "display(100,200,300,400,789)"
      ],
      "execution_count": 26,
      "outputs": [
        {
          "output_type": "stream",
          "text": [
            "10 789 100 200 300 400\n"
          ],
          "name": "stdout"
        },
        {
          "output_type": "execute_result",
          "data": {
            "text/plain": [
              "10"
            ]
          },
          "metadata": {
            "tags": []
          },
          "execution_count": 26
        }
      ]
    },
    {
      "cell_type": "markdown",
      "metadata": {
        "id": "LAoPkbOjq2BB",
        "colab_type": "text"
      },
      "source": [
        "4. Variable-Length Arguments:\n",
        "   1. * -- non-keyword arguments\n",
        "   2. ** -- keyword arguments"
      ]
    },
    {
      "cell_type": "code",
      "metadata": {
        "id": "IrfSRh7Vq7GC",
        "colab_type": "code",
        "colab": {}
      },
      "source": [
        "def display(*courses):\n",
        "  for i in courses:\n",
        "    print(i)"
      ],
      "execution_count": 0,
      "outputs": []
    },
    {
      "cell_type": "code",
      "metadata": {
        "id": "TY_M7GhcrD2h",
        "colab_type": "code",
        "colab": {
          "base_uri": "https://localhost:8080/",
          "height": 52
        },
        "outputId": "57698c1a-e1d4-4978-86b4-ea5f701037bd"
      },
      "source": [
        "display('python','ml')"
      ],
      "execution_count": 44,
      "outputs": [
        {
          "output_type": "stream",
          "text": [
            "python\n",
            "ml\n"
          ],
          "name": "stdout"
        }
      ]
    },
    {
      "cell_type": "code",
      "metadata": {
        "id": "pwZKwOggrMsp",
        "colab_type": "code",
        "colab": {}
      },
      "source": [
        "def display(**kwargs):\n",
        "    for key,value in kwargs.items():\n",
        "        if key == 'b':\n",
        "            return key\n",
        "        else:\n",
        "            return value"
      ],
      "execution_count": 0,
      "outputs": []
    },
    {
      "cell_type": "code",
      "metadata": {
        "id": "WpRuN_BkrvTE",
        "colab_type": "code",
        "colab": {
          "base_uri": "https://localhost:8080/",
          "height": 35
        },
        "outputId": "e83facf2-18e9-4d33-e5aa-6b042c726f7f"
      },
      "source": [
        "display(a=10,b=20,c=30)"
      ],
      "execution_count": 88,
      "outputs": [
        {
          "output_type": "execute_result",
          "data": {
            "text/plain": [
              "10"
            ]
          },
          "metadata": {
            "tags": []
          },
          "execution_count": 88
        }
      ]
    },
    {
      "cell_type": "code",
      "metadata": {
        "id": "Ko_IBeUxsEao",
        "colab_type": "code",
        "colab": {
          "base_uri": "https://localhost:8080/",
          "height": 35
        },
        "outputId": "0eb06f25-8c26-4512-ce19-9e50a9110b5d"
      },
      "source": [
        "if True:\n",
        "  print('hello')\n",
        "else:\n",
        "  print('world')"
      ],
      "execution_count": 82,
      "outputs": [
        {
          "output_type": "stream",
          "text": [
            "hello\n"
          ],
          "name": "stdout"
        }
      ]
    },
    {
      "cell_type": "code",
      "metadata": {
        "id": "pWXNbS7UyN3g",
        "colab_type": "code",
        "colab": {}
      },
      "source": [
        "# Regular Expressions"
      ],
      "execution_count": 0,
      "outputs": []
    },
    {
      "cell_type": "code",
      "metadata": {
        "id": "eATgbQiA0NgE",
        "colab_type": "code",
        "colab": {
          "base_uri": "https://localhost:8080/",
          "height": 1000
        },
        "outputId": "ee0ee98b-16ec-418c-9f10-e9b1d8232f43"
      },
      "source": [
        "import re\n",
        "dir(re)"
      ],
      "execution_count": 91,
      "outputs": [
        {
          "output_type": "execute_result",
          "data": {
            "text/plain": [
              "['A',\n",
              " 'ASCII',\n",
              " 'DEBUG',\n",
              " 'DOTALL',\n",
              " 'I',\n",
              " 'IGNORECASE',\n",
              " 'L',\n",
              " 'LOCALE',\n",
              " 'M',\n",
              " 'MULTILINE',\n",
              " 'RegexFlag',\n",
              " 'S',\n",
              " 'Scanner',\n",
              " 'T',\n",
              " 'TEMPLATE',\n",
              " 'U',\n",
              " 'UNICODE',\n",
              " 'VERBOSE',\n",
              " 'X',\n",
              " '_MAXCACHE',\n",
              " '__all__',\n",
              " '__builtins__',\n",
              " '__cached__',\n",
              " '__doc__',\n",
              " '__file__',\n",
              " '__loader__',\n",
              " '__name__',\n",
              " '__package__',\n",
              " '__spec__',\n",
              " '__version__',\n",
              " '_alphanum_bytes',\n",
              " '_alphanum_str',\n",
              " '_cache',\n",
              " '_compile',\n",
              " '_compile_repl',\n",
              " '_expand',\n",
              " '_locale',\n",
              " '_pattern_type',\n",
              " '_pickle',\n",
              " '_subx',\n",
              " 'compile',\n",
              " 'copyreg',\n",
              " 'enum',\n",
              " 'error',\n",
              " 'escape',\n",
              " 'findall',\n",
              " 'finditer',\n",
              " 'fullmatch',\n",
              " 'functools',\n",
              " 'match',\n",
              " 'purge',\n",
              " 'search',\n",
              " 'split',\n",
              " 'sre_compile',\n",
              " 'sre_parse',\n",
              " 'sub',\n",
              " 'subn',\n",
              " 'template']"
            ]
          },
          "metadata": {
            "tags": []
          },
          "execution_count": 91
        }
      ]
    },
    {
      "cell_type": "code",
      "metadata": {
        "id": "mtyjMUSk0NbY",
        "colab_type": "code",
        "colab": {
          "base_uri": "https://localhost:8080/",
          "height": 35
        },
        "outputId": "b2d06a67-e69f-4ad3-a90c-6e782037cc78"
      },
      "source": [
        "# . - single character\n",
        "a='Hello World.'\n",
        "if re.search(r\".....\",a):\n",
        "  print('a '+'has length >=5')"
      ],
      "execution_count": 105,
      "outputs": [
        {
          "output_type": "stream",
          "text": [
            "a has length >=5\n"
          ],
          "name": "stdout"
        }
      ]
    },
    {
      "cell_type": "code",
      "metadata": {
        "id": "xw-5nD8l42pq",
        "colab_type": "code",
        "colab": {
          "base_uri": "https://localhost:8080/",
          "height": 35
        },
        "outputId": "6f818b32-6b31-4b70-ce7f-7459fa6b847b"
      },
      "source": [
        "re.search(r\".....\",a)"
      ],
      "execution_count": 106,
      "outputs": [
        {
          "output_type": "execute_result",
          "data": {
            "text/plain": [
              "<_sre.SRE_Match object; span=(0, 5), match='Hello'>"
            ]
          },
          "metadata": {
            "tags": []
          },
          "execution_count": 106
        }
      ]
    },
    {
      "cell_type": "code",
      "metadata": {
        "id": "5o_q8flB0NWn",
        "colab_type": "code",
        "colab": {
          "base_uri": "https://localhost:8080/",
          "height": 35
        },
        "outputId": "a505b343-15a8-475f-8644-8e700d2e60de"
      },
      "source": [
        "# [.] - ends with a \".\" or not\n",
        "a='Hello World.'\n",
        "if re.search(r\".....[.]\",a):\n",
        "  print('a '+'has length >=5 and ends with a .')\n"
      ],
      "execution_count": 107,
      "outputs": [
        {
          "output_type": "stream",
          "text": [
            "a has length >=5 and ends with a .\n"
          ],
          "name": "stdout"
        }
      ]
    },
    {
      "cell_type": "code",
      "metadata": {
        "id": "T_-EEjjG0NTV",
        "colab_type": "code",
        "colab": {
          "base_uri": "https://localhost:8080/",
          "height": 35
        },
        "outputId": "9f66e35c-6dd2-48b2-b407-66fd8dce3422"
      },
      "source": [
        "re.search(r\".....[d]\",a)"
      ],
      "execution_count": 108,
      "outputs": [
        {
          "output_type": "execute_result",
          "data": {
            "text/plain": [
              "<_sre.SRE_Match object; span=(5, 11), match=' World'>"
            ]
          },
          "metadata": {
            "tags": []
          },
          "execution_count": 108
        }
      ]
    },
    {
      "cell_type": "code",
      "metadata": {
        "id": "bV5cZVn40NOc",
        "colab_type": "code",
        "colab": {
          "base_uri": "https://localhost:8080/",
          "height": 35
        },
        "outputId": "685d5e45-2d3c-40ff-e198-98ae2a84d809"
      },
      "source": [
        "a='Hello World.'\n",
        "if re.search(r\"o+\",a):\n",
        "  print('There are one or more consecutive letter \"l\"'+\"'s in \"+a)"
      ],
      "execution_count": 115,
      "outputs": [
        {
          "output_type": "stream",
          "text": [
            "There are one or more consecutive letter \"l\"'s in Hello World.\n"
          ],
          "name": "stdout"
        }
      ]
    },
    {
      "cell_type": "code",
      "metadata": {
        "id": "e3jaf34-0NHs",
        "colab_type": "code",
        "colab": {
          "base_uri": "https://localhost:8080/",
          "height": 35
        },
        "outputId": "6a071a4a-a1b2-4ec5-9b01-95419a72d2a3"
      },
      "source": [
        "re.search(r\"o+\",a)"
      ],
      "execution_count": 114,
      "outputs": [
        {
          "output_type": "execute_result",
          "data": {
            "text/plain": [
              "<_sre.SRE_Match object; span=(4, 5), match='o'>"
            ]
          },
          "metadata": {
            "tags": []
          },
          "execution_count": 114
        }
      ]
    },
    {
      "cell_type": "code",
      "metadata": {
        "id": "WauzRuj56CUA",
        "colab_type": "code",
        "colab": {}
      },
      "source": [
        "string1 = \"Hello, world.\"\n",
        "if re.search(r\"H.?lo\", string1):\n",
        "    print(\"There is an 'H' and a 'e' separated by 0-1 characters (Ex: HeHoe)\")"
      ],
      "execution_count": 0,
      "outputs": []
    },
    {
      "cell_type": "code",
      "metadata": {
        "id": "8yvZ1xD06GBx",
        "colab_type": "code",
        "colab": {
          "base_uri": "https://localhost:8080/",
          "height": 35
        },
        "outputId": "f636e1ae-15b8-429f-a265-082813806c16"
      },
      "source": [
        "re.search(r\"H.?e\", string1)"
      ],
      "execution_count": 119,
      "outputs": [
        {
          "output_type": "execute_result",
          "data": {
            "text/plain": [
              "<_sre.SRE_Match object; span=(0, 2), match='He'>"
            ]
          },
          "metadata": {
            "tags": []
          },
          "execution_count": 119
        }
      ]
    },
    {
      "cell_type": "code",
      "metadata": {
        "id": "2HBzxtm57fGI",
        "colab_type": "code",
        "colab": {}
      },
      "source": [
        ""
      ],
      "execution_count": 0,
      "outputs": []
    }
  ]
}