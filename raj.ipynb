{
 "cells": [
  {
   "cell_type": "markdown",
   "metadata": {},
   "source": [
    "ASSIGNMENT \n"
   ]
  },
  {
   "cell_type": "code",
   "execution_count": null,
   "metadata": {},
   "outputs": [],
   "source": [
    "Q.WHAT IS PYTHON? WHAT ARE THE BENEFITS OF USING PYTHON?\n",
    "A.python is a programming language with objects,modules,threads,exceptions and automatic memory manaagement.\n",
    "the benefits of python are that it is simple and easy,portable,extensible."
   ]
  },
  {
   "cell_type": "code",
   "execution_count": null,
   "metadata": {},
   "outputs": [],
   "source": [
    "Q.HOW IS PYTHON INTERPRETED?\n",
    "A.python language is an interpreted language.python program runs directly from the source code.\n",
    "it converts the source code written by the programmer into an intermediate language ,which is again translated\n",
    "into machine language."
   ]
  },
  {
   "cell_type": "code",
   "execution_count": null,
   "metadata": {},
   "outputs": [],
   "source": [
    "Q.WHAT ARE THE SUPPORTED DATA TYPES IN PYTHON?\n",
    "A.list\n",
    "  set\n",
    "  dictionary\n",
    "  tuple\n",
    "  srting\n",
    "  numbers\n",
    "  boolean  "
   ]
  },
  {
   "cell_type": "code",
   "execution_count": null,
   "metadata": {},
   "outputs": [],
   "source": [
    "Q.WHAT IS THE DIFFERENC BETWEEN LIST AND TUPLE?\n",
    "A.lists are mutable they can be changed while tuples are immutable they cannot be changed"
   ]
  },
  {
   "cell_type": "code",
   "execution_count": null,
   "metadata": {},
   "outputs": [],
   "source": [
    "Q.WHAT ARE DICT AND LIST COMPREHENSIONS?\n",
    "A.these are syntax constructions that help to simplify the creation of a dict or list based on iterable that already exists"
   ]
  },
  {
   "cell_type": "code",
   "execution_count": null,
   "metadata": {},
   "outputs": [],
   "source": [
    "Q.WHAT IS AN OPERATOR IN PYTHON?\n",
    "A.like many programming language ,python reserves some special characters for acting as operator.every operator\n",
    "  carries out some operations such as addition ,multiplication to manipulate data and variables. "
   ]
  },
  {
   "cell_type": "code",
   "execution_count": null,
   "metadata": {},
   "outputs": [],
   "source": [
    "Q.WHAT IS A PYTHON FOR LOOP?\n",
    "A.a for loop in python requires at least two varaiables to work.the first is the iterable objects such as list,tuple or string\n",
    "  second is the variable to store the successive values from the sequence in the loop."
   ]
  },
  {
   "cell_type": "code",
   "execution_count": null,
   "metadata": {},
   "outputs": [],
   "source": [
    "Q.WHAT IS A PYTHON WHILE LOOP?\n",
    "A.a while loop is a control flow structures which repeatedly executes a block of code indefinite no of times until the condition\n",
    "  becomes false."
   ]
  },
  {
   "cell_type": "code",
   "execution_count": null,
   "metadata": {},
   "outputs": [],
   "source": [
    "Q.WHAT IA A PYTHON IF ELSE?\n",
    "A.it evaluates whether the expression is true or false."
   ]
  },
  {
   "cell_type": "code",
   "execution_count": null,
   "metadata": {},
   "outputs": [],
   "source": [
    "Q.WHAT IS A PYTHON FUNCTION?\n",
    "A.a function in python is a logical unit of code containing a sequence of statements indented under a name given using \n",
    "  the \"def\"keyword."
   ]
  },
  {
   "cell_type": "code",
   "execution_count": null,
   "metadata": {},
   "outputs": [],
   "source": [
    "Q.HOW TO CALL A FUNCTION IN PYTHON?\n",
    "A.to create the blueprint of a function which has a name,parameters to pass and a body with valid python statements"
   ]
  },
  {
   "cell_type": "code",
   "execution_count": null,
   "metadata": {},
   "outputs": [],
   "source": [
    "Q.WHAT IS LAMBDA IN PYTHON?\n",
    "A.lambda is an unnamed function.it provides an expression form that generates function objects."
   ]
  },
  {
   "cell_type": "code",
   "execution_count": null,
   "metadata": {},
   "outputs": [],
   "source": [
    "Q.HOW TO CREATE A LAMBDA FUNCTION SYNTAX?\n",
    "A.lambda args:expression"
   ]
  },
  {
   "cell_type": "code",
   "execution_count": null,
   "metadata": {},
   "outputs": [],
   "source": [
    "Q.WHAT DOES THE MAP FUNCTION DO?\n",
    "A.the map function iterates all the lists and calls the lamda function for each of their element."
   ]
  },
  {
   "cell_type": "code",
   "execution_count": null,
   "metadata": {},
   "outputs": [],
   "source": [
    "Q.WHAT IS THE DIFFERENCE BETWEEN LOCAL AND GLOBAL VARIABLE?\n",
    "A.variables that are defined inside a function body have local and those defined outside have global variables.\n"
   ]
  },
  {
   "cell_type": "code",
   "execution_count": null,
   "metadata": {},
   "outputs": [],
   "source": [
    "Q.WHAT IS TUPLE IN PYTHON?\n",
    "A.a tuple is a built in data collection type.it allows us to store values in a sequence we cannot remove any element \n",
    "  but we can find in the tuple.\n"
   ]
  }
 ],
 "metadata": {
  "kernelspec": {
   "display_name": "Python 3",
   "language": "python",
   "name": "python3"
  },
  "language_info": {
   "codemirror_mode": {
    "name": "ipython",
    "version": 3
   },
   "file_extension": ".py",
   "mimetype": "text/x-python",
   "name": "python",
   "nbconvert_exporter": "python",
   "pygments_lexer": "ipython3",
   "version": "3.7.4"
  }
 },
 "nbformat": 4,
 "nbformat_minor": 2
}
