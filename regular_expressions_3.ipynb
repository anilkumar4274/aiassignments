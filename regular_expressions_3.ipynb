{
  "nbformat": 4,
  "nbformat_minor": 0,
  "metadata": {
    "colab": {
      "name": "regular_expressions_3.ipynb",
      "provenance": [],
      "collapsed_sections": [],
      "authorship_tag": "ABX9TyNTnpevoqDICFp9YARpskyU",
      "include_colab_link": true
    },
    "kernelspec": {
      "name": "python3",
      "display_name": "Python 3"
    }
  },
  "cells": [
    {
      "cell_type": "markdown",
      "metadata": {
        "id": "view-in-github",
        "colab_type": "text"
      },
      "source": [
        "<a href=\"https://colab.research.google.com/github/anilkumar4274/aiassignments/blob/haasini/regular_expressions_3.ipynb\" target=\"_parent\"><img src=\"https://colab.research.google.com/assets/colab-badge.svg\" alt=\"Open In Colab\"/></a>"
      ]
    },
    {
      "cell_type": "code",
      "metadata": {
        "id": "XISdji5jkGXA",
        "colab_type": "code",
        "colab": {}
      },
      "source": [
        "^ - beginning\n",
        "[^] - not\n",
        "$ - end\n",
        ". - single character\n",
        "+ - one (or) more occurences\n",
        "* - zero (or) more times\n",
        "? - zero (or) one"
      ],
      "execution_count": 0,
      "outputs": []
    },
    {
      "cell_type": "code",
      "metadata": {
        "id": "OLBLPm4bmExV",
        "colab_type": "code",
        "colab": {}
      },
      "source": [
        "import re \n",
        "import sys\n",
        "for line in sys.stdin: \n",
        "  if re.search(r'[az]', line) is None: \n",
        "    sys.stdout.write(line)"
      ],
      "execution_count": 0,
      "outputs": []
    },
    {
      "cell_type": "code",
      "metadata": {
        "id": "FwkbbjkfqBOq",
        "colab_type": "code",
        "colab": {
          "base_uri": "https://localhost:8080/",
          "height": 35
        },
        "outputId": "5c4bda78-c412-4600-ef36-2c463b54bf77"
      },
      "source": [
        "import re\n",
        "a=\"my-us3r_n4m3\"\n",
        "re.search(r\"^[a-z0-9_-]{1,16}$\",a)"
      ],
      "execution_count": 33,
      "outputs": [
        {
          "output_type": "execute_result",
          "data": {
            "text/plain": [
              "<_sre.SRE_Match object; span=(0, 12), match='my-us3r_n4m3'>"
            ]
          },
          "metadata": {
            "tags": []
          },
          "execution_count": 33
        }
      ]
    },
    {
      "cell_type": "code",
      "metadata": {
        "id": "sCZmyEZnqBXb",
        "colab_type": "code",
        "colab": {
          "base_uri": "https://localhost:8080/",
          "height": 35
        },
        "outputId": "4ec4c2f4-3ae5-4639-b06f-fa7df3e0bb16"
      },
      "source": [
        "import re\n",
        "a=\"halwa\"\n",
        "re.search(r\"a{1,2}\",a)"
      ],
      "execution_count": 13,
      "outputs": [
        {
          "output_type": "execute_result",
          "data": {
            "text/plain": [
              "<_sre.SRE_Match object; span=(1, 2), match='a'>"
            ]
          },
          "metadata": {
            "tags": []
          },
          "execution_count": 13
        }
      ]
    },
    {
      "cell_type": "code",
      "metadata": {
        "id": "tDI_H545qBaa",
        "colab_type": "code",
        "colab": {
          "base_uri": "https://localhost:8080/",
          "height": 35
        },
        "outputId": "4bb9e25d-e91a-4721-de2b-596dab53e6a0"
      },
      "source": [
        "import re\n",
        "a=\"ddd\"\n",
        "re.search(r\"d{2}\",a)"
      ],
      "execution_count": 24,
      "outputs": [
        {
          "output_type": "execute_result",
          "data": {
            "text/plain": [
              "<_sre.SRE_Match object; span=(0, 2), match='dd'>"
            ]
          },
          "metadata": {
            "tags": []
          },
          "execution_count": 24
        }
      ]
    },
    {
      "cell_type": "code",
      "metadata": {
        "id": "CraI2QgOqBdi",
        "colab_type": "code",
        "colab": {
          "base_uri": "https://localhost:8080/",
          "height": 35
        },
        "outputId": "3be77fd2-59ae-4209-99c7-8f4e5ab2fcd5"
      },
      "source": [
        "import re\n",
        "a=\"dddddddddd\"\n",
        "re.search(r\"d{2,5}\",a)"
      ],
      "execution_count": 28,
      "outputs": [
        {
          "output_type": "execute_result",
          "data": {
            "text/plain": [
              "<_sre.SRE_Match object; span=(0, 5), match='ddddd'>"
            ]
          },
          "metadata": {
            "tags": []
          },
          "execution_count": 28
        }
      ]
    },
    {
      "cell_type": "code",
      "metadata": {
        "id": "OlEzGvQHqBgK",
        "colab_type": "code",
        "colab": {
          "base_uri": "https://localhost:8080/",
          "height": 35
        },
        "outputId": "f72dbb90-f23d-4e2e-dd16-96d8f9cc18ea"
      },
      "source": [
        "re.findall(r\"e\",\"wednesday\")"
      ],
      "execution_count": 34,
      "outputs": [
        {
          "output_type": "execute_result",
          "data": {
            "text/plain": [
              "['e', 'e']"
            ]
          },
          "metadata": {
            "tags": []
          },
          "execution_count": 34
        }
      ]
    },
    {
      "cell_type": "code",
      "metadata": {
        "id": "K1EkwqeRwCiA",
        "colab_type": "code",
        "colab": {}
      },
      "source": [
        ""
      ],
      "execution_count": 0,
      "outputs": []
    }
  ]
}