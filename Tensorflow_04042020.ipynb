{
  "nbformat": 4,
  "nbformat_minor": 0,
  "metadata": {
    "colab": {
      "name": "Tensorflow_04042020.ipynb",
      "provenance": [],
      "collapsed_sections": [],
      "authorship_tag": "ABX9TyO2NJJH8Wo0MoXFXO3jKV21",
      "include_colab_link": true
    },
    "kernelspec": {
      "name": "python3",
      "display_name": "Python 3"
    }
  },
  "cells": [
    {
      "cell_type": "markdown",
      "metadata": {
        "id": "view-in-github",
        "colab_type": "text"
      },
      "source": [
        "<a href=\"https://colab.research.google.com/github/anilkumar4274/aiassignments/blob/master/Tensorflow_04042020.ipynb\" target=\"_parent\"><img src=\"https://colab.research.google.com/assets/colab-badge.svg\" alt=\"Open In Colab\"/></a>"
      ]
    },
    {
      "cell_type": "code",
      "metadata": {
        "id": "L_QppW4vDhR2",
        "colab_type": "code",
        "colab": {
          "base_uri": "https://localhost:8080/",
          "height": 35
        },
        "outputId": "fb9e1e21-41be-4ea1-fb0a-6f6097fcf4d0"
      },
      "source": [
        "import tensorflow as tf\n",
        "tf.__version__"
      ],
      "execution_count": 38,
      "outputs": [
        {
          "output_type": "execute_result",
          "data": {
            "text/plain": [
              "'2.2.0-rc2'"
            ]
          },
          "metadata": {
            "tags": []
          },
          "execution_count": 38
        }
      ]
    },
    {
      "cell_type": "code",
      "metadata": {
        "id": "61S4_WSNFRlC",
        "colab_type": "code",
        "colab": {}
      },
      "source": [
        "from tensorflow import keras\n",
        "from tensorflow.keras import layers"
      ],
      "execution_count": 0,
      "outputs": []
    },
    {
      "cell_type": "code",
      "metadata": {
        "id": "jc3mUyHjFRvt",
        "colab_type": "code",
        "colab": {}
      },
      "source": [
        "inputs=keras.Input(shape=(784,),name='digits')"
      ],
      "execution_count": 0,
      "outputs": []
    },
    {
      "cell_type": "code",
      "metadata": {
        "id": "3hD58wg8FR6N",
        "colab_type": "code",
        "colab": {}
      },
      "source": [
        "x=layers.Dense(64,activation='relu',name='dense_1')(inputs)\n",
        "x=layers.Dense(64,activation='relu',name='dense_2')(x)"
      ],
      "execution_count": 0,
      "outputs": []
    },
    {
      "cell_type": "code",
      "metadata": {
        "id": "ZF7CYZo1FSFM",
        "colab_type": "code",
        "colab": {}
      },
      "source": [
        "outputs=layers.Dense(10,name='predictions')(x)"
      ],
      "execution_count": 0,
      "outputs": []
    },
    {
      "cell_type": "code",
      "metadata": {
        "id": "0JAbOGT_FSNd",
        "colab_type": "code",
        "colab": {}
      },
      "source": [
        "model=keras.Model(inputs=inputs,outputs=outputs)"
      ],
      "execution_count": 0,
      "outputs": []
    },
    {
      "cell_type": "code",
      "metadata": {
        "id": "aPYhwuXaI_AX",
        "colab_type": "code",
        "colab": {}
      },
      "source": [
        "(x_train,y_train),(x_test,y_test)=keras.datasets.mnist.load_data()"
      ],
      "execution_count": 0,
      "outputs": []
    },
    {
      "cell_type": "code",
      "metadata": {
        "id": "UUJtiKdZI_I6",
        "colab_type": "code",
        "colab": {
          "base_uri": "https://localhost:8080/",
          "height": 35
        },
        "outputId": "1735a266-b625-4bfe-c47f-520cea7bce2c"
      },
      "source": [
        "x_train.shape"
      ],
      "execution_count": 45,
      "outputs": [
        {
          "output_type": "execute_result",
          "data": {
            "text/plain": [
              "(60000, 28, 28)"
            ]
          },
          "metadata": {
            "tags": []
          },
          "execution_count": 45
        }
      ]
    },
    {
      "cell_type": "code",
      "metadata": {
        "id": "qdl51IUtLeFK",
        "colab_type": "code",
        "colab": {
          "base_uri": "https://localhost:8080/",
          "height": 35
        },
        "outputId": "a2591509-ea2c-4351-9f95-7c7cd2eba149"
      },
      "source": [
        "x_test.shape"
      ],
      "execution_count": 46,
      "outputs": [
        {
          "output_type": "execute_result",
          "data": {
            "text/plain": [
              "(10000, 28, 28)"
            ]
          },
          "metadata": {
            "tags": []
          },
          "execution_count": 46
        }
      ]
    },
    {
      "cell_type": "code",
      "metadata": {
        "id": "hph_gK2HLtt8",
        "colab_type": "code",
        "colab": {
          "base_uri": "https://localhost:8080/",
          "height": 35
        },
        "outputId": "7394df3d-7f57-497c-ca48-b31268583114"
      },
      "source": [
        "y_train.shape"
      ],
      "execution_count": 57,
      "outputs": [
        {
          "output_type": "execute_result",
          "data": {
            "text/plain": [
              "(60000,)"
            ]
          },
          "metadata": {
            "tags": []
          },
          "execution_count": 57
        }
      ]
    },
    {
      "cell_type": "code",
      "metadata": {
        "id": "6x-xBNJ7I_NC",
        "colab_type": "code",
        "colab": {}
      },
      "source": [
        "#preprocess the data (these are numpy arrays)\n",
        "x_train=x_train.reshape(60000,784).astype('float32')/255\n",
        "x_test=x_test.reshape(10000,784).astype('float32')/255\n",
        "\n",
        "y_train=y_train.astype('float32')\n",
        "y_test=y_test.astype('float32')"
      ],
      "execution_count": 0,
      "outputs": []
    },
    {
      "cell_type": "code",
      "metadata": {
        "id": "wSSMATWCI_Qn",
        "colab_type": "code",
        "colab": {
          "base_uri": "https://localhost:8080/",
          "height": 35
        },
        "outputId": "0eb7be2d-fa37-43f2-d7b6-8fba758ae486"
      },
      "source": [
        "y_train.shape"
      ],
      "execution_count": 49,
      "outputs": [
        {
          "output_type": "execute_result",
          "data": {
            "text/plain": [
              "(60000,)"
            ]
          },
          "metadata": {
            "tags": []
          },
          "execution_count": 49
        }
      ]
    },
    {
      "cell_type": "code",
      "metadata": {
        "id": "bw9jfsITI_Tq",
        "colab_type": "code",
        "colab": {
          "base_uri": "https://localhost:8080/",
          "height": 35
        },
        "outputId": "0a811c44-8d04-4a8d-b3d9-27e4ce76e53c"
      },
      "source": [
        "y_test.shape"
      ],
      "execution_count": 29,
      "outputs": [
        {
          "output_type": "execute_result",
          "data": {
            "text/plain": [
              "(10000,)"
            ]
          },
          "metadata": {
            "tags": []
          },
          "execution_count": 29
        }
      ]
    },
    {
      "cell_type": "code",
      "metadata": {
        "id": "TWlxmfRNI_XT",
        "colab_type": "code",
        "colab": {}
      },
      "source": [
        "#reserve 10,000 samples for validation\n",
        "x_val=x_train[-10000:]\n",
        "y_val=y_train[-10000:]\n",
        "x_train=x_train[:-10000]\n",
        "y_train=y_train[:-10000]"
      ],
      "execution_count": 0,
      "outputs": []
    },
    {
      "cell_type": "code",
      "metadata": {
        "id": "BtdK7C_pI_aA",
        "colab_type": "code",
        "colab": {
          "base_uri": "https://localhost:8080/",
          "height": 35
        },
        "outputId": "f34f4539-51bd-4c70-e902-4df36a3d0907"
      },
      "source": [
        "x=[1,2,3,4,5,6,7,8,9,10]\n",
        "x[:-3]"
      ],
      "execution_count": 36,
      "outputs": [
        {
          "output_type": "execute_result",
          "data": {
            "text/plain": [
              "[1, 2, 3, 4, 5, 6, 7]"
            ]
          },
          "metadata": {
            "tags": []
          },
          "execution_count": 36
        }
      ]
    },
    {
      "cell_type": "code",
      "metadata": {
        "id": "H2LkNRmNI_e6",
        "colab_type": "code",
        "colab": {
          "base_uri": "https://localhost:8080/",
          "height": 35
        },
        "outputId": "9cf7f71d-5420-459a-bcac-8d0afded073d"
      },
      "source": [
        "x_train.shape"
      ],
      "execution_count": 34,
      "outputs": [
        {
          "output_type": "execute_result",
          "data": {
            "text/plain": [
              "(60000, 784)"
            ]
          },
          "metadata": {
            "tags": []
          },
          "execution_count": 34
        }
      ]
    },
    {
      "cell_type": "code",
      "metadata": {
        "id": "O0eS_cEAI_lB",
        "colab_type": "code",
        "colab": {}
      },
      "source": [
        "#optimizer, loss, metrics\n",
        "model.compile(optimizer=keras.optimizers.RMSprop(), #optimizer\n",
        "              # To minimize loss function\n",
        "              loss=keras.losses.SparseCategoricalCrossentropy(from_logits=True),\n",
        "              metrics=['sparse_categorical_accuracy'] # list of metrics to monitor\n",
        "              )"
      ],
      "execution_count": 0,
      "outputs": []
    },
    {
      "cell_type": "markdown",
      "metadata": {
        "id": "UvAck2QfpvDO",
        "colab_type": "text"
      },
      "source": [
        ""
      ]
    },
    {
      "cell_type": "markdown",
      "metadata": {
        "id": "L7c0rneKpzuj",
        "colab_type": "text"
      },
      "source": [
        "trian the model by slicing the data into batches of size batch_size and repeatedly iterating over the entire dataset for a given number of epochs"
      ]
    },
    {
      "cell_type": "code",
      "metadata": {
        "id": "orpA8jUJp6Su",
        "colab_type": "code",
        "colab": {
          "base_uri": "https://localhost:8080/",
          "height": 141
        },
        "outputId": "33860416-4ae5-4294-bab0-dc29ae24a2fa"
      },
      "source": [
        "history=model.fit(x_train,y_train,batch_size=64,epochs=3,validation_data=(x_val,y_val))"
      ],
      "execution_count": 51,
      "outputs": [
        {
          "output_type": "stream",
          "text": [
            "Epoch 1/3\n",
            "938/938 [==============================] - 3s 3ms/step - loss: 0.3017 - sparse_categorical_accuracy: 0.9134 - val_loss: 2.3019 - val_sparse_categorical_accuracy: 0.1947\n",
            "Epoch 2/3\n",
            "938/938 [==============================] - 2s 2ms/step - loss: 0.1455 - sparse_categorical_accuracy: 0.9568 - val_loss: 2.3165 - val_sparse_categorical_accuracy: 0.0920\n",
            "Epoch 3/3\n",
            "938/938 [==============================] - 2s 2ms/step - loss: 0.1063 - sparse_categorical_accuracy: 0.9681 - val_loss: 2.3366 - val_sparse_categorical_accuracy: 0.0915\n"
          ],
          "name": "stdout"
        }
      ]
    },
    {
      "cell_type": "code",
      "metadata": {
        "id": "emv3eUx2tm5f",
        "colab_type": "code",
        "colab": {
          "base_uri": "https://localhost:8080/",
          "height": 35
        },
        "outputId": "73cbc412-270d-4c49-9c5d-c72115645bbb"
      },
      "source": [
        "938*3"
      ],
      "execution_count": 53,
      "outputs": [
        {
          "output_type": "execute_result",
          "data": {
            "text/plain": [
              "2814"
            ]
          },
          "metadata": {
            "tags": []
          },
          "execution_count": 53
        }
      ]
    },
    {
      "cell_type": "code",
      "metadata": {
        "id": "SWo3OfcMqRBb",
        "colab_type": "code",
        "colab": {
          "base_uri": "https://localhost:8080/",
          "height": 156
        },
        "outputId": "cb3235f1-5fa6-4846-db70-bcba68b73d19"
      },
      "source": [
        "history.history"
      ],
      "execution_count": 52,
      "outputs": [
        {
          "output_type": "execute_result",
          "data": {
            "text/plain": [
              "{'loss': [0.3017062842845917, 0.1455169916152954, 0.10632920265197754],\n",
              " 'sparse_categorical_accuracy': [0.913433313369751,\n",
              "  0.9568166732788086,\n",
              "  0.9681000113487244],\n",
              " 'val_loss': [2.301874876022339, 2.3164680004119873, 2.33663010597229],\n",
              " 'val_sparse_categorical_accuracy': [0.19470000267028809,\n",
              "  0.09200000017881393,\n",
              "  0.09149999916553497]}"
            ]
          },
          "metadata": {
            "tags": []
          },
          "execution_count": 52
        }
      ]
    },
    {
      "cell_type": "code",
      "metadata": {
        "id": "HNuXzrrvtD8-",
        "colab_type": "code",
        "colab": {
          "base_uri": "https://localhost:8080/",
          "height": 72
        },
        "outputId": "d8d58644-69d3-49c8-b27b-8c3cf6b7da9f"
      },
      "source": [
        "model.evaluate(x_test,y_test,batch_size=128)"
      ],
      "execution_count": 54,
      "outputs": [
        {
          "output_type": "stream",
          "text": [
            "79/79 [==============================] - 0s 2ms/step - loss: 0.1135 - sparse_categorical_accuracy: 0.9641\n"
          ],
          "name": "stdout"
        },
        {
          "output_type": "execute_result",
          "data": {
            "text/plain": [
              "[0.11345767974853516, 0.9641000032424927]"
            ]
          },
          "metadata": {
            "tags": []
          },
          "execution_count": 54
        }
      ]
    },
    {
      "cell_type": "code",
      "metadata": {
        "id": "ZSNb9QijuPNr",
        "colab_type": "code",
        "colab": {
          "base_uri": "https://localhost:8080/",
          "height": 35
        },
        "outputId": "bc6dd52b-37f6-4ea6-efc9-2b3794a44ce3"
      },
      "source": [
        "model.predict(x_test[:3]).shape"
      ],
      "execution_count": 56,
      "outputs": [
        {
          "output_type": "execute_result",
          "data": {
            "text/plain": [
              "(3, 10)"
            ]
          },
          "metadata": {
            "tags": []
          },
          "execution_count": 56
        }
      ]
    },
    {
      "cell_type": "code",
      "metadata": {
        "id": "CWZ2XYKiuaM8",
        "colab_type": "code",
        "colab": {}
      },
      "source": [
        ""
      ],
      "execution_count": 0,
      "outputs": []
    }
  ]
}