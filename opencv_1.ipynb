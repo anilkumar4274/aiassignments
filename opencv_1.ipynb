{
  "nbformat": 4,
  "nbformat_minor": 0,
  "metadata": {
    "kernelspec": {
      "display_name": "Python 3",
      "language": "python",
      "name": "python3"
    },
    "language_info": {
      "codemirror_mode": {
        "name": "ipython",
        "version": 3
      },
      "file_extension": ".py",
      "mimetype": "text/x-python",
      "name": "python",
      "nbconvert_exporter": "python",
      "pygments_lexer": "ipython3",
      "version": "3.7.3"
    },
    "colab": {
      "name": "opencv_1.ipynb",
      "provenance": [],
      "collapsed_sections": [],
      "include_colab_link": true
    }
  },
  "cells": [
    {
      "cell_type": "markdown",
      "metadata": {
        "id": "view-in-github",
        "colab_type": "text"
      },
      "source": [
        "<a href=\"https://colab.research.google.com/github/anilkumar4274/aiassignments/blob/sharath/opencv_1.ipynb\" target=\"_parent\"><img src=\"https://colab.research.google.com/assets/colab-badge.svg\" alt=\"Open In Colab\"/></a>"
      ]
    },
    {
      "cell_type": "markdown",
      "metadata": {
        "id": "O0A5nvps77Ia",
        "colab_type": "text"
      },
      "source": [
        "# How to read an Image from the local drive and display?"
      ]
    },
    {
      "cell_type": "code",
      "metadata": {
        "id": "myBk3mCY77Ic",
        "colab_type": "code",
        "colab": {}
      },
      "source": [
        "import cv2"
      ],
      "execution_count": 0,
      "outputs": []
    },
    {
      "cell_type": "code",
      "metadata": {
        "id": "8F5zcuVT77Ih",
        "colab_type": "code",
        "colab": {}
      },
      "source": [
        "img=cv2.imread('apple.jpg')"
      ],
      "execution_count": 0,
      "outputs": []
    },
    {
      "cell_type": "code",
      "metadata": {
        "id": "Mema0cbh77Im",
        "colab_type": "code",
        "colab": {},
        "outputId": "8d59e6dc-436c-4f9e-a4e1-aceec8147796"
      },
      "source": [
        "import matplotlib.pyplot as plt\n",
        "img=cv2.imread('python.png')\n",
        "plt.imshow(img)\n",
        "#plt.show()"
      ],
      "execution_count": 0,
      "outputs": [
        {
          "output_type": "execute_result",
          "data": {
            "text/plain": [
              "<matplotlib.image.AxesImage at 0x26f20575c18>"
            ]
          },
          "metadata": {
            "tags": []
          },
          "execution_count": 11
        },
        {
          "output_type": "display_data",
          "data": {
            "image/png": "[encoded data removed]",
            "text/plain": [
              "<Figure size 432x288 with 1 Axes>"
            ]
          },
          "metadata": {
            "tags": [],
            "needs_background": "light"
          }
        }
      ]
    },
    {
      "cell_type": "code",
      "metadata": {
        "id": "jqZB0pY377Iw",
        "colab_type": "code",
        "colab": {}
      },
      "source": [
        "#cv2.imshow('image',img)"
      ],
      "execution_count": 0,
      "outputs": []
    },
    {
      "cell_type": "markdown",
      "metadata": {
        "id": "m0y4IFHG77I1",
        "colab_type": "text"
      },
      "source": [
        "# How to write the image with different name?"
      ]
    },
    {
      "cell_type": "code",
      "metadata": {
        "scrolled": true,
        "id": "rF3vrvNG77I2",
        "colab_type": "code",
        "colab": {},
        "outputId": "4497fdc8-3407-4e79-d00b-c8100378a7ab"
      },
      "source": [
        "cv2.imwrite(\"image2.jpg\",img)"
      ],
      "execution_count": 0,
      "outputs": [
        {
          "output_type": "execute_result",
          "data": {
            "text/plain": [
              "True"
            ]
          },
          "metadata": {
            "tags": []
          },
          "execution_count": 12
        }
      ]
    },
    {
      "cell_type": "code",
      "metadata": {
        "id": "OOMZKpd377I6",
        "colab_type": "code",
        "colab": {}
      },
      "source": [
        "# HSV - Hue, Saturation, Value"
      ],
      "execution_count": 0,
      "outputs": []
    },
    {
      "cell_type": "markdown",
      "metadata": {
        "id": "X0o9Qf5q77I_",
        "colab_type": "text"
      },
      "source": [
        "COLOR_BGR2GRAY\n",
        "\n",
        "COLOR_BGR2HSV\n",
        "\n",
        "COLOR_HSV2BGR\n",
        "\n",
        "COLOR_BGR2YUV\n",
        "\n",
        "COLOR_GRAY2BGR"
      ]
    },
    {
      "cell_type": "code",
      "metadata": {
        "scrolled": true,
        "id": "3cYl98qh77JC",
        "colab_type": "code",
        "colab": {},
        "outputId": "85185fe3-70be-40a2-c2ed-59f0d80c8da0"
      },
      "source": [
        "import cv2\n",
        "img=cv2.imread('python.png')\n",
        "gray=cv2.cvtColor(img,cv2.COLOR_BGR2GRAY)\n",
        "cv2.imwrite('gray_image1.png',gray)\n",
        "plt.imshow(gray)"
      ],
      "execution_count": 0,
      "outputs": [
        {
          "output_type": "execute_result",
          "data": {
            "text/plain": [
              "<matplotlib.image.AxesImage at 0x26f20640f60>"
            ]
          },
          "metadata": {
            "tags": []
          },
          "execution_count": 15
        },
        {
          "output_type": "display_data",
          "data": {
            "image/png": "[encoded data removed]",
            "text/plain": [
              "<Figure size 432x288 with 1 Axes>"
            ]
          },
          "metadata": {
            "tags": [],
            "needs_background": "light"
          }
        }
      ]
    },
    {
      "cell_type": "markdown",
      "metadata": {
        "id": "2HGNqPKp77JI",
        "colab_type": "raw"
      },
      "source": [
        "Examples of using cv2.resize() function\n",
        "\n",
        "Resizing an image can be done in many ways. We will look into examples demonstrating the following resize operations.\n",
        "\n",
        "Preserve Aspect Ratio (height to width ratio of image is preserved)\n",
        "Downscale (Decrease the size of the image)\n",
        "Upscale (Increase the size of the image)\n",
        "Do not preserve Aspect Ratio\n",
        "Resize only the width (Increase or decrease the width of the image keeping height unchanged)\n",
        "Resize only the height (Increase or decrease the height of the image keeping width unchanged)\n",
        "Resize to specific width and height\n",
        "\n",
        "(149,200,4)(height, width, number of channels) "
      ]
    },
    {
      "cell_type": "markdown",
      "metadata": {
        "id": "JlX9qVnY77JJ",
        "colab_type": "text"
      },
      "source": [
        "# Downscale with resize()"
      ]
    },
    {
      "cell_type": "code",
      "metadata": {
        "id": "OM-xRYuO77JJ",
        "colab_type": "code",
        "colab": {},
        "outputId": "73350136-eb4b-4ab3-fd11-3fdbd569dde2"
      },
      "source": [
        "import cv2\n",
        " \n",
        "img = cv2.imread('python.png', cv2.IMREAD_UNCHANGED)\n",
        " \n",
        "print('Original Dimensions : ',img.shape)\n",
        " \n",
        "scale_percent = 60 # percent of original size\n",
        "width = int(img.shape[1] * scale_percent / 100)\n",
        "height = int(img.shape[0] * scale_percent / 100)\n",
        "dim = (width, height)\n",
        "# resize image\n",
        "resized = cv2.resize(img, dim, interpolation = cv2.INTER_AREA)\n",
        " \n",
        "print('Resized Dimensions : ',resized.shape)\n",
        " \n",
        "plt.imshow(resized)\n",
        "#cv2.waitKey(0)\n",
        "#cv2.destroyAllWindows()"
      ],
      "execution_count": 0,
      "outputs": [
        {
          "output_type": "stream",
          "text": [
            "Original Dimensions :  (149, 200, 4)\n",
            "Resized Dimensions :  (89, 120, 4)\n"
          ],
          "name": "stdout"
        },
        {
          "output_type": "execute_result",
          "data": {
            "text/plain": [
              "<matplotlib.image.AxesImage at 0x201a459b7b8>"
            ]
          },
          "metadata": {
            "tags": []
          },
          "execution_count": 5
        },
        {
          "output_type": "display_data",
          "data": {
            "image/png": "[encoded data removed]",
            "text/plain": [
              "<Figure size 432x288 with 1 Axes>"
            ]
          },
          "metadata": {
            "tags": [],
            "needs_background": "light"
          }
        }
      ]
    },
    {
      "cell_type": "markdown",
      "metadata": {
        "id": "IZAL9iYs77JO",
        "colab_type": "text"
      },
      "source": [
        "# Upscale with resize()"
      ]
    },
    {
      "cell_type": "code",
      "metadata": {
        "id": "hf4DWh5a77JQ",
        "colab_type": "code",
        "colab": {},
        "outputId": "94085d47-4df7-4758-b7a3-2cde21b4eff2"
      },
      "source": [
        "import cv2\n",
        " \n",
        "img = cv2.imread('python.png', cv2.IMREAD_UNCHANGED)\n",
        " \n",
        "print('Original Dimensions : ',img.shape)\n",
        " \n",
        "scale_percent = 220 # percent of original size\n",
        "width = int(img.shape[1] * scale_percent / 100)\n",
        "height = int(img.shape[0] * scale_percent / 100)\n",
        "dim = (width, height)\n",
        "# resize image\n",
        "resized = cv2.resize(img, dim, interpolation = cv2.INTER_AREA)\n",
        " \n",
        "print('Resized Dimensions : ',resized.shape)\n",
        " \n",
        "plt.imshow(resized)\n",
        "#cv2.waitKey(0)\n",
        "#cv2.destroyAllWindows()"
      ],
      "execution_count": 0,
      "outputs": [
        {
          "output_type": "stream",
          "text": [
            "Original Dimensions :  (149, 200, 4)\n",
            "Resized Dimensions :  (327, 440, 4)\n"
          ],
          "name": "stdout"
        },
        {
          "output_type": "execute_result",
          "data": {
            "text/plain": [
              "<matplotlib.image.AxesImage at 0x201a19a5400>"
            ]
          },
          "metadata": {
            "tags": []
          },
          "execution_count": 6
        },
        {
          "output_type": "display_data",
          "data": {
            "image/png": "[encoded data removed]",
            "text/plain": [
              "<Figure size 432x288 with 1 Axes>"
            ]
          },
          "metadata": {
            "tags": [],
            "needs_background": "light"
          }
        }
      ]
    },
    {
      "cell_type": "code",
      "metadata": {
        "id": "eyMTWw_Z77JW",
        "colab_type": "code",
        "colab": {},
        "outputId": "8ccd53c9-215b-4b4a-f945-fea5a8b270bf"
      },
      "source": [
        "a"
      ],
      "execution_count": 0,
      "outputs": [
        {
          "output_type": "execute_result",
          "data": {
            "text/plain": [
              "10"
            ]
          },
          "metadata": {
            "tags": []
          },
          "execution_count": 9
        }
      ]
    },
    {
      "cell_type": "code",
      "metadata": {
        "id": "LbbiKztC77Jd",
        "colab_type": "code",
        "colab": {}
      },
      "source": [
        ""
      ],
      "execution_count": 0,
      "outputs": []
    },
    {
      "cell_type": "code",
      "metadata": {
        "id": "L16keUvn77Jh",
        "colab_type": "code",
        "colab": {}
      },
      "source": [
        ""
      ],
      "execution_count": 0,
      "outputs": []
    },
    {
      "cell_type": "code",
      "metadata": {
        "id": "io3yN-Mc77Jl",
        "colab_type": "code",
        "colab": {}
      },
      "source": [
        ""
      ],
      "execution_count": 0,
      "outputs": []
    },
    {
      "cell_type": "code",
      "metadata": {
        "id": "Hru_wLIP77Jo",
        "colab_type": "code",
        "colab": {}
      },
      "source": [
        ""
      ],
      "execution_count": 0,
      "outputs": []
    },
    {
      "cell_type": "code",
      "metadata": {
        "id": "NS-TT9-i77Jv",
        "colab_type": "code",
        "colab": {}
      },
      "source": [
        ""
      ],
      "execution_count": 0,
      "outputs": []
    },
    {
      "cell_type": "code",
      "metadata": {
        "id": "3Ws7yK3a77Jy",
        "colab_type": "code",
        "colab": {}
      },
      "source": [
        ""
      ],
      "execution_count": 0,
      "outputs": []
    },
    {
      "cell_type": "code",
      "metadata": {
        "id": "tc71OoVK77J5",
        "colab_type": "code",
        "colab": {}
      },
      "source": [
        ""
      ],
      "execution_count": 0,
      "outputs": []
    },
    {
      "cell_type": "markdown",
      "metadata": {
        "id": "yA5XUByw77J-",
        "colab_type": "text"
      },
      "source": [
        "InterpolationFlags:\n",
        "\n",
        "  cv::INTER_NEAREST\n",
        "  \n",
        "  cv::INTER_LINEAR\n",
        "  \n",
        "  cv::INTER_CUBIC\n",
        "  \n",
        "  cv::INTER_AREA\n",
        "  \n",
        "  cv::INTER_LANCZOS4\n",
        "  \n",
        "  cv::INTER_LINEAR_EXACT \n",
        "  \n",
        "  cv::INTER_MAX\n",
        "  \n",
        "  cv::WARP_FILL_OUTLIERS\n",
        "  \n",
        "  cv::WARP_INVERSE_MAP"
      ]
    },
    {
      "cell_type": "code",
      "metadata": {
        "id": "-GZWpgUd77J_",
        "colab_type": "code",
        "colab": {}
      },
      "source": [
        ""
      ],
      "execution_count": 0,
      "outputs": []
    }
  ]
}