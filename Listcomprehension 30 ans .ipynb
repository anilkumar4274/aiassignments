{
 "cells": [
  {
   "cell_type": "markdown",
   "metadata": {},
   "source": [
    "### 1.[\"Even\" if i%2==0 else \"Odd\" for i in range(8)]"
   ]
  },
  {
   "cell_type": "code",
   "execution_count": 1,
   "metadata": {},
   "outputs": [
    {
     "name": "stdout",
     "output_type": "stream",
     "text": [
      "even\n",
      "odd\n",
      "even\n",
      "odd\n",
      "even\n",
      "odd\n",
      "even\n",
      "odd\n"
     ]
    }
   ],
   "source": [
    "for i in range(8):\n",
    "    if i% 2==0:\n",
    "        print(\"even\")\n",
    "    else:\n",
    "        print(\"odd\")"
   ]
  },
  {
   "cell_type": "markdown",
   "metadata": {},
   "source": [
    "### 2.[val if val % 2 else -val for val in range(20) if val % 3]"
   ]
  },
  {
   "cell_type": "code",
   "execution_count": 4,
   "metadata": {},
   "outputs": [
    {
     "name": "stdout",
     "output_type": "stream",
     "text": [
      "1\n",
      "-2\n",
      "-4\n",
      "5\n",
      "7\n",
      "-8\n",
      "-10\n",
      "11\n",
      "13\n",
      "-14\n",
      "-16\n",
      "17\n",
      "19\n"
     ]
    }
   ],
   "source": [
    "for val in range(20):\n",
    "    if val% 3:\n",
    "        if val% 2:\n",
    "            print(val)\n",
    "        else:\n",
    "            print(-val)"
   ]
  },
  {
   "cell_type": "markdown",
   "metadata": {},
   "source": [
    "### 3.[\"Even\" if i%2==0 else \"Odd\" for i in range(10)]"
   ]
  },
  {
   "cell_type": "code",
   "execution_count": 5,
   "metadata": {},
   "outputs": [
    {
     "name": "stdout",
     "output_type": "stream",
     "text": [
      "even\n",
      "odd\n",
      "even\n",
      "odd\n",
      "even\n",
      "odd\n",
      "even\n",
      "odd\n",
      "even\n",
      "odd\n"
     ]
    }
   ],
   "source": [
    "for i in range(10):\n",
    "    if i% 2==0:\n",
    "        print(\"even\")\n",
    "    else:\n",
    "        print(\"odd\")"
   ]
  },
  {
   "cell_type": "markdown",
   "metadata": {},
   "source": [
    "### 4.[ x if x%2 else x*100 for x in range(1, 10) ]"
   ]
  },
  {
   "cell_type": "code",
   "execution_count": 6,
   "metadata": {},
   "outputs": [
    {
     "name": "stdout",
     "output_type": "stream",
     "text": [
      "1\n",
      "200\n",
      "3\n",
      "400\n",
      "5\n",
      "600\n",
      "7\n",
      "800\n",
      "9\n"
     ]
    }
   ],
   "source": [
    "for x in range (1,10):\n",
    "    if x% 2:\n",
    "        print(x)\n",
    "    else:\n",
    "        print(x*100)"
   ]
  },
  {
   "cell_type": "markdown",
   "metadata": {},
   "source": [
    "### 5.[y for y in range(100) if y % 2 == 0 if y % 5 == 0]"
   ]
  },
  {
   "cell_type": "code",
   "execution_count": 7,
   "metadata": {},
   "outputs": [
    {
     "name": "stdout",
     "output_type": "stream",
     "text": [
      "0\n",
      "10\n",
      "20\n",
      "30\n",
      "40\n",
      "50\n",
      "60\n",
      "70\n",
      "80\n",
      "90\n"
     ]
    }
   ],
   "source": [
    "for y in range(100):\n",
    "    if y% 2==0:\n",
    "        if y% 5==0:\n",
    "            print(y)"
   ]
  },
  {
   "cell_type": "markdown",
   "metadata": {},
   "source": [
    "### 6.a = [22, 13, 45, 50, 98, 69, 43, 44, 1]\n",
    "[x+1 if x >= 45 else x+5 for x in a]"
   ]
  },
  {
   "cell_type": "code",
   "execution_count": 8,
   "metadata": {},
   "outputs": [
    {
     "name": "stdout",
     "output_type": "stream",
     "text": [
      "27\n",
      "18\n",
      "46\n",
      "51\n",
      "99\n",
      "70\n",
      "48\n",
      "49\n",
      "6\n"
     ]
    }
   ],
   "source": [
    "a=[22,13,45,50,98,69,43,44,1]\n",
    "for x in a:\n",
    "    if x>=45:\n",
    "        print(x+1)\n",
    "    else:\n",
    "        print(x+5)"
   ]
  },
  {
   "cell_type": "markdown",
   "metadata": {},
   "source": [
    "### 7.v = [22, 13, 45, 50, 98, 69, 43, 44, 1]\n",
    "[ (x+1 if x >=45 else x+5)  for x in v ]"
   ]
  },
  {
   "cell_type": "code",
   "execution_count": 9,
   "metadata": {},
   "outputs": [
    {
     "name": "stdout",
     "output_type": "stream",
     "text": [
      "27\n",
      "18\n",
      "46\n",
      "51\n",
      "99\n",
      "70\n",
      "48\n",
      "49\n",
      "6\n"
     ]
    }
   ],
   "source": [
    "v=[22,13,45,50,98,69,43,44,1]\n",
    "for x in v:\n",
    "    if x>=45:\n",
    "        print(x+1)\n",
    "    else:\n",
    "        print(x+5)\n",
    "        "
   ]
  },
  {
   "cell_type": "markdown",
   "metadata": {},
   "source": [
    "### 8.[x if x % 2 else x * 100 for x in range(1, 10) ]"
   ]
  },
  {
   "cell_type": "code",
   "execution_count": 10,
   "metadata": {},
   "outputs": [
    {
     "name": "stdout",
     "output_type": "stream",
     "text": [
      "1\n",
      "200\n",
      "3\n",
      "400\n",
      "5\n",
      "600\n",
      "7\n",
      "800\n",
      "9\n"
     ]
    }
   ],
   "source": [
    "for x in range(1,10):\n",
    "    if x% 2:\n",
    "        print(x)\n",
    "    else:\n",
    "        print(x*100)"
   ]
  },
  {
   "cell_type": "markdown",
   "metadata": {},
   "source": [
    "### 9.[[x*100, x][x % 2 != 0] for x in range(1,11)]"
   ]
  },
  {
   "cell_type": "code",
   "execution_count": 11,
   "metadata": {},
   "outputs": [
    {
     "name": "stdout",
     "output_type": "stream",
     "text": [
      "1\n",
      "200\n",
      "3\n",
      "400\n",
      "5\n",
      "600\n",
      "7\n",
      "800\n",
      "9\n",
      "1000\n"
     ]
    }
   ],
   "source": [
    "for x in range(1,11):\n",
    "    if x% 2!=0:\n",
    "        print(x)\n",
    "    else:\n",
    "        print(x*100)\n",
    "        "
   ]
  },
  {
   "cell_type": "markdown",
   "metadata": {},
   "source": [
    "### 10. [x if x % 2 != 0 else x * 100 for x in range(1,10)]"
   ]
  },
  {
   "cell_type": "code",
   "execution_count": 12,
   "metadata": {},
   "outputs": [
    {
     "name": "stdout",
     "output_type": "stream",
     "text": [
      "1\n",
      "200\n",
      "3\n",
      "400\n",
      "5\n",
      "600\n",
      "7\n",
      "800\n",
      "9\n"
     ]
    }
   ],
   "source": [
    "for x in range(1,10):\n",
    "    if x% 2!=0:\n",
    "        print(x)\n",
    "    else:\n",
    "        print(x*100)"
   ]
  },
  {
   "cell_type": "markdown",
   "metadata": {},
   "source": [
    "### 11.[a if a else 2 for a in [0,1,0,3]]"
   ]
  },
  {
   "cell_type": "code",
   "execution_count": 13,
   "metadata": {},
   "outputs": [
    {
     "name": "stdout",
     "output_type": "stream",
     "text": [
      "2\n",
      "1\n",
      "2\n",
      "3\n"
     ]
    }
   ],
   "source": [
    "for a in [0,1,0,3]:\n",
    "    if a:\n",
    "        print(a)\n",
    "    else:\n",
    "        print(2)"
   ]
  },
  {
   "cell_type": "markdown",
   "metadata": {},
   "source": [
    "### 12.[\"Even\" if i%2==0 else \"Odd\" for i in range(10)]"
   ]
  },
  {
   "cell_type": "code",
   "execution_count": 14,
   "metadata": {},
   "outputs": [
    {
     "name": "stdout",
     "output_type": "stream",
     "text": [
      "even\n",
      "odd\n",
      "even\n",
      "odd\n",
      "even\n",
      "odd\n",
      "even\n",
      "odd\n",
      "even\n",
      "odd\n"
     ]
    }
   ],
   "source": [
    "for i in range(10):\n",
    "    if i% 2==0:\n",
    "        print(\"even\")\n",
    "    else:\n",
    "        print(\"odd\")"
   ]
  },
  {
   "cell_type": "markdown",
   "metadata": {},
   "source": [
    "### 13.[(\"A\" if b==\"e\" else \"c\") for b in \"comprehension\"]"
   ]
  },
  {
   "cell_type": "code",
   "execution_count": 16,
   "metadata": {},
   "outputs": [
    {
     "name": "stdout",
     "output_type": "stream",
     "text": [
      "C\n",
      "C\n",
      "C\n",
      "C\n",
      "C\n",
      "A\n",
      "C\n",
      "A\n",
      "C\n",
      "C\n",
      "C\n",
      "C\n"
     ]
    }
   ],
   "source": [
    "for b in \"comprehesion\":\n",
    "    if b==\"e\":\n",
    "        print(\"A\")\n",
    "    else:\n",
    "        print(\"C\")"
   ]
  },
  {
   "cell_type": "markdown",
   "metadata": {},
   "source": [
    "### 14. [\"A\" if b==\"e\" else \"d\" if True else \"x\" for b in \"comprehension\"]"
   ]
  },
  {
   "cell_type": "code",
   "execution_count": 21,
   "metadata": {},
   "outputs": [
    {
     "name": "stdout",
     "output_type": "stream",
     "text": [
      "d\n",
      "d\n",
      "d\n",
      "d\n",
      "d\n",
      "A\n",
      "d\n",
      "A\n",
      "d\n",
      "d\n",
      "d\n",
      "d\n",
      "d\n"
     ]
    }
   ],
   "source": [
    "for b in \"comprehension\":\n",
    "    if b==\"e\":\n",
    "        print(\"A\")\n",
    "    elif True:\n",
    "        print(\"d\")\n",
    "    else:\n",
    "        print(\"x\")\n"
   ]
  },
  {
   "cell_type": "markdown",
   "metadata": {},
   "source": [
    "### 15.[\"A\" if b==\"e\" else \"c\" for b in \"comprehension\" if \"comprehension\".index(b)%2]"
   ]
  },
  {
   "cell_type": "code",
   "execution_count": 29,
   "metadata": {},
   "outputs": [
    {
     "name": "stdout",
     "output_type": "stream",
     "text": [
      "c\n",
      "c\n",
      "A\n",
      "A\n",
      "c\n",
      "c\n"
     ]
    }
   ],
   "source": [
    "for b in \"comprehension\":\n",
    "    if b==\"e\":\n",
    "        print(\"A\")\n",
    "    elif \"comprehension\".index(b)% 2:\n",
    "        print(\"c\")\n",
    "        "
   ]
  },
  {
   "cell_type": "markdown",
   "metadata": {},
   "source": [
    "###  16.[i for i in range(3) for _ in range(3)]"
   ]
  },
  {
   "cell_type": "code",
   "execution_count": 55,
   "metadata": {},
   "outputs": [
    {
     "name": "stdout",
     "output_type": "stream",
     "text": [
      "0\n",
      "0\n",
      "0\n",
      "1\n",
      "1\n",
      "1\n",
      "2\n",
      "2\n",
      "2\n"
     ]
    }
   ],
   "source": [
    "for i in range(3):  \n",
    "     for _ in range(3):\n",
    "        print(i)\n"
   ]
  },
  {
   "cell_type": "markdown",
   "metadata": {},
   "source": [
    "### 17.[i for i in range(3) if i for _ in range(3) if _ if True if True]"
   ]
  },
  {
   "cell_type": "code",
   "execution_count": 20,
   "metadata": {},
   "outputs": [
    {
     "name": "stdout",
     "output_type": "stream",
     "text": [
      "1\n",
      "1\n",
      "2\n",
      "2\n"
     ]
    }
   ],
   "source": [
    "for i in range(3):\n",
    "        if i:\n",
    "            if True:\n",
    "                for _ in range(3):\n",
    "                    if _:\n",
    "                        if True:\n",
    "                            print(i)"
   ]
  },
  {
   "cell_type": "markdown",
   "metadata": {},
   "source": [
    "### 18.[i for i in range(3) if (True if i else False)]"
   ]
  },
  {
   "cell_type": "code",
   "execution_count": 89,
   "metadata": {},
   "outputs": [
    {
     "name": "stdout",
     "output_type": "stream",
     "text": [
      "1\n",
      "2\n"
     ]
    }
   ],
   "source": [
    "for i in range(3):\n",
    "    if i:\n",
    "        if True:\n",
    "            print(i)\n",
    "        elif False:\n",
    "            print(i)"
   ]
  },
  {
   "cell_type": "markdown",
   "metadata": {},
   "source": [
    "### 19.[[i for j in range(i)] for i in range(3)]"
   ]
  },
  {
   "cell_type": "code",
   "execution_count": 111,
   "metadata": {},
   "outputs": [
    {
     "name": "stdout",
     "output_type": "stream",
     "text": [
      "[1]\n",
      "[2]\n",
      "[2]\n"
     ]
    }
   ],
   "source": [
    "for i in range(3):\n",
    "    for j in range(i):\n",
    "        print([i])"
   ]
  },
  {
   "cell_type": "markdown",
   "metadata": {},
   "source": [
    "### 20.list1 = [10, 20, 30, 40, 50]newlist2 = [x if x > 30 else x**2 for x in list1 ]print(newlist2, type(newlist2))"
   ]
  },
  {
   "cell_type": "code",
   "execution_count": 14,
   "metadata": {},
   "outputs": [
    {
     "name": "stdout",
     "output_type": "stream",
     "text": [
      "100\n",
      "400\n",
      "900\n",
      "40\n",
      "50\n",
      "[True] <class 'list'>\n"
     ]
    }
   ],
   "source": [
    "list1=[10,20,30,40,50]\n",
    "newlist2=[x in list1]\n",
    "for x in list1:\n",
    "    if x>30:\n",
    "        print(x)\n",
    "    else:\n",
    "        print(x**2)\n",
    "print(newlist2,type (newlist2))        \n"
   ]
  },
  {
   "cell_type": "markdown",
   "metadata": {},
   "source": [
    "### 21.a = [22, 13, 45, 50, 98, 69, 43, 44, 1][x+1 if x >= 45 else x+5 for x in a]"
   ]
  },
  {
   "cell_type": "code",
   "execution_count": 16,
   "metadata": {},
   "outputs": [
    {
     "name": "stdout",
     "output_type": "stream",
     "text": [
      "27\n",
      "18\n",
      "46\n",
      "51\n",
      "99\n",
      "70\n",
      "48\n",
      "49\n",
      "6\n"
     ]
    }
   ],
   "source": [
    "a = [22, 13, 45, 50, 98, 69, 43, 44, 1]\n",
    "for x in a:\n",
    "    if x>=45:\n",
    "        print(x+1)\n",
    "    else:\n",
    "        print(x+5)"
   ]
  },
  {
   "cell_type": "markdown",
   "metadata": {},
   "source": [
    "### 22.v = [22, 13, 45, 50, 98, 69, 43, 44, 1][ (x+1 if x >=45 else x+5)  for x in v ]"
   ]
  },
  {
   "cell_type": "code",
   "execution_count": 17,
   "metadata": {},
   "outputs": [
    {
     "name": "stdout",
     "output_type": "stream",
     "text": [
      "27\n",
      "18\n",
      "46\n",
      "51\n",
      "99\n",
      "70\n",
      "48\n",
      "49\n",
      "6\n"
     ]
    }
   ],
   "source": [
    "v = [22, 13, 45, 50, 98, 69, 43, 44, 1]\n",
    "for x in v:\n",
    "    if x>=45:\n",
    "        print(x+1)\n",
    "    else:\n",
    "        print(x+5)"
   ]
  },
  {
   "cell_type": "markdown",
   "metadata": {},
   "source": [
    "### 23. X = [1.5, 2.3, 4.4, 5.4, 'n', 1.5, 5.1, 'a']X_non_str = [el for el in X if not isinstance(el, str)]X_str_changed = ['b' if isinstance(el, str) else el for el in X]print(X_non_str)print(X_str_changed)"
   ]
  },
  {
   "cell_type": "code",
   "execution_count": 35,
   "metadata": {},
   "outputs": [
    {
     "name": "stdout",
     "output_type": "stream",
     "text": [
      "1.5\n",
      "2.3\n",
      "4.4\n",
      "5.4\n",
      "b\n",
      "1.5\n",
      "5.1\n",
      "b\n"
     ]
    }
   ],
   "source": [
    "x=[1.5, 2.3, 4.4, 5.4, \"n\", 1.5, 5.1, \"a\"]\n",
    "for el in x:\n",
    "    if not isinstance(el,str):\n",
    "        print(el)\n",
    "    if isinstance(el,str):\n",
    "        print(\"b\")"
   ]
  },
  {
   "cell_type": "markdown",
   "metadata": {},
   "source": [
    "### 24. [i**2 if i%2==0 else i**3 for i in [1,2,3,4,5]]"
   ]
  },
  {
   "cell_type": "code",
   "execution_count": 36,
   "metadata": {},
   "outputs": [
    {
     "name": "stdout",
     "output_type": "stream",
     "text": [
      "1\n",
      "4\n",
      "27\n",
      "16\n",
      "125\n"
     ]
    }
   ],
   "source": [
    "for i in[1,2,3,4,5]:\n",
    "    if i%2==0:\n",
    "        print(i**2)\n",
    "    else:\n",
    "        print(i**3)"
   ]
  },
  {
   "cell_type": "markdown",
   "metadata": {},
   "source": [
    "### 25.print([10*i if i%2==0 else 100*i for i in range(6)])"
   ]
  },
  {
   "cell_type": "code",
   "execution_count": 38,
   "metadata": {},
   "outputs": [
    {
     "name": "stdout",
     "output_type": "stream",
     "text": [
      "0\n",
      "100\n",
      "20\n",
      "300\n",
      "40\n",
      "500\n"
     ]
    }
   ],
   "source": [
    "for i in range(6):\n",
    "    if i%2==0:\n",
    "        print(10*i)\n",
    "    else:\n",
    "        print(100*i)"
   ]
  },
  {
   "cell_type": "markdown",
   "metadata": {},
   "source": [
    "### 26.['float' if x % 1 else 'int' for x in range(10)]"
   ]
  },
  {
   "cell_type": "code",
   "execution_count": 42,
   "metadata": {},
   "outputs": [
    {
     "name": "stdout",
     "output_type": "stream",
     "text": [
      "'int'\n",
      "'int'\n",
      "'int'\n",
      "'int'\n",
      "'int'\n",
      "'int'\n",
      "'int'\n",
      "'int'\n",
      "'int'\n",
      "'int'\n"
     ]
    }
   ],
   "source": [
    "for x in range(10):\n",
    "    if x%1:\n",
    "        print(\"'float'\")\n",
    "    else:\n",
    "        print(\"'int'\")"
   ]
  },
  {
   "cell_type": "markdown",
   "metadata": {},
   "source": [
    "### 27.['float' if (x + x % 2 / 10) % 1 else 'int' for x in range(10)]"
   ]
  },
  {
   "cell_type": "code",
   "execution_count": 44,
   "metadata": {},
   "outputs": [
    {
     "name": "stdout",
     "output_type": "stream",
     "text": [
      "int\n",
      "float\n",
      "int\n",
      "float\n",
      "int\n",
      "float\n",
      "int\n",
      "float\n",
      "int\n",
      "float\n"
     ]
    }
   ],
   "source": [
    "for x in range(10):\n",
    "    if(x+x%2/10)%1:\n",
    "        print(\"float\")\n",
    "    else:\n",
    "            print(\"int\")"
   ]
  },
  {
   "cell_type": "markdown",
   "metadata": {},
   "source": [
    "### 28.['float' if x % 1 else 'int' for x in range(10)]"
   ]
  },
  {
   "cell_type": "code",
   "execution_count": 49,
   "metadata": {},
   "outputs": [
    {
     "name": "stdout",
     "output_type": "stream",
     "text": [
      "int\n",
      "int\n",
      "int\n",
      "int\n",
      "int\n",
      "int\n",
      "int\n",
      "int\n",
      "int\n",
      "int\n"
     ]
    }
   ],
   "source": [
    "for x in range(10):\n",
    "    if x % 1:\n",
    "        print('float')\n",
    "    else:\n",
    "        print('int')"
   ]
  },
  {
   "cell_type": "markdown",
   "metadata": {},
   "source": [
    "### 29.nums = [1, 3, 5, 7, 9, 11, 13, 15]\n",
    "## info = [\"by 5\" if num % 5 == 0 else \"by 3\" if num % 3 == 0 else \"one\" if num == 1 else \"other\" for num in nums]\n",
    "## info"
   ]
  },
  {
   "cell_type": "code",
   "execution_count": 53,
   "metadata": {},
   "outputs": [
    {
     "name": "stdout",
     "output_type": "stream",
     "text": [
      "one\n",
      "by3\n",
      "by5\n",
      "other\n",
      "by3\n",
      "other\n",
      "other\n",
      "by5\n"
     ]
    }
   ],
   "source": [
    "num = [1, 3, 5, 7, 9, 11, 13, 15]\n",
    "for num in num:\n",
    "    if num % 5 == 0:\n",
    "        print(\"by5\")\n",
    "    elif num % 3 == 0:\n",
    "        print(\"by3\")\n",
    "    elif num == 1:\n",
    "        print(\"one\")\n",
    "    else:\n",
    "        print(\"other\")"
   ]
  },
  {
   "cell_type": "markdown",
   "metadata": {},
   "source": [
    "### 30.nums=[1,3,5,6,9,11,13,15]\n",
    "### a=[\"by 5\" if num % 5 == 0 else \"by 3\" if num % 3 == 0 and num % 2 != 0 else \"one\" if num == 1 else \"other\" for num in nums]\n",
    "## a"
   ]
  },
  {
   "cell_type": "code",
   "execution_count": 55,
   "metadata": {},
   "outputs": [
    {
     "name": "stdout",
     "output_type": "stream",
     "text": [
      "'one'\n",
      "'by3'\n",
      "'by5'\n",
      "'other'\n",
      "'by3'\n",
      "'other'\n",
      "'other'\n",
      "'by5'\n"
     ]
    }
   ],
   "source": [
    "num = [1, 3, 5, 6, 9, 11, 13, 15]\n",
    "for num in num:\n",
    "    if num % 5 == 0:\n",
    "        print(\"'by5'\") \n",
    "    elif num % 3 ==0 and num % 2!=0:\n",
    "        print(\"'by3'\")\n",
    "    elif num == 1:\n",
    "        print(\"'one'\")\n",
    "    else:\n",
    "        print(\"'other'\")\n",
    "    "
   ]
  },
  {
   "cell_type": "code",
   "execution_count": null,
   "metadata": {},
   "outputs": [],
   "source": []
  }
 ],
 "metadata": {
  "kernelspec": {
   "display_name": "Python 3",
   "language": "python",
   "name": "python3"
  },
  "language_info": {
   "codemirror_mode": {
    "name": "ipython",
    "version": 3
   },
   "file_extension": ".py",
   "mimetype": "text/x-python",
   "name": "python",
   "nbconvert_exporter": "python",
   "pygments_lexer": "ipython3",
   "version": "3.7.4"
  }
 },
 "nbformat": 4,
 "nbformat_minor": 2
}
