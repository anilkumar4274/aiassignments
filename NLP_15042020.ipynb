{
  "nbformat": 4,
  "nbformat_minor": 0,
  "metadata": {
    "colab": {
      "name": "NLP_15042020.ipynb",
      "provenance": [],
      "collapsed_sections": [],
      "authorship_tag": "ABX9TyMkdKzMjzHtw17Xv1FdlakP",
      "include_colab_link": true
    },
    "kernelspec": {
      "name": "python3",
      "display_name": "Python 3"
    }
  },
  "cells": [
    {
      "cell_type": "markdown",
      "metadata": {
        "id": "view-in-github",
        "colab_type": "text"
      },
      "source": [
        "<a href=\"https://colab.research.google.com/github/anilkumar4274/aiassignments/blob/sharath/NLP_15042020.ipynb\" target=\"_parent\"><img src=\"https://colab.research.google.com/assets/colab-badge.svg\" alt=\"Open In Colab\"/></a>"
      ]
    },
    {
      "cell_type": "markdown",
      "metadata": {
        "id": "CrKGzzGidvg5",
        "colab_type": "text"
      },
      "source": [
        "### How to mount google drive in colab?"
      ]
    },
    {
      "cell_type": "code",
      "metadata": {
        "id": "FuGk5D6BeGGu",
        "colab_type": "code",
        "colab": {
          "base_uri": "https://localhost:8080/",
          "height": 124
        },
        "outputId": "cdc13dde-9dda-4d61-ed01-b5ba8ecde2dc"
      },
      "source": [
        "from google.colab import drive\n",
        "drive.mount('/content/gdrive')"
      ],
      "execution_count": 1,
      "outputs": [
        {
          "output_type": "stream",
          "text": [
            "Go to this URL in a browser: https://accounts.google.com/o/oauth2/auth?client_id=947318989803-6bn6qk8qdgf4n4g3pfee6491hc0brc4i.apps.googleusercontent.com&redirect_uri=urn%3aietf%3awg%3aoauth%3a2.0%3aoob&response_type=code&scope=email%20https%3a%2f%2fwww.googleapis.com%2fauth%2fdocs.test%20https%3a%2f%2fwww.googleapis.com%2fauth%2fdrive%20https%3a%2f%2fwww.googleapis.com%2fauth%2fdrive.photos.readonly%20https%3a%2f%2fwww.googleapis.com%2fauth%2fpeopleapi.readonly\n",
            "\n",
            "Enter your authorization code:\n",
            "··········\n",
            "Mounted at /content/gdrive\n"
          ],
          "name": "stdout"
        }
      ]
    },
    {
      "cell_type": "markdown",
      "metadata": {
        "id": "1_jvtqIqfynS",
        "colab_type": "text"
      },
      "source": [
        "### Q. How to read csv file from google drive?"
      ]
    },
    {
      "cell_type": "code",
      "metadata": {
        "id": "bRcVl6J8eDTz",
        "colab_type": "code",
        "colab": {}
      },
      "source": [
        "import pandas as pd\n",
        "df=pd.read_csv('gdrive/My Drive/sub_lreg_bow.csv')"
      ],
      "execution_count": 0,
      "outputs": []
    },
    {
      "cell_type": "code",
      "metadata": {
        "id": "acnVkA5nfDOf",
        "colab_type": "code",
        "colab": {
          "base_uri": "https://localhost:8080/",
          "height": 202
        },
        "outputId": "04861976-ebfe-4651-b8ff-1bd1283483b3"
      },
      "source": [
        "df.head()"
      ],
      "execution_count": 3,
      "outputs": [
        {
          "output_type": "execute_result",
          "data": {
            "text/html": [
              "<div>\n",
              "<style scoped>\n",
              "    .dataframe tbody tr th:only-of-type {\n",
              "        vertical-align: middle;\n",
              "    }\n",
              "\n",
              "    .dataframe tbody tr th {\n",
              "        vertical-align: top;\n",
              "    }\n",
              "\n",
              "    .dataframe thead th {\n",
              "        text-align: right;\n",
              "    }\n",
              "</style>\n",
              "<table border=\"1\" class=\"dataframe\">\n",
              "  <thead>\n",
              "    <tr style=\"text-align: right;\">\n",
              "      <th></th>\n",
              "      <th>id</th>\n",
              "      <th>label</th>\n",
              "    </tr>\n",
              "  </thead>\n",
              "  <tbody>\n",
              "    <tr>\n",
              "      <th>0</th>\n",
              "      <td>31963</td>\n",
              "      <td>0</td>\n",
              "    </tr>\n",
              "    <tr>\n",
              "      <th>1</th>\n",
              "      <td>31964</td>\n",
              "      <td>0</td>\n",
              "    </tr>\n",
              "    <tr>\n",
              "      <th>2</th>\n",
              "      <td>31965</td>\n",
              "      <td>0</td>\n",
              "    </tr>\n",
              "    <tr>\n",
              "      <th>3</th>\n",
              "      <td>31966</td>\n",
              "      <td>0</td>\n",
              "    </tr>\n",
              "    <tr>\n",
              "      <th>4</th>\n",
              "      <td>31967</td>\n",
              "      <td>0</td>\n",
              "    </tr>\n",
              "  </tbody>\n",
              "</table>\n",
              "</div>"
            ],
            "text/plain": [
              "      id  label\n",
              "0  31963      0\n",
              "1  31964      0\n",
              "2  31965      0\n",
              "3  31966      0\n",
              "4  31967      0"
            ]
          },
          "metadata": {
            "tags": []
          },
          "execution_count": 3
        }
      ]
    },
    {
      "cell_type": "markdown",
      "metadata": {
        "id": "4q2H3P5lf5rg",
        "colab_type": "text"
      },
      "source": [
        "### Q. How to save csv file in google drive?"
      ]
    },
    {
      "cell_type": "code",
      "metadata": {
        "id": "L6qLtKNVfE1Z",
        "colab_type": "code",
        "colab": {}
      },
      "source": [
        "df.to_csv('gdrive/My Drive/15042020.csv')"
      ],
      "execution_count": 0,
      "outputs": []
    },
    {
      "cell_type": "code",
      "metadata": {
        "id": "arXkGJIffOXg",
        "colab_type": "code",
        "colab": {}
      },
      "source": [
        "AI=\"\"\"In computer science, artificial intelligence (AI), sometimes called machine intelligence, is intelligence demonstrated by machines, in contrast to the natural intelligence displayed by humans. Colloquially, the term \"artificial intelligence\" is often used to describe machines (or computers) that mimic \"cognitive\" functions that humans associate with the human mind, such as \"learning\" and \"problem solving\".\n",
        "\n",
        "As machines become increasingly capable, tasks considered to require \"intelligence\" are often removed from the definition of AI, a phenomenon known as the AI effect. A quip in Tesler's Theorem says \"AI is whatever hasn't been done yet.\" For instance, optical character recognition is frequently excluded from things considered to be AI, having become a routine technology. Modern machine capabilities generally classified as AI include successfully understanding human speech,[5] competing at the highest level in strategic game systems (such as chess and Go),[6] autonomously operating cars, intelligent routing in content delivery networks, and military simulations.\"\"\""
      ],
      "execution_count": 0,
      "outputs": []
    },
    {
      "cell_type": "code",
      "metadata": {
        "id": "5BjMsq2iheR8",
        "colab_type": "code",
        "colab": {}
      },
      "source": [
        "### Q. How to download the dependency of nltk library?\n",
        "import nltk\n",
        "nltk.download('punkt')"
      ],
      "execution_count": 0,
      "outputs": []
    },
    {
      "cell_type": "code",
      "metadata": {
        "id": "LvqfxXtWhE32",
        "colab_type": "code",
        "colab": {}
      },
      "source": [
        "### Q. How to tokenize each and every word from the sentence?\n",
        "from nltk import word_tokenize\n",
        "AI_tokens=word_tokenize(AI)"
      ],
      "execution_count": 0,
      "outputs": []
    },
    {
      "cell_type": "code",
      "metadata": {
        "id": "PP9-GeN5hE7O",
        "colab_type": "code",
        "colab": {
          "base_uri": "https://localhost:8080/",
          "height": 35
        },
        "outputId": "94e99c98-2c2b-4016-9ed0-0c5fa51af5a6"
      },
      "source": [
        "### Q. How to know, how many elements are present in a list?\n",
        "len(AI_tokens)"
      ],
      "execution_count": 12,
      "outputs": [
        {
          "output_type": "execute_result",
          "data": {
            "text/plain": [
              "195"
            ]
          },
          "metadata": {
            "tags": []
          },
          "execution_count": 12
        }
      ]
    },
    {
      "cell_type": "code",
      "metadata": {
        "id": "P5m6EFFrhE-X",
        "colab_type": "code",
        "colab": {}
      },
      "source": [
        "# Q. How to import freqdist module from nltk?\n",
        "from nltk.probability import FreqDist\n",
        "fdist=FreqDist()"
      ],
      "execution_count": 0,
      "outputs": []
    },
    {
      "cell_type": "code",
      "metadata": {
        "id": "zY0jXYObhFBg",
        "colab_type": "code",
        "colab": {
          "base_uri": "https://localhost:8080/",
          "height": 1000
        },
        "outputId": "252d641a-a3ef-4a5e-f5f4-f4aef2c4cf60"
      },
      "source": [
        "### Q. How to the frequency of words from a sentence?\n",
        "for word in AI_tokens:\n",
        "  fdist[word.lower()]+=1\n",
        "fdist"
      ],
      "execution_count": 18,
      "outputs": [
        {
          "output_type": "execute_result",
          "data": {
            "text/plain": [
              "FreqDist({\"''\": 12,\n",
              "          \"'s\": 2,\n",
              "          '(': 6,\n",
              "          ')': 6,\n",
              "          ',': 28,\n",
              "          '.': 12,\n",
              "          '5': 2,\n",
              "          '6': 2,\n",
              "          '[': 4,\n",
              "          ']': 4,\n",
              "          '``': 12,\n",
              "          'a': 6,\n",
              "          'ai': 12,\n",
              "          'and': 6,\n",
              "          'are': 2,\n",
              "          'artificial': 4,\n",
              "          'as': 10,\n",
              "          'associate': 2,\n",
              "          'at': 2,\n",
              "          'autonomously': 2,\n",
              "          'be': 2,\n",
              "          'become': 4,\n",
              "          'been': 2,\n",
              "          'by': 4,\n",
              "          'called': 2,\n",
              "          'capabilities': 2,\n",
              "          'capable': 2,\n",
              "          'cars': 2,\n",
              "          'character': 2,\n",
              "          'chess': 2,\n",
              "          'classified': 2,\n",
              "          'cognitive': 2,\n",
              "          'colloquially': 2,\n",
              "          'competing': 2,\n",
              "          'computer': 2,\n",
              "          'computers': 2,\n",
              "          'considered': 4,\n",
              "          'content': 2,\n",
              "          'contrast': 2,\n",
              "          'definition': 2,\n",
              "          'delivery': 2,\n",
              "          'demonstrated': 2,\n",
              "          'describe': 2,\n",
              "          'displayed': 2,\n",
              "          'done': 2,\n",
              "          'effect': 2,\n",
              "          'excluded': 2,\n",
              "          'for': 2,\n",
              "          'frequently': 2,\n",
              "          'from': 4,\n",
              "          'functions': 2,\n",
              "          'game': 2,\n",
              "          'generally': 2,\n",
              "          'go': 2,\n",
              "          'has': 2,\n",
              "          'having': 2,\n",
              "          'highest': 2,\n",
              "          'human': 4,\n",
              "          'humans': 4,\n",
              "          'in': 10,\n",
              "          'include': 2,\n",
              "          'increasingly': 2,\n",
              "          'instance': 2,\n",
              "          'intelligence': 12,\n",
              "          'intelligent': 2,\n",
              "          'is': 8,\n",
              "          'known': 2,\n",
              "          'learning': 2,\n",
              "          'level': 2,\n",
              "          'machine': 4,\n",
              "          'machines': 6,\n",
              "          'military': 2,\n",
              "          'mimic': 2,\n",
              "          'mind': 2,\n",
              "          'modern': 2,\n",
              "          \"n't\": 2,\n",
              "          'natural': 2,\n",
              "          'networks': 2,\n",
              "          'of': 2,\n",
              "          'often': 4,\n",
              "          'operating': 2,\n",
              "          'optical': 2,\n",
              "          'or': 2,\n",
              "          'phenomenon': 2,\n",
              "          'problem': 2,\n",
              "          'quip': 2,\n",
              "          'recognition': 2,\n",
              "          'removed': 2,\n",
              "          'require': 2,\n",
              "          'routine': 2,\n",
              "          'routing': 2,\n",
              "          'says': 2,\n",
              "          'science': 2,\n",
              "          'simulations': 2,\n",
              "          'solving': 2,\n",
              "          'sometimes': 2,\n",
              "          'speech': 2,\n",
              "          'strategic': 2,\n",
              "          'successfully': 2,\n",
              "          'such': 4,\n",
              "          'systems': 2,\n",
              "          'tasks': 2,\n",
              "          'technology': 2,\n",
              "          'term': 2,\n",
              "          'tesler': 2,\n",
              "          'that': 4,\n",
              "          'the': 12,\n",
              "          'theorem': 2,\n",
              "          'things': 2,\n",
              "          'to': 8,\n",
              "          'understanding': 2,\n",
              "          'used': 2,\n",
              "          'whatever': 2,\n",
              "          'with': 2,\n",
              "          'yet': 2})"
            ]
          },
          "metadata": {
            "tags": []
          },
          "execution_count": 18
        }
      ]
    },
    {
      "cell_type": "code",
      "metadata": {
        "id": "UbHzesOYhFEb",
        "colab_type": "code",
        "colab": {}
      },
      "source": [
        ""
      ],
      "execution_count": 0,
      "outputs": []
    },
    {
      "cell_type": "code",
      "metadata": {
        "id": "SM4jqqgVhFHb",
        "colab_type": "code",
        "colab": {}
      },
      "source": [
        ""
      ],
      "execution_count": 0,
      "outputs": []
    },
    {
      "cell_type": "code",
      "metadata": {
        "id": "NKFNFzLihFKR",
        "colab_type": "code",
        "colab": {}
      },
      "source": [
        ""
      ],
      "execution_count": 0,
      "outputs": []
    }
  ]
}