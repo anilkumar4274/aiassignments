{
  "nbformat": 4,
  "nbformat_minor": 0,
  "metadata": {
    "colab": {
      "name": "NLP_15042020.ipynb",
      "provenance": [],
      "collapsed_sections": [],
      "authorship_tag": "ABX9TyMHRKlUwhTTo/QqOElxXiSh",
      "include_colab_link": true
    },
    "kernelspec": {
      "name": "python3",
      "display_name": "Python 3"
    }
  },
  "cells": [
    {
      "cell_type": "markdown",
      "metadata": {
        "id": "view-in-github",
        "colab_type": "text"
      },
      "source": [
        "<a href=\"https://colab.research.google.com/github/anilkumar4274/aiassignments/blob/sharath/NLP_15042020.ipynb\" target=\"_parent\"><img src=\"https://colab.research.google.com/assets/colab-badge.svg\" alt=\"Open In Colab\"/></a>"
      ]
    },
    {
      "cell_type": "markdown",
      "metadata": {
        "id": "CrKGzzGidvg5",
        "colab_type": "text"
      },
      "source": [
        "### How to mount google drive in colab?"
      ]
    },
    {
      "cell_type": "code",
      "metadata": {
        "id": "FuGk5D6BeGGu",
        "colab_type": "code",
        "outputId": "cdc13dde-9dda-4d61-ed01-b5ba8ecde2dc",
        "colab": {
          "base_uri": "https://localhost:8080/",
          "height": 124
        }
      },
      "source": [
        "from google.colab import drive\n",
        "drive.mount('/content/gdrive')"
      ],
      "execution_count": 0,
      "outputs": [
        {
          "output_type": "stream",
          "text": [
            "Go to this URL in a browser: https://accounts.google.com/o/oauth2/auth?client_id=947318989803-6bn6qk8qdgf4n4g3pfee6491hc0brc4i.apps.googleusercontent.com&redirect_uri=urn%3aietf%3awg%3aoauth%3a2.0%3aoob&response_type=code&scope=email%20https%3a%2f%2fwww.googleapis.com%2fauth%2fdocs.test%20https%3a%2f%2fwww.googleapis.com%2fauth%2fdrive%20https%3a%2f%2fwww.googleapis.com%2fauth%2fdrive.photos.readonly%20https%3a%2f%2fwww.googleapis.com%2fauth%2fpeopleapi.readonly\n",
            "\n",
            "Enter your authorization code:\n",
            "··········\n",
            "Mounted at /content/gdrive\n"
          ],
          "name": "stdout"
        }
      ]
    },
    {
      "cell_type": "markdown",
      "metadata": {
        "id": "1_jvtqIqfynS",
        "colab_type": "text"
      },
      "source": [
        "### Q. How to read csv file from google drive?"
      ]
    },
    {
      "cell_type": "code",
      "metadata": {
        "id": "bRcVl6J8eDTz",
        "colab_type": "code",
        "colab": {}
      },
      "source": [
        "import pandas as pd\n",
        "df=pd.read_csv('gdrive/My Drive/sub_lreg_bow.csv')"
      ],
      "execution_count": 0,
      "outputs": []
    },
    {
      "cell_type": "code",
      "metadata": {
        "id": "acnVkA5nfDOf",
        "colab_type": "code",
        "outputId": "04861976-ebfe-4651-b8ff-1bd1283483b3",
        "colab": {
          "base_uri": "https://localhost:8080/",
          "height": 202
        }
      },
      "source": [
        "df.head()"
      ],
      "execution_count": 0,
      "outputs": [
        {
          "output_type": "execute_result",
          "data": {
            "text/html": [
              "<div>\n",
              "<style scoped>\n",
              "    .dataframe tbody tr th:only-of-type {\n",
              "        vertical-align: middle;\n",
              "    }\n",
              "\n",
              "    .dataframe tbody tr th {\n",
              "        vertical-align: top;\n",
              "    }\n",
              "\n",
              "    .dataframe thead th {\n",
              "        text-align: right;\n",
              "    }\n",
              "</style>\n",
              "<table border=\"1\" class=\"dataframe\">\n",
              "  <thead>\n",
              "    <tr style=\"text-align: right;\">\n",
              "      <th></th>\n",
              "      <th>id</th>\n",
              "      <th>label</th>\n",
              "    </tr>\n",
              "  </thead>\n",
              "  <tbody>\n",
              "    <tr>\n",
              "      <th>0</th>\n",
              "      <td>31963</td>\n",
              "      <td>0</td>\n",
              "    </tr>\n",
              "    <tr>\n",
              "      <th>1</th>\n",
              "      <td>31964</td>\n",
              "      <td>0</td>\n",
              "    </tr>\n",
              "    <tr>\n",
              "      <th>2</th>\n",
              "      <td>31965</td>\n",
              "      <td>0</td>\n",
              "    </tr>\n",
              "    <tr>\n",
              "      <th>3</th>\n",
              "      <td>31966</td>\n",
              "      <td>0</td>\n",
              "    </tr>\n",
              "    <tr>\n",
              "      <th>4</th>\n",
              "      <td>31967</td>\n",
              "      <td>0</td>\n",
              "    </tr>\n",
              "  </tbody>\n",
              "</table>\n",
              "</div>"
            ],
            "text/plain": [
              "      id  label\n",
              "0  31963      0\n",
              "1  31964      0\n",
              "2  31965      0\n",
              "3  31966      0\n",
              "4  31967      0"
            ]
          },
          "metadata": {
            "tags": []
          },
          "execution_count": 3
        }
      ]
    },
    {
      "cell_type": "markdown",
      "metadata": {
        "id": "4q2H3P5lf5rg",
        "colab_type": "text"
      },
      "source": [
        "### Q. How to save csv file in google drive?"
      ]
    },
    {
      "cell_type": "code",
      "metadata": {
        "id": "L6qLtKNVfE1Z",
        "colab_type": "code",
        "colab": {}
      },
      "source": [
        "df.to_csv('gdrive/My Drive/15042020.csv')"
      ],
      "execution_count": 0,
      "outputs": []
    },
    {
      "cell_type": "code",
      "metadata": {
        "id": "arXkGJIffOXg",
        "colab_type": "code",
        "colab": {}
      },
      "source": [
        "AI=\"\"\"In computer science, artificial intelligence (AI), sometimes called machine intelligence, is intelligence demonstrated by machines, in contrast to the natural intelligence displayed by humans. Colloquially, the term \"artificial intelligence\" is often used to describe machines (or computers) that mimic \"cognitive\" functions that humans associate with the human mind, such as \"learning\" and \"problem solving\".\n",
        "\n",
        "As machines become increasingly capable, tasks considered to require \"intelligence\" are often removed from the definition of AI, a phenomenon known as the AI effect. A quip in Tesler's Theorem says \"AI is whatever hasn't been done yet.\" For instance, optical character recognition is frequently excluded from things considered to be AI, having become a routine technology. Modern machine capabilities generally classified as AI include successfully understanding human speech,[5] competing at the highest level in strategic game systems (such as chess and Go),[6] autonomously operating cars, intelligent routing in content delivery networks, and military simulations.\"\"\""
      ],
      "execution_count": 0,
      "outputs": []
    },
    {
      "cell_type": "code",
      "metadata": {
        "id": "5BjMsq2iheR8",
        "colab_type": "code",
        "colab": {
          "base_uri": "https://localhost:8080/",
          "height": 69
        },
        "outputId": "4fd9a727-400e-4361-da68-bf7c6533cb50"
      },
      "source": [
        "### Q. How to download the dependency of nltk library?\n",
        "import nltk\n",
        "nltk.download('punkt')"
      ],
      "execution_count": 4,
      "outputs": [
        {
          "output_type": "stream",
          "text": [
            "[nltk_data] Downloading package punkt to /root/nltk_data...\n",
            "[nltk_data]   Unzipping tokenizers/punkt.zip.\n"
          ],
          "name": "stdout"
        },
        {
          "output_type": "execute_result",
          "data": {
            "text/plain": [
              "True"
            ]
          },
          "metadata": {
            "tags": []
          },
          "execution_count": 4
        }
      ]
    },
    {
      "cell_type": "code",
      "metadata": {
        "id": "LvqfxXtWhE32",
        "colab_type": "code",
        "colab": {}
      },
      "source": [
        "### Q. How to tokenize each and every word from the sentence?\n",
        "from nltk import word_tokenize\n",
        "AI_tokens=word_tokenize(AI)"
      ],
      "execution_count": 0,
      "outputs": []
    },
    {
      "cell_type": "code",
      "metadata": {
        "id": "PP9-GeN5hE7O",
        "colab_type": "code",
        "outputId": "94e99c98-2c2b-4016-9ed0-0c5fa51af5a6",
        "colab": {
          "base_uri": "https://localhost:8080/",
          "height": 35
        }
      },
      "source": [
        "### Q. How to know, how many elements are present in a list?\n",
        "len(AI_tokens)"
      ],
      "execution_count": 0,
      "outputs": [
        {
          "output_type": "execute_result",
          "data": {
            "text/plain": [
              "195"
            ]
          },
          "metadata": {
            "tags": []
          },
          "execution_count": 12
        }
      ]
    },
    {
      "cell_type": "code",
      "metadata": {
        "id": "P5m6EFFrhE-X",
        "colab_type": "code",
        "colab": {}
      },
      "source": [
        "# Q. How to import freqdist module from nltk?\n",
        "from nltk.probability import FreqDist\n",
        "fdist=FreqDist()"
      ],
      "execution_count": 0,
      "outputs": []
    },
    {
      "cell_type": "code",
      "metadata": {
        "id": "zY0jXYObhFBg",
        "colab_type": "code",
        "outputId": "2487cc7f-6687-464e-f896-fbb188dcabf4",
        "colab": {
          "base_uri": "https://localhost:8080/",
          "height": 1000
        }
      },
      "source": [
        "### Q. How to the frequency of words from a sentence?\n",
        "for word in AI_tokens:\n",
        "  fdist[word.lower()]+=1\n",
        "fdist"
      ],
      "execution_count": 7,
      "outputs": [
        {
          "output_type": "execute_result",
          "data": {
            "text/plain": [
              "FreqDist({\"''\": 6,\n",
              "          \"'s\": 1,\n",
              "          '(': 3,\n",
              "          ')': 3,\n",
              "          ',': 14,\n",
              "          '.': 6,\n",
              "          '5': 1,\n",
              "          '6': 1,\n",
              "          '[': 2,\n",
              "          ']': 2,\n",
              "          '``': 6,\n",
              "          'a': 3,\n",
              "          'ai': 6,\n",
              "          'and': 3,\n",
              "          'are': 1,\n",
              "          'artificial': 2,\n",
              "          'as': 5,\n",
              "          'associate': 1,\n",
              "          'at': 1,\n",
              "          'autonomously': 1,\n",
              "          'be': 1,\n",
              "          'become': 2,\n",
              "          'been': 1,\n",
              "          'by': 2,\n",
              "          'called': 1,\n",
              "          'capabilities': 1,\n",
              "          'capable': 1,\n",
              "          'cars': 1,\n",
              "          'character': 1,\n",
              "          'chess': 1,\n",
              "          'classified': 1,\n",
              "          'cognitive': 1,\n",
              "          'colloquially': 1,\n",
              "          'competing': 1,\n",
              "          'computer': 1,\n",
              "          'computers': 1,\n",
              "          'considered': 2,\n",
              "          'content': 1,\n",
              "          'contrast': 1,\n",
              "          'definition': 1,\n",
              "          'delivery': 1,\n",
              "          'demonstrated': 1,\n",
              "          'describe': 1,\n",
              "          'displayed': 1,\n",
              "          'done': 1,\n",
              "          'effect': 1,\n",
              "          'excluded': 1,\n",
              "          'for': 1,\n",
              "          'frequently': 1,\n",
              "          'from': 2,\n",
              "          'functions': 1,\n",
              "          'game': 1,\n",
              "          'generally': 1,\n",
              "          'go': 1,\n",
              "          'has': 1,\n",
              "          'having': 1,\n",
              "          'highest': 1,\n",
              "          'human': 2,\n",
              "          'humans': 2,\n",
              "          'in': 5,\n",
              "          'include': 1,\n",
              "          'increasingly': 1,\n",
              "          'instance': 1,\n",
              "          'intelligence': 6,\n",
              "          'intelligent': 1,\n",
              "          'is': 4,\n",
              "          'known': 1,\n",
              "          'learning': 1,\n",
              "          'level': 1,\n",
              "          'machine': 2,\n",
              "          'machines': 3,\n",
              "          'military': 1,\n",
              "          'mimic': 1,\n",
              "          'mind': 1,\n",
              "          'modern': 1,\n",
              "          \"n't\": 1,\n",
              "          'natural': 1,\n",
              "          'networks': 1,\n",
              "          'of': 1,\n",
              "          'often': 2,\n",
              "          'operating': 1,\n",
              "          'optical': 1,\n",
              "          'or': 1,\n",
              "          'phenomenon': 1,\n",
              "          'problem': 1,\n",
              "          'quip': 1,\n",
              "          'recognition': 1,\n",
              "          'removed': 1,\n",
              "          'require': 1,\n",
              "          'routine': 1,\n",
              "          'routing': 1,\n",
              "          'says': 1,\n",
              "          'science': 1,\n",
              "          'simulations': 1,\n",
              "          'solving': 1,\n",
              "          'sometimes': 1,\n",
              "          'speech': 1,\n",
              "          'strategic': 1,\n",
              "          'successfully': 1,\n",
              "          'such': 2,\n",
              "          'systems': 1,\n",
              "          'tasks': 1,\n",
              "          'technology': 1,\n",
              "          'term': 1,\n",
              "          'tesler': 1,\n",
              "          'that': 2,\n",
              "          'the': 6,\n",
              "          'theorem': 1,\n",
              "          'things': 1,\n",
              "          'to': 4,\n",
              "          'understanding': 1,\n",
              "          'used': 1,\n",
              "          'whatever': 1,\n",
              "          'with': 1,\n",
              "          'yet': 1})"
            ]
          },
          "metadata": {
            "tags": []
          },
          "execution_count": 7
        }
      ]
    },
    {
      "cell_type": "code",
      "metadata": {
        "id": "UbHzesOYhFEb",
        "colab_type": "code",
        "colab": {
          "base_uri": "https://localhost:8080/",
          "height": 35
        },
        "outputId": "9afd967b-49f2-4188-a9c1-9d65040f7bf9"
      },
      "source": [
        "fdist['understanding']"
      ],
      "execution_count": 12,
      "outputs": [
        {
          "output_type": "execute_result",
          "data": {
            "text/plain": [
              "1"
            ]
          },
          "metadata": {
            "tags": []
          },
          "execution_count": 12
        }
      ]
    },
    {
      "cell_type": "code",
      "metadata": {
        "id": "SM4jqqgVhFHb",
        "colab_type": "code",
        "colab": {
          "base_uri": "https://localhost:8080/",
          "height": 191
        },
        "outputId": "caa5a49f-21b2-45a8-fb3f-7e9078d4f15d"
      },
      "source": [
        "fdist.most_common(10)"
      ],
      "execution_count": 13,
      "outputs": [
        {
          "output_type": "execute_result",
          "data": {
            "text/plain": [
              "[(',', 14),\n",
              " ('intelligence', 6),\n",
              " ('ai', 6),\n",
              " ('the', 6),\n",
              " ('.', 6),\n",
              " ('``', 6),\n",
              " (\"''\", 6),\n",
              " ('in', 5),\n",
              " ('as', 5),\n",
              " ('is', 4)]"
            ]
          },
          "metadata": {
            "tags": []
          },
          "execution_count": 13
        }
      ]
    },
    {
      "cell_type": "code",
      "metadata": {
        "id": "NKFNFzLihFKR",
        "colab_type": "code",
        "colab": {}
      },
      "source": [
        "from nltk.util import bigrams,trigrams,ngrams"
      ],
      "execution_count": 0,
      "outputs": []
    },
    {
      "cell_type": "code",
      "metadata": {
        "id": "FCGRBr7lVmXX",
        "colab_type": "code",
        "colab": {
          "base_uri": "https://localhost:8080/",
          "height": 1000
        },
        "outputId": "b444f80f-34f0-4354-e9c5-ee25b63e0c5e"
      },
      "source": [
        "bi_grams=list(nltk.bigrams(AI_tokens))\n",
        "bi_grams"
      ],
      "execution_count": 16,
      "outputs": [
        {
          "output_type": "execute_result",
          "data": {
            "text/plain": [
              "[('In', 'computer'),\n",
              " ('computer', 'science'),\n",
              " ('science', ','),\n",
              " (',', 'artificial'),\n",
              " ('artificial', 'intelligence'),\n",
              " ('intelligence', '('),\n",
              " ('(', 'AI'),\n",
              " ('AI', ')'),\n",
              " (')', ','),\n",
              " (',', 'sometimes'),\n",
              " ('sometimes', 'called'),\n",
              " ('called', 'machine'),\n",
              " ('machine', 'intelligence'),\n",
              " ('intelligence', ','),\n",
              " (',', 'is'),\n",
              " ('is', 'intelligence'),\n",
              " ('intelligence', 'demonstrated'),\n",
              " ('demonstrated', 'by'),\n",
              " ('by', 'machines'),\n",
              " ('machines', ','),\n",
              " (',', 'in'),\n",
              " ('in', 'contrast'),\n",
              " ('contrast', 'to'),\n",
              " ('to', 'the'),\n",
              " ('the', 'natural'),\n",
              " ('natural', 'intelligence'),\n",
              " ('intelligence', 'displayed'),\n",
              " ('displayed', 'by'),\n",
              " ('by', 'humans'),\n",
              " ('humans', '.'),\n",
              " ('.', 'Colloquially'),\n",
              " ('Colloquially', ','),\n",
              " (',', 'the'),\n",
              " ('the', 'term'),\n",
              " ('term', '``'),\n",
              " ('``', 'artificial'),\n",
              " ('artificial', 'intelligence'),\n",
              " ('intelligence', \"''\"),\n",
              " (\"''\", 'is'),\n",
              " ('is', 'often'),\n",
              " ('often', 'used'),\n",
              " ('used', 'to'),\n",
              " ('to', 'describe'),\n",
              " ('describe', 'machines'),\n",
              " ('machines', '('),\n",
              " ('(', 'or'),\n",
              " ('or', 'computers'),\n",
              " ('computers', ')'),\n",
              " (')', 'that'),\n",
              " ('that', 'mimic'),\n",
              " ('mimic', '``'),\n",
              " ('``', 'cognitive'),\n",
              " ('cognitive', \"''\"),\n",
              " (\"''\", 'functions'),\n",
              " ('functions', 'that'),\n",
              " ('that', 'humans'),\n",
              " ('humans', 'associate'),\n",
              " ('associate', 'with'),\n",
              " ('with', 'the'),\n",
              " ('the', 'human'),\n",
              " ('human', 'mind'),\n",
              " ('mind', ','),\n",
              " (',', 'such'),\n",
              " ('such', 'as'),\n",
              " ('as', '``'),\n",
              " ('``', 'learning'),\n",
              " ('learning', \"''\"),\n",
              " (\"''\", 'and'),\n",
              " ('and', '``'),\n",
              " ('``', 'problem'),\n",
              " ('problem', 'solving'),\n",
              " ('solving', \"''\"),\n",
              " (\"''\", '.'),\n",
              " ('.', 'As'),\n",
              " ('As', 'machines'),\n",
              " ('machines', 'become'),\n",
              " ('become', 'increasingly'),\n",
              " ('increasingly', 'capable'),\n",
              " ('capable', ','),\n",
              " (',', 'tasks'),\n",
              " ('tasks', 'considered'),\n",
              " ('considered', 'to'),\n",
              " ('to', 'require'),\n",
              " ('require', '``'),\n",
              " ('``', 'intelligence'),\n",
              " ('intelligence', \"''\"),\n",
              " (\"''\", 'are'),\n",
              " ('are', 'often'),\n",
              " ('often', 'removed'),\n",
              " ('removed', 'from'),\n",
              " ('from', 'the'),\n",
              " ('the', 'definition'),\n",
              " ('definition', 'of'),\n",
              " ('of', 'AI'),\n",
              " ('AI', ','),\n",
              " (',', 'a'),\n",
              " ('a', 'phenomenon'),\n",
              " ('phenomenon', 'known'),\n",
              " ('known', 'as'),\n",
              " ('as', 'the'),\n",
              " ('the', 'AI'),\n",
              " ('AI', 'effect'),\n",
              " ('effect', '.'),\n",
              " ('.', 'A'),\n",
              " ('A', 'quip'),\n",
              " ('quip', 'in'),\n",
              " ('in', 'Tesler'),\n",
              " ('Tesler', \"'s\"),\n",
              " (\"'s\", 'Theorem'),\n",
              " ('Theorem', 'says'),\n",
              " ('says', '``'),\n",
              " ('``', 'AI'),\n",
              " ('AI', 'is'),\n",
              " ('is', 'whatever'),\n",
              " ('whatever', 'has'),\n",
              " ('has', \"n't\"),\n",
              " (\"n't\", 'been'),\n",
              " ('been', 'done'),\n",
              " ('done', 'yet'),\n",
              " ('yet', '.'),\n",
              " ('.', \"''\"),\n",
              " (\"''\", 'For'),\n",
              " ('For', 'instance'),\n",
              " ('instance', ','),\n",
              " (',', 'optical'),\n",
              " ('optical', 'character'),\n",
              " ('character', 'recognition'),\n",
              " ('recognition', 'is'),\n",
              " ('is', 'frequently'),\n",
              " ('frequently', 'excluded'),\n",
              " ('excluded', 'from'),\n",
              " ('from', 'things'),\n",
              " ('things', 'considered'),\n",
              " ('considered', 'to'),\n",
              " ('to', 'be'),\n",
              " ('be', 'AI'),\n",
              " ('AI', ','),\n",
              " (',', 'having'),\n",
              " ('having', 'become'),\n",
              " ('become', 'a'),\n",
              " ('a', 'routine'),\n",
              " ('routine', 'technology'),\n",
              " ('technology', '.'),\n",
              " ('.', 'Modern'),\n",
              " ('Modern', 'machine'),\n",
              " ('machine', 'capabilities'),\n",
              " ('capabilities', 'generally'),\n",
              " ('generally', 'classified'),\n",
              " ('classified', 'as'),\n",
              " ('as', 'AI'),\n",
              " ('AI', 'include'),\n",
              " ('include', 'successfully'),\n",
              " ('successfully', 'understanding'),\n",
              " ('understanding', 'human'),\n",
              " ('human', 'speech'),\n",
              " ('speech', ','),\n",
              " (',', '['),\n",
              " ('[', '5'),\n",
              " ('5', ']'),\n",
              " (']', 'competing'),\n",
              " ('competing', 'at'),\n",
              " ('at', 'the'),\n",
              " ('the', 'highest'),\n",
              " ('highest', 'level'),\n",
              " ('level', 'in'),\n",
              " ('in', 'strategic'),\n",
              " ('strategic', 'game'),\n",
              " ('game', 'systems'),\n",
              " ('systems', '('),\n",
              " ('(', 'such'),\n",
              " ('such', 'as'),\n",
              " ('as', 'chess'),\n",
              " ('chess', 'and'),\n",
              " ('and', 'Go'),\n",
              " ('Go', ')'),\n",
              " (')', ','),\n",
              " (',', '['),\n",
              " ('[', '6'),\n",
              " ('6', ']'),\n",
              " (']', 'autonomously'),\n",
              " ('autonomously', 'operating'),\n",
              " ('operating', 'cars'),\n",
              " ('cars', ','),\n",
              " (',', 'intelligent'),\n",
              " ('intelligent', 'routing'),\n",
              " ('routing', 'in'),\n",
              " ('in', 'content'),\n",
              " ('content', 'delivery'),\n",
              " ('delivery', 'networks'),\n",
              " ('networks', ','),\n",
              " (',', 'and'),\n",
              " ('and', 'military'),\n",
              " ('military', 'simulations'),\n",
              " ('simulations', '.')]"
            ]
          },
          "metadata": {
            "tags": []
          },
          "execution_count": 16
        }
      ]
    },
    {
      "cell_type": "code",
      "metadata": {
        "id": "--9coGyrVxwx",
        "colab_type": "code",
        "colab": {
          "base_uri": "https://localhost:8080/",
          "height": 1000
        },
        "outputId": "0b802a3c-b465-4b4c-e1d4-d47ce8e4d318"
      },
      "source": [
        "tri_grams=list(nltk.trigrams(AI_tokens))\n",
        "tri_grams"
      ],
      "execution_count": 17,
      "outputs": [
        {
          "output_type": "execute_result",
          "data": {
            "text/plain": [
              "[('In', 'computer', 'science'),\n",
              " ('computer', 'science', ','),\n",
              " ('science', ',', 'artificial'),\n",
              " (',', 'artificial', 'intelligence'),\n",
              " ('artificial', 'intelligence', '('),\n",
              " ('intelligence', '(', 'AI'),\n",
              " ('(', 'AI', ')'),\n",
              " ('AI', ')', ','),\n",
              " (')', ',', 'sometimes'),\n",
              " (',', 'sometimes', 'called'),\n",
              " ('sometimes', 'called', 'machine'),\n",
              " ('called', 'machine', 'intelligence'),\n",
              " ('machine', 'intelligence', ','),\n",
              " ('intelligence', ',', 'is'),\n",
              " (',', 'is', 'intelligence'),\n",
              " ('is', 'intelligence', 'demonstrated'),\n",
              " ('intelligence', 'demonstrated', 'by'),\n",
              " ('demonstrated', 'by', 'machines'),\n",
              " ('by', 'machines', ','),\n",
              " ('machines', ',', 'in'),\n",
              " (',', 'in', 'contrast'),\n",
              " ('in', 'contrast', 'to'),\n",
              " ('contrast', 'to', 'the'),\n",
              " ('to', 'the', 'natural'),\n",
              " ('the', 'natural', 'intelligence'),\n",
              " ('natural', 'intelligence', 'displayed'),\n",
              " ('intelligence', 'displayed', 'by'),\n",
              " ('displayed', 'by', 'humans'),\n",
              " ('by', 'humans', '.'),\n",
              " ('humans', '.', 'Colloquially'),\n",
              " ('.', 'Colloquially', ','),\n",
              " ('Colloquially', ',', 'the'),\n",
              " (',', 'the', 'term'),\n",
              " ('the', 'term', '``'),\n",
              " ('term', '``', 'artificial'),\n",
              " ('``', 'artificial', 'intelligence'),\n",
              " ('artificial', 'intelligence', \"''\"),\n",
              " ('intelligence', \"''\", 'is'),\n",
              " (\"''\", 'is', 'often'),\n",
              " ('is', 'often', 'used'),\n",
              " ('often', 'used', 'to'),\n",
              " ('used', 'to', 'describe'),\n",
              " ('to', 'describe', 'machines'),\n",
              " ('describe', 'machines', '('),\n",
              " ('machines', '(', 'or'),\n",
              " ('(', 'or', 'computers'),\n",
              " ('or', 'computers', ')'),\n",
              " ('computers', ')', 'that'),\n",
              " (')', 'that', 'mimic'),\n",
              " ('that', 'mimic', '``'),\n",
              " ('mimic', '``', 'cognitive'),\n",
              " ('``', 'cognitive', \"''\"),\n",
              " ('cognitive', \"''\", 'functions'),\n",
              " (\"''\", 'functions', 'that'),\n",
              " ('functions', 'that', 'humans'),\n",
              " ('that', 'humans', 'associate'),\n",
              " ('humans', 'associate', 'with'),\n",
              " ('associate', 'with', 'the'),\n",
              " ('with', 'the', 'human'),\n",
              " ('the', 'human', 'mind'),\n",
              " ('human', 'mind', ','),\n",
              " ('mind', ',', 'such'),\n",
              " (',', 'such', 'as'),\n",
              " ('such', 'as', '``'),\n",
              " ('as', '``', 'learning'),\n",
              " ('``', 'learning', \"''\"),\n",
              " ('learning', \"''\", 'and'),\n",
              " (\"''\", 'and', '``'),\n",
              " ('and', '``', 'problem'),\n",
              " ('``', 'problem', 'solving'),\n",
              " ('problem', 'solving', \"''\"),\n",
              " ('solving', \"''\", '.'),\n",
              " (\"''\", '.', 'As'),\n",
              " ('.', 'As', 'machines'),\n",
              " ('As', 'machines', 'become'),\n",
              " ('machines', 'become', 'increasingly'),\n",
              " ('become', 'increasingly', 'capable'),\n",
              " ('increasingly', 'capable', ','),\n",
              " ('capable', ',', 'tasks'),\n",
              " (',', 'tasks', 'considered'),\n",
              " ('tasks', 'considered', 'to'),\n",
              " ('considered', 'to', 'require'),\n",
              " ('to', 'require', '``'),\n",
              " ('require', '``', 'intelligence'),\n",
              " ('``', 'intelligence', \"''\"),\n",
              " ('intelligence', \"''\", 'are'),\n",
              " (\"''\", 'are', 'often'),\n",
              " ('are', 'often', 'removed'),\n",
              " ('often', 'removed', 'from'),\n",
              " ('removed', 'from', 'the'),\n",
              " ('from', 'the', 'definition'),\n",
              " ('the', 'definition', 'of'),\n",
              " ('definition', 'of', 'AI'),\n",
              " ('of', 'AI', ','),\n",
              " ('AI', ',', 'a'),\n",
              " (',', 'a', 'phenomenon'),\n",
              " ('a', 'phenomenon', 'known'),\n",
              " ('phenomenon', 'known', 'as'),\n",
              " ('known', 'as', 'the'),\n",
              " ('as', 'the', 'AI'),\n",
              " ('the', 'AI', 'effect'),\n",
              " ('AI', 'effect', '.'),\n",
              " ('effect', '.', 'A'),\n",
              " ('.', 'A', 'quip'),\n",
              " ('A', 'quip', 'in'),\n",
              " ('quip', 'in', 'Tesler'),\n",
              " ('in', 'Tesler', \"'s\"),\n",
              " ('Tesler', \"'s\", 'Theorem'),\n",
              " (\"'s\", 'Theorem', 'says'),\n",
              " ('Theorem', 'says', '``'),\n",
              " ('says', '``', 'AI'),\n",
              " ('``', 'AI', 'is'),\n",
              " ('AI', 'is', 'whatever'),\n",
              " ('is', 'whatever', 'has'),\n",
              " ('whatever', 'has', \"n't\"),\n",
              " ('has', \"n't\", 'been'),\n",
              " (\"n't\", 'been', 'done'),\n",
              " ('been', 'done', 'yet'),\n",
              " ('done', 'yet', '.'),\n",
              " ('yet', '.', \"''\"),\n",
              " ('.', \"''\", 'For'),\n",
              " (\"''\", 'For', 'instance'),\n",
              " ('For', 'instance', ','),\n",
              " ('instance', ',', 'optical'),\n",
              " (',', 'optical', 'character'),\n",
              " ('optical', 'character', 'recognition'),\n",
              " ('character', 'recognition', 'is'),\n",
              " ('recognition', 'is', 'frequently'),\n",
              " ('is', 'frequently', 'excluded'),\n",
              " ('frequently', 'excluded', 'from'),\n",
              " ('excluded', 'from', 'things'),\n",
              " ('from', 'things', 'considered'),\n",
              " ('things', 'considered', 'to'),\n",
              " ('considered', 'to', 'be'),\n",
              " ('to', 'be', 'AI'),\n",
              " ('be', 'AI', ','),\n",
              " ('AI', ',', 'having'),\n",
              " (',', 'having', 'become'),\n",
              " ('having', 'become', 'a'),\n",
              " ('become', 'a', 'routine'),\n",
              " ('a', 'routine', 'technology'),\n",
              " ('routine', 'technology', '.'),\n",
              " ('technology', '.', 'Modern'),\n",
              " ('.', 'Modern', 'machine'),\n",
              " ('Modern', 'machine', 'capabilities'),\n",
              " ('machine', 'capabilities', 'generally'),\n",
              " ('capabilities', 'generally', 'classified'),\n",
              " ('generally', 'classified', 'as'),\n",
              " ('classified', 'as', 'AI'),\n",
              " ('as', 'AI', 'include'),\n",
              " ('AI', 'include', 'successfully'),\n",
              " ('include', 'successfully', 'understanding'),\n",
              " ('successfully', 'understanding', 'human'),\n",
              " ('understanding', 'human', 'speech'),\n",
              " ('human', 'speech', ','),\n",
              " ('speech', ',', '['),\n",
              " (',', '[', '5'),\n",
              " ('[', '5', ']'),\n",
              " ('5', ']', 'competing'),\n",
              " (']', 'competing', 'at'),\n",
              " ('competing', 'at', 'the'),\n",
              " ('at', 'the', 'highest'),\n",
              " ('the', 'highest', 'level'),\n",
              " ('highest', 'level', 'in'),\n",
              " ('level', 'in', 'strategic'),\n",
              " ('in', 'strategic', 'game'),\n",
              " ('strategic', 'game', 'systems'),\n",
              " ('game', 'systems', '('),\n",
              " ('systems', '(', 'such'),\n",
              " ('(', 'such', 'as'),\n",
              " ('such', 'as', 'chess'),\n",
              " ('as', 'chess', 'and'),\n",
              " ('chess', 'and', 'Go'),\n",
              " ('and', 'Go', ')'),\n",
              " ('Go', ')', ','),\n",
              " (')', ',', '['),\n",
              " (',', '[', '6'),\n",
              " ('[', '6', ']'),\n",
              " ('6', ']', 'autonomously'),\n",
              " (']', 'autonomously', 'operating'),\n",
              " ('autonomously', 'operating', 'cars'),\n",
              " ('operating', 'cars', ','),\n",
              " ('cars', ',', 'intelligent'),\n",
              " (',', 'intelligent', 'routing'),\n",
              " ('intelligent', 'routing', 'in'),\n",
              " ('routing', 'in', 'content'),\n",
              " ('in', 'content', 'delivery'),\n",
              " ('content', 'delivery', 'networks'),\n",
              " ('delivery', 'networks', ','),\n",
              " ('networks', ',', 'and'),\n",
              " (',', 'and', 'military'),\n",
              " ('and', 'military', 'simulations'),\n",
              " ('military', 'simulations', '.')]"
            ]
          },
          "metadata": {
            "tags": []
          },
          "execution_count": 17
        }
      ]
    },
    {
      "cell_type": "code",
      "metadata": {
        "id": "GORR0OP3WFrW",
        "colab_type": "code",
        "colab": {
          "base_uri": "https://localhost:8080/",
          "height": 1000
        },
        "outputId": "a8d9c3c5-9781-4de8-f909-4a0b30d6ab5a"
      },
      "source": [
        "n_grams=list(nltk.ngrams(AI_tokens,5))\n",
        "n_grams"
      ],
      "execution_count": 20,
      "outputs": [
        {
          "output_type": "execute_result",
          "data": {
            "text/plain": [
              "[('In', 'computer', 'science', ',', 'artificial'),\n",
              " ('computer', 'science', ',', 'artificial', 'intelligence'),\n",
              " ('science', ',', 'artificial', 'intelligence', '('),\n",
              " (',', 'artificial', 'intelligence', '(', 'AI'),\n",
              " ('artificial', 'intelligence', '(', 'AI', ')'),\n",
              " ('intelligence', '(', 'AI', ')', ','),\n",
              " ('(', 'AI', ')', ',', 'sometimes'),\n",
              " ('AI', ')', ',', 'sometimes', 'called'),\n",
              " (')', ',', 'sometimes', 'called', 'machine'),\n",
              " (',', 'sometimes', 'called', 'machine', 'intelligence'),\n",
              " ('sometimes', 'called', 'machine', 'intelligence', ','),\n",
              " ('called', 'machine', 'intelligence', ',', 'is'),\n",
              " ('machine', 'intelligence', ',', 'is', 'intelligence'),\n",
              " ('intelligence', ',', 'is', 'intelligence', 'demonstrated'),\n",
              " (',', 'is', 'intelligence', 'demonstrated', 'by'),\n",
              " ('is', 'intelligence', 'demonstrated', 'by', 'machines'),\n",
              " ('intelligence', 'demonstrated', 'by', 'machines', ','),\n",
              " ('demonstrated', 'by', 'machines', ',', 'in'),\n",
              " ('by', 'machines', ',', 'in', 'contrast'),\n",
              " ('machines', ',', 'in', 'contrast', 'to'),\n",
              " (',', 'in', 'contrast', 'to', 'the'),\n",
              " ('in', 'contrast', 'to', 'the', 'natural'),\n",
              " ('contrast', 'to', 'the', 'natural', 'intelligence'),\n",
              " ('to', 'the', 'natural', 'intelligence', 'displayed'),\n",
              " ('the', 'natural', 'intelligence', 'displayed', 'by'),\n",
              " ('natural', 'intelligence', 'displayed', 'by', 'humans'),\n",
              " ('intelligence', 'displayed', 'by', 'humans', '.'),\n",
              " ('displayed', 'by', 'humans', '.', 'Colloquially'),\n",
              " ('by', 'humans', '.', 'Colloquially', ','),\n",
              " ('humans', '.', 'Colloquially', ',', 'the'),\n",
              " ('.', 'Colloquially', ',', 'the', 'term'),\n",
              " ('Colloquially', ',', 'the', 'term', '``'),\n",
              " (',', 'the', 'term', '``', 'artificial'),\n",
              " ('the', 'term', '``', 'artificial', 'intelligence'),\n",
              " ('term', '``', 'artificial', 'intelligence', \"''\"),\n",
              " ('``', 'artificial', 'intelligence', \"''\", 'is'),\n",
              " ('artificial', 'intelligence', \"''\", 'is', 'often'),\n",
              " ('intelligence', \"''\", 'is', 'often', 'used'),\n",
              " (\"''\", 'is', 'often', 'used', 'to'),\n",
              " ('is', 'often', 'used', 'to', 'describe'),\n",
              " ('often', 'used', 'to', 'describe', 'machines'),\n",
              " ('used', 'to', 'describe', 'machines', '('),\n",
              " ('to', 'describe', 'machines', '(', 'or'),\n",
              " ('describe', 'machines', '(', 'or', 'computers'),\n",
              " ('machines', '(', 'or', 'computers', ')'),\n",
              " ('(', 'or', 'computers', ')', 'that'),\n",
              " ('or', 'computers', ')', 'that', 'mimic'),\n",
              " ('computers', ')', 'that', 'mimic', '``'),\n",
              " (')', 'that', 'mimic', '``', 'cognitive'),\n",
              " ('that', 'mimic', '``', 'cognitive', \"''\"),\n",
              " ('mimic', '``', 'cognitive', \"''\", 'functions'),\n",
              " ('``', 'cognitive', \"''\", 'functions', 'that'),\n",
              " ('cognitive', \"''\", 'functions', 'that', 'humans'),\n",
              " (\"''\", 'functions', 'that', 'humans', 'associate'),\n",
              " ('functions', 'that', 'humans', 'associate', 'with'),\n",
              " ('that', 'humans', 'associate', 'with', 'the'),\n",
              " ('humans', 'associate', 'with', 'the', 'human'),\n",
              " ('associate', 'with', 'the', 'human', 'mind'),\n",
              " ('with', 'the', 'human', 'mind', ','),\n",
              " ('the', 'human', 'mind', ',', 'such'),\n",
              " ('human', 'mind', ',', 'such', 'as'),\n",
              " ('mind', ',', 'such', 'as', '``'),\n",
              " (',', 'such', 'as', '``', 'learning'),\n",
              " ('such', 'as', '``', 'learning', \"''\"),\n",
              " ('as', '``', 'learning', \"''\", 'and'),\n",
              " ('``', 'learning', \"''\", 'and', '``'),\n",
              " ('learning', \"''\", 'and', '``', 'problem'),\n",
              " (\"''\", 'and', '``', 'problem', 'solving'),\n",
              " ('and', '``', 'problem', 'solving', \"''\"),\n",
              " ('``', 'problem', 'solving', \"''\", '.'),\n",
              " ('problem', 'solving', \"''\", '.', 'As'),\n",
              " ('solving', \"''\", '.', 'As', 'machines'),\n",
              " (\"''\", '.', 'As', 'machines', 'become'),\n",
              " ('.', 'As', 'machines', 'become', 'increasingly'),\n",
              " ('As', 'machines', 'become', 'increasingly', 'capable'),\n",
              " ('machines', 'become', 'increasingly', 'capable', ','),\n",
              " ('become', 'increasingly', 'capable', ',', 'tasks'),\n",
              " ('increasingly', 'capable', ',', 'tasks', 'considered'),\n",
              " ('capable', ',', 'tasks', 'considered', 'to'),\n",
              " (',', 'tasks', 'considered', 'to', 'require'),\n",
              " ('tasks', 'considered', 'to', 'require', '``'),\n",
              " ('considered', 'to', 'require', '``', 'intelligence'),\n",
              " ('to', 'require', '``', 'intelligence', \"''\"),\n",
              " ('require', '``', 'intelligence', \"''\", 'are'),\n",
              " ('``', 'intelligence', \"''\", 'are', 'often'),\n",
              " ('intelligence', \"''\", 'are', 'often', 'removed'),\n",
              " (\"''\", 'are', 'often', 'removed', 'from'),\n",
              " ('are', 'often', 'removed', 'from', 'the'),\n",
              " ('often', 'removed', 'from', 'the', 'definition'),\n",
              " ('removed', 'from', 'the', 'definition', 'of'),\n",
              " ('from', 'the', 'definition', 'of', 'AI'),\n",
              " ('the', 'definition', 'of', 'AI', ','),\n",
              " ('definition', 'of', 'AI', ',', 'a'),\n",
              " ('of', 'AI', ',', 'a', 'phenomenon'),\n",
              " ('AI', ',', 'a', 'phenomenon', 'known'),\n",
              " (',', 'a', 'phenomenon', 'known', 'as'),\n",
              " ('a', 'phenomenon', 'known', 'as', 'the'),\n",
              " ('phenomenon', 'known', 'as', 'the', 'AI'),\n",
              " ('known', 'as', 'the', 'AI', 'effect'),\n",
              " ('as', 'the', 'AI', 'effect', '.'),\n",
              " ('the', 'AI', 'effect', '.', 'A'),\n",
              " ('AI', 'effect', '.', 'A', 'quip'),\n",
              " ('effect', '.', 'A', 'quip', 'in'),\n",
              " ('.', 'A', 'quip', 'in', 'Tesler'),\n",
              " ('A', 'quip', 'in', 'Tesler', \"'s\"),\n",
              " ('quip', 'in', 'Tesler', \"'s\", 'Theorem'),\n",
              " ('in', 'Tesler', \"'s\", 'Theorem', 'says'),\n",
              " ('Tesler', \"'s\", 'Theorem', 'says', '``'),\n",
              " (\"'s\", 'Theorem', 'says', '``', 'AI'),\n",
              " ('Theorem', 'says', '``', 'AI', 'is'),\n",
              " ('says', '``', 'AI', 'is', 'whatever'),\n",
              " ('``', 'AI', 'is', 'whatever', 'has'),\n",
              " ('AI', 'is', 'whatever', 'has', \"n't\"),\n",
              " ('is', 'whatever', 'has', \"n't\", 'been'),\n",
              " ('whatever', 'has', \"n't\", 'been', 'done'),\n",
              " ('has', \"n't\", 'been', 'done', 'yet'),\n",
              " (\"n't\", 'been', 'done', 'yet', '.'),\n",
              " ('been', 'done', 'yet', '.', \"''\"),\n",
              " ('done', 'yet', '.', \"''\", 'For'),\n",
              " ('yet', '.', \"''\", 'For', 'instance'),\n",
              " ('.', \"''\", 'For', 'instance', ','),\n",
              " (\"''\", 'For', 'instance', ',', 'optical'),\n",
              " ('For', 'instance', ',', 'optical', 'character'),\n",
              " ('instance', ',', 'optical', 'character', 'recognition'),\n",
              " (',', 'optical', 'character', 'recognition', 'is'),\n",
              " ('optical', 'character', 'recognition', 'is', 'frequently'),\n",
              " ('character', 'recognition', 'is', 'frequently', 'excluded'),\n",
              " ('recognition', 'is', 'frequently', 'excluded', 'from'),\n",
              " ('is', 'frequently', 'excluded', 'from', 'things'),\n",
              " ('frequently', 'excluded', 'from', 'things', 'considered'),\n",
              " ('excluded', 'from', 'things', 'considered', 'to'),\n",
              " ('from', 'things', 'considered', 'to', 'be'),\n",
              " ('things', 'considered', 'to', 'be', 'AI'),\n",
              " ('considered', 'to', 'be', 'AI', ','),\n",
              " ('to', 'be', 'AI', ',', 'having'),\n",
              " ('be', 'AI', ',', 'having', 'become'),\n",
              " ('AI', ',', 'having', 'become', 'a'),\n",
              " (',', 'having', 'become', 'a', 'routine'),\n",
              " ('having', 'become', 'a', 'routine', 'technology'),\n",
              " ('become', 'a', 'routine', 'technology', '.'),\n",
              " ('a', 'routine', 'technology', '.', 'Modern'),\n",
              " ('routine', 'technology', '.', 'Modern', 'machine'),\n",
              " ('technology', '.', 'Modern', 'machine', 'capabilities'),\n",
              " ('.', 'Modern', 'machine', 'capabilities', 'generally'),\n",
              " ('Modern', 'machine', 'capabilities', 'generally', 'classified'),\n",
              " ('machine', 'capabilities', 'generally', 'classified', 'as'),\n",
              " ('capabilities', 'generally', 'classified', 'as', 'AI'),\n",
              " ('generally', 'classified', 'as', 'AI', 'include'),\n",
              " ('classified', 'as', 'AI', 'include', 'successfully'),\n",
              " ('as', 'AI', 'include', 'successfully', 'understanding'),\n",
              " ('AI', 'include', 'successfully', 'understanding', 'human'),\n",
              " ('include', 'successfully', 'understanding', 'human', 'speech'),\n",
              " ('successfully', 'understanding', 'human', 'speech', ','),\n",
              " ('understanding', 'human', 'speech', ',', '['),\n",
              " ('human', 'speech', ',', '[', '5'),\n",
              " ('speech', ',', '[', '5', ']'),\n",
              " (',', '[', '5', ']', 'competing'),\n",
              " ('[', '5', ']', 'competing', 'at'),\n",
              " ('5', ']', 'competing', 'at', 'the'),\n",
              " (']', 'competing', 'at', 'the', 'highest'),\n",
              " ('competing', 'at', 'the', 'highest', 'level'),\n",
              " ('at', 'the', 'highest', 'level', 'in'),\n",
              " ('the', 'highest', 'level', 'in', 'strategic'),\n",
              " ('highest', 'level', 'in', 'strategic', 'game'),\n",
              " ('level', 'in', 'strategic', 'game', 'systems'),\n",
              " ('in', 'strategic', 'game', 'systems', '('),\n",
              " ('strategic', 'game', 'systems', '(', 'such'),\n",
              " ('game', 'systems', '(', 'such', 'as'),\n",
              " ('systems', '(', 'such', 'as', 'chess'),\n",
              " ('(', 'such', 'as', 'chess', 'and'),\n",
              " ('such', 'as', 'chess', 'and', 'Go'),\n",
              " ('as', 'chess', 'and', 'Go', ')'),\n",
              " ('chess', 'and', 'Go', ')', ','),\n",
              " ('and', 'Go', ')', ',', '['),\n",
              " ('Go', ')', ',', '[', '6'),\n",
              " (')', ',', '[', '6', ']'),\n",
              " (',', '[', '6', ']', 'autonomously'),\n",
              " ('[', '6', ']', 'autonomously', 'operating'),\n",
              " ('6', ']', 'autonomously', 'operating', 'cars'),\n",
              " (']', 'autonomously', 'operating', 'cars', ','),\n",
              " ('autonomously', 'operating', 'cars', ',', 'intelligent'),\n",
              " ('operating', 'cars', ',', 'intelligent', 'routing'),\n",
              " ('cars', ',', 'intelligent', 'routing', 'in'),\n",
              " (',', 'intelligent', 'routing', 'in', 'content'),\n",
              " ('intelligent', 'routing', 'in', 'content', 'delivery'),\n",
              " ('routing', 'in', 'content', 'delivery', 'networks'),\n",
              " ('in', 'content', 'delivery', 'networks', ','),\n",
              " ('content', 'delivery', 'networks', ',', 'and'),\n",
              " ('delivery', 'networks', ',', 'and', 'military'),\n",
              " ('networks', ',', 'and', 'military', 'simulations'),\n",
              " (',', 'and', 'military', 'simulations', '.')]"
            ]
          },
          "metadata": {
            "tags": []
          },
          "execution_count": 20
        }
      ]
    },
    {
      "cell_type": "code",
      "metadata": {
        "id": "POjJNQyVWF2M",
        "colab_type": "code",
        "colab": {}
      },
      "source": [
        "from nltk.stem import PorterStemmer\n",
        "pst=PorterStemmer()"
      ],
      "execution_count": 0,
      "outputs": []
    },
    {
      "cell_type": "code",
      "metadata": {
        "id": "3_sp8E_JWF5d",
        "colab_type": "code",
        "colab": {
          "base_uri": "https://localhost:8080/",
          "height": 35
        },
        "outputId": "22504e15-9b6a-4be8-ff0f-77e7b4081087"
      },
      "source": [
        "pst.stem('having')"
      ],
      "execution_count": 22,
      "outputs": [
        {
          "output_type": "execute_result",
          "data": {
            "text/plain": [
              "'have'"
            ]
          },
          "metadata": {
            "tags": []
          },
          "execution_count": 22
        }
      ]
    },
    {
      "cell_type": "code",
      "metadata": {
        "id": "VqrGE7wdWF9C",
        "colab_type": "code",
        "colab": {
          "base_uri": "https://localhost:8080/",
          "height": 87
        },
        "outputId": "67568486-6a85-4322-9116-eb7856f06e53"
      },
      "source": [
        "words_to_stem=['having','had','haven','have']\n",
        "for i in words_to_stem:\n",
        "  print(i+\" : \"+pst.stem(i) )"
      ],
      "execution_count": 23,
      "outputs": [
        {
          "output_type": "stream",
          "text": [
            "having : have\n",
            "had : had\n",
            "haven : haven\n",
            "have : have\n"
          ],
          "name": "stdout"
        }
      ]
    },
    {
      "cell_type": "code",
      "metadata": {
        "id": "DYAkyX1OWF_m",
        "colab_type": "code",
        "colab": {}
      },
      "source": [
        "from nltk.stem import LancasterStemmer\n",
        "lst=LancasterStemmer()"
      ],
      "execution_count": 0,
      "outputs": []
    },
    {
      "cell_type": "code",
      "metadata": {
        "id": "OnHaefbJWGDC",
        "colab_type": "code",
        "colab": {
          "base_uri": "https://localhost:8080/",
          "height": 87
        },
        "outputId": "c095b32c-a2cd-4ff3-de07-fef06c9293bf"
      },
      "source": [
        "words_to_stem=['having','had','haven','have']\n",
        "for i in words_to_stem:\n",
        "  print(i+\" : \"+lst.stem(i) )"
      ],
      "execution_count": 25,
      "outputs": [
        {
          "output_type": "stream",
          "text": [
            "having : hav\n",
            "had : had\n",
            "haven : hav\n",
            "have : hav\n"
          ],
          "name": "stdout"
        }
      ]
    },
    {
      "cell_type": "code",
      "metadata": {
        "id": "YDQHBOXCXttf",
        "colab_type": "code",
        "colab": {
          "base_uri": "https://localhost:8080/",
          "height": 87
        },
        "outputId": "d61dd6ee-cc81-41ca-d190-201860cd3621"
      },
      "source": [
        "from nltk.stem import SnowballStemmer\n",
        "sbst=SnowballStemmer('english')\n",
        "for words in words_to_stem:\n",
        "    print(words+\":\"+sbst.stem(words))"
      ],
      "execution_count": 27,
      "outputs": [
        {
          "output_type": "stream",
          "text": [
            "having:have\n",
            "had:had\n",
            "haven:haven\n",
            "have:have\n"
          ],
          "name": "stdout"
        }
      ]
    },
    {
      "cell_type": "code",
      "metadata": {
        "id": "fqqk95TaXt66",
        "colab_type": "code",
        "colab": {}
      },
      "source": [
        ""
      ],
      "execution_count": 0,
      "outputs": []
    }
  ]
}