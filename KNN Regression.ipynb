{
  "nbformat": 4,
  "nbformat_minor": 0,
  "metadata": {
    "kernelspec": {
      "display_name": "Python 3",
      "language": "python",
      "name": "python3"
    },
    "language_info": {
      "codemirror_mode": {
        "name": "ipython",
        "version": 3
      },
      "file_extension": ".py",
      "mimetype": "text/x-python",
      "name": "python",
      "nbconvert_exporter": "python",
      "pygments_lexer": "ipython3",
      "version": "3.7.3"
    },
    "colab": {
      "name": "examples.ipynb",
      "provenance": [],
      "include_colab_link": true
    }
  },
  "cells": [
    {
      "cell_type": "markdown",
      "metadata": {
        "id": "view-in-github",
        "colab_type": "text"
      },
      "source": [
        "<a href=\"https://colab.research.google.com/github/anilkumar4274/aiassignments/blob/master/KNN%20Regression.ipynb\" target=\"_parent\"><img src=\"https://colab.research.google.com/assets/colab-badge.svg\" alt=\"Open In Colab\"/></a>"
      ]
    },
    {
      "cell_type": "code",
      "metadata": {
        "id": "RaRURJLVvMr9",
        "colab_type": "code",
        "colab": {}
      },
      "source": [
        "import numpy as np\n",
        "from npknn import NonparametricKNN"
      ],
      "execution_count": 0,
      "outputs": []
    },
    {
      "cell_type": "code",
      "metadata": {
        "id": "b5tMh37LvMsG",
        "colab_type": "code",
        "colab": {}
      },
      "source": [
        "def L1(pred,true):\n",
        "    loss = np.abs(pred-true)\n",
        "    return loss.mean()"
      ],
      "execution_count": 0,
      "outputs": []
    },
    {
      "cell_type": "code",
      "metadata": {
        "id": "n0BfYdeGvMsO",
        "colab_type": "code",
        "colab": {},
        "outputId": "ee5fc512-be37-4d3c-90ba-b5370888e9aa"
      },
      "source": [
        "L2(np.array([[2,2,2],[3,3,3]]),np.array([[3,3,3],[6,6,6]]))"
      ],
      "execution_count": 0,
      "outputs": [
        {
          "output_type": "execute_result",
          "data": {
            "text/plain": [
              "5.0"
            ]
          },
          "metadata": {
            "tags": []
          },
          "execution_count": 50
        }
      ]
    },
    {
      "cell_type": "code",
      "metadata": {
        "id": "uSZ3pt0RvMsT",
        "colab_type": "code",
        "colab": {}
      },
      "source": [
        "def L1(pred,true):\n",
        "    loss = np.abs(pred-true)\n",
        "    return loss.mean()"
      ],
      "execution_count": 0,
      "outputs": []
    },
    {
      "cell_type": "code",
      "metadata": {
        "id": "gU7q3QM8vMsb",
        "colab_type": "code",
        "colab": {},
        "outputId": "f2a02e3a-992e-4d58-bb6f-27554641903b"
      },
      "source": [
        "L1(np.array([[2,2,2],[3,3,3]]),np.array([[3,3,3],[6,6,6]]))"
      ],
      "execution_count": 0,
      "outputs": [
        {
          "output_type": "execute_result",
          "data": {
            "text/plain": [
              "2.0"
            ]
          },
          "metadata": {
            "tags": []
          },
          "execution_count": 46
        }
      ]
    },
    {
      "cell_type": "code",
      "metadata": {
        "id": "CA5FEwOSvMsh",
        "colab_type": "code",
        "colab": {},
        "outputId": "c7dd6f6f-f7e5-49ab-8609-2520e4d4541d"
      },
      "source": [
        "type(L1(-20,10))"
      ],
      "execution_count": 0,
      "outputs": [
        {
          "output_type": "execute_result",
          "data": {
            "text/plain": [
              "numpy.float64"
            ]
          },
          "metadata": {
            "tags": []
          },
          "execution_count": 17
        }
      ]
    },
    {
      "cell_type": "code",
      "metadata": {
        "id": "NPpE7ywOvMsr",
        "colab_type": "code",
        "colab": {}
      },
      "source": [
        "def SMAPE(pred,true):\n",
        "    loss = np.abs((pred-true)/(pred+true))\n",
        "    return loss.mean()"
      ],
      "execution_count": 0,
      "outputs": []
    },
    {
      "cell_type": "code",
      "metadata": {
        "id": "nfO-AuOLvMsx",
        "colab_type": "code",
        "colab": {}
      },
      "source": [
        "aa={'a':11,'b':12,'c':13}"
      ],
      "execution_count": 0,
      "outputs": []
    },
    {
      "cell_type": "code",
      "metadata": {
        "id": "q0L3OwIlvMs4",
        "colab_type": "code",
        "colab": {},
        "outputId": "efa0fd11-eaab-404b-93f2-466f5bf5d966"
      },
      "source": [
        "for i in aa.items():\n",
        "    print(i[0])"
      ],
      "execution_count": 0,
      "outputs": [
        {
          "output_type": "stream",
          "text": [
            "a\n",
            "b\n",
            "c\n"
          ],
          "name": "stdout"
        }
      ]
    },
    {
      "cell_type": "code",
      "metadata": {
        "id": "kV1YEcSDvMs9",
        "colab_type": "code",
        "colab": {}
      },
      "source": [
        "if loss in ['L1','L2','SMAPE']:\n",
        "    loss = {'L1':L1,'L2':L2,'SMAPE':SMAPE}[loss]\n",
        "    print(loss)"
      ],
      "execution_count": 0,
      "outputs": []
    },
    {
      "cell_type": "code",
      "metadata": {
        "id": "UPzggWJOvMtC",
        "colab_type": "code",
        "colab": {}
      },
      "source": [
        "#Data\n",
        "train = np.array([[1,1,1],[2,2,2],[3,3,3],[4,4,4],[5,5,5]])\n",
        "target = np.array([1,2,3,7,17])\n",
        "test = np.array([[3,3,3],[6,6,6]])"
      ],
      "execution_count": 0,
      "outputs": []
    },
    {
      "cell_type": "code",
      "metadata": {
        "id": "zB53UlxOvMtJ",
        "colab_type": "code",
        "colab": {},
        "outputId": "06bf9ea4-6a8d-49ef-ce75-6d909a878602"
      },
      "source": [
        "#Initialize model\n",
        "model = NonparametricKNN(n_neighbors=3,loss='L2')\n",
        "#Train\n",
        "model.fit(train,target)\n",
        "#Predict\n",
        "model.predict(test)"
      ],
      "execution_count": 0,
      "outputs": [
        {
          "output_type": "execute_result",
          "data": {
            "text/plain": [
              "array([4., 9.])"
            ]
          },
          "metadata": {
            "tags": []
          },
          "execution_count": 36
        }
      ]
    },
    {
      "cell_type": "code",
      "metadata": {
        "id": "ntRc6QI7vMtQ",
        "colab_type": "code",
        "colab": {},
        "outputId": "02c71a10-eead-47a5-9081-679a8c26fb3b"
      },
      "source": [
        "#When we use L2 loss, we get exactly the same result as the KNN regressor in sklearn.\n",
        "from sklearn.neighbors import KNeighborsRegressor\n",
        "model = NonparametricKNN(n_neighbors=3)\n",
        "model.fit(train,target)\n",
        "model.predict(test)"
      ],
      "execution_count": 0,
      "outputs": [
        {
          "output_type": "execute_result",
          "data": {
            "text/plain": [
              "array([4., 9.])"
            ]
          },
          "metadata": {
            "tags": []
          },
          "execution_count": 37
        }
      ]
    },
    {
      "cell_type": "code",
      "metadata": {
        "id": "Au9XkEyqvMtV",
        "colab_type": "code",
        "colab": {},
        "outputId": "3ba5fc13-a4dc-41e2-8f66-56e082da2902"
      },
      "source": [
        "#When we use other loss, predictions could be different.\n",
        "model = NonparametricKNN(n_neighbors=3,loss='L1')\n",
        "model.fit(train,target)\n",
        "model.predict(test)"
      ],
      "execution_count": 0,
      "outputs": [
        {
          "output_type": "execute_result",
          "data": {
            "text/plain": [
              "array([3, 7])"
            ]
          },
          "metadata": {
            "tags": []
          },
          "execution_count": 38
        }
      ]
    },
    {
      "cell_type": "code",
      "metadata": {
        "id": "-vQO4YC-vMta",
        "colab_type": "code",
        "colab": {},
        "outputId": "e6f54f3d-f6c9-4911-82d4-87340c866a48"
      },
      "source": [
        "#Customized loss\n",
        "def loss(pred,true):#Loss function should take two numpy arrays as inputs...\n",
        "    result = np.power(pred-true,4)\n",
        "    return result.mean()#and return a scalar.\n",
        "model = NonparametricKNN(n_neighbors=3,loss=loss)#Pass the loss function as argument.\n",
        "model.fit(train,target)\n",
        "model.predict(test)"
      ],
      "execution_count": 0,
      "outputs": [
        {
          "output_type": "execute_result",
          "data": {
            "text/plain": [
              "array([4., 9.])"
            ]
          },
          "metadata": {
            "tags": []
          },
          "execution_count": 53
        }
      ]
    }
  ]
}