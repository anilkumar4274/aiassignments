{
  "nbformat": 4,
  "nbformat_minor": 0,
  "metadata": {
    "kernelspec": {
      "display_name": "Python 3",
      "language": "python",
      "name": "python3"
    },
    "language_info": {
      "codemirror_mode": {
        "name": "ipython",
        "version": 3
      },
      "file_extension": ".py",
      "mimetype": "text/x-python",
      "name": "python",
      "nbconvert_exporter": "python",
      "pygments_lexer": "ipython3",
      "version": "3.7.3"
    },
    "colab": {
      "name": "Nested Functions.ipynb",
      "provenance": [],
      "collapsed_sections": [],
      "include_colab_link": true
    }
  },
  "cells": [
    {
      "cell_type": "markdown",
      "metadata": {
        "id": "view-in-github",
        "colab_type": "text"
      },
      "source": [
        "<a href=\"https://colab.research.google.com/github/anilkumar4274/aiassignments/blob/haasini/Nested_Functions.ipynb\" target=\"_parent\"><img src=\"https://colab.research.google.com/assets/colab-badge.svg\" alt=\"Open In Colab\"/></a>"
      ]
    },
    {
      "cell_type": "markdown",
      "metadata": {
        "id": "Npj-7aE_94mV",
        "colab_type": "text"
      },
      "source": [
        "# Nested Functions"
      ]
    },
    {
      "cell_type": "code",
      "metadata": {
        "id": "mUaYaRc894mZ",
        "colab_type": "code",
        "colab": {},
        "outputId": "e8619187-663d-4929-f32b-8a5ef9d4c965"
      },
      "source": [
        "a = 5\n",
        "def f1():\n",
        "    print (a) # will print 5\n",
        "\n",
        "f1()"
      ],
      "execution_count": 0,
      "outputs": [
        {
          "output_type": "stream",
          "text": [
            "5\n"
          ],
          "name": "stdout"
        }
      ]
    },
    {
      "cell_type": "code",
      "metadata": {
        "id": "c7rjCEnz94mm",
        "colab_type": "code",
        "colab": {},
        "outputId": "2c9c4213-0a56-4561-ccd5-d220d4e1f420"
      },
      "source": [
        "a = 1\n",
        "def f1():\n",
        "    a = 5\n",
        "    print (a) #will print 5\n",
        "\n",
        "print (a) #will print 1\n",
        "\n",
        "f1()\n"
      ],
      "execution_count": 0,
      "outputs": [
        {
          "output_type": "stream",
          "text": [
            "1\n",
            "5\n"
          ],
          "name": "stdout"
        }
      ]
    },
    {
      "cell_type": "code",
      "metadata": {
        "id": "xyVHElv994mt",
        "colab_type": "code",
        "colab": {},
        "outputId": "bd7b68d7-181a-41ae-f8fb-14823b9c50c8"
      },
      "source": [
        "a = 1\n",
        "def f1():\n",
        "    global a #using global variable a\n",
        "    a = 5 #global variable is changed to 5\n",
        "    print (a) #will print 5\n",
        "\n",
        "f1()\n",
        "print (a) #will print 5\n"
      ],
      "execution_count": 0,
      "outputs": [
        {
          "output_type": "stream",
          "text": [
            "5\n",
            "5\n"
          ],
          "name": "stdout"
        }
      ]
    },
    {
      "cell_type": "code",
      "metadata": {
        "id": "SZ0K2jcd94my",
        "colab_type": "code",
        "colab": {},
        "outputId": "765264ff-5112-4d6c-c957-de0e11252c37"
      },
      "source": [
        "a = 1\n",
        "if True:\n",
        "    a = 2\n",
        "print (a)\n"
      ],
      "execution_count": 0,
      "outputs": [
        {
          "output_type": "stream",
          "text": [
            "2\n"
          ],
          "name": "stdout"
        }
      ]
    },
    {
      "cell_type": "code",
      "metadata": {
        "id": "jnLpm5BY94m3",
        "colab_type": "code",
        "colab": {},
        "outputId": "35078d13-f7a1-4733-a92c-858c78044ddf"
      },
      "source": [
        "a = 1\n",
        "for i in range(1,10):\n",
        "    a = i\n",
        "print (a)\n"
      ],
      "execution_count": 0,
      "outputs": [
        {
          "output_type": "stream",
          "text": [
            "9\n"
          ],
          "name": "stdout"
        }
      ]
    },
    {
      "cell_type": "code",
      "metadata": {
        "id": "WRFot1aN94m8",
        "colab_type": "code",
        "colab": {},
        "outputId": "9aa42460-b9bf-41ae-810e-04e61568cd6d"
      },
      "source": [
        "def f1(): #outer function\n",
        "    a = 1\n",
        "    def f2(): #inner function\n",
        "        print (a) #will print 1\n",
        "    f2()\n",
        "f1()\n"
      ],
      "execution_count": 0,
      "outputs": [
        {
          "output_type": "stream",
          "text": [
            "1\n"
          ],
          "name": "stdout"
        }
      ]
    },
    {
      "cell_type": "code",
      "metadata": {
        "id": "1BKWoRKs94nA",
        "colab_type": "code",
        "colab": {},
        "outputId": "d30d6d2e-fd74-41bc-c10e-35ce4d0d4e56"
      },
      "source": [
        "def f1(): #outer function\n",
        "    a = 1\n",
        "    def f2(): #outer function\n",
        "        a = 2\n",
        "        print (a) #prints 2\n",
        "    f2()\n",
        "    print (a) #prints 1\n",
        "f1()\n"
      ],
      "execution_count": 0,
      "outputs": [
        {
          "output_type": "stream",
          "text": [
            "2\n",
            "1\n"
          ],
          "name": "stdout"
        }
      ]
    },
    {
      "cell_type": "code",
      "metadata": {
        "id": "iMiEDKma94nH",
        "colab_type": "code",
        "colab": {},
        "outputId": "7e05e008-771e-4b40-8d13-42eaa231ec83"
      },
      "source": [
        "def f1(): #outer function\n",
        "    a = [1]\n",
        "    def f2(): #outer function\n",
        "        a[0] = 2\n",
        "        print (a[0]) #prints 2\n",
        "    f2()\n",
        "    print (a[0]) #prints 2\n",
        "f1()"
      ],
      "execution_count": 0,
      "outputs": [
        {
          "output_type": "stream",
          "text": [
            "2\n",
            "2\n"
          ],
          "name": "stdout"
        }
      ]
    },
    {
      "cell_type": "code",
      "metadata": {
        "id": "kACKl6Ck94nO",
        "colab_type": "code",
        "colab": {},
        "outputId": "825639a6-4181-4edd-8ab9-8fd9baa3de3e"
      },
      "source": [
        "def f1(a):\n",
        "    def f2(b):\n",
        "        return a+b\n",
        "    return f2\n",
        "a = f1(1)\n",
        "b = f1(100)\n",
        "\n",
        "print (a(2))\n",
        "print (b(2))\n"
      ],
      "execution_count": 0,
      "outputs": [
        {
          "output_type": "stream",
          "text": [
            "3\n",
            "102\n"
          ],
          "name": "stdout"
        }
      ]
    },
    {
      "cell_type": "code",
      "metadata": {
        "id": "U_Mqat6D94nS",
        "colab_type": "code",
        "colab": {},
        "outputId": "252eaf19-e49d-4e61-d672-2c1ef5f2098b"
      },
      "source": [
        "def f1(): #outer function\n",
        "    a = 1\n",
        "    def f2(): #outer function\n",
        "        nonlocal a\n",
        "        a = 2\n",
        "        print (a) #prints 2\n",
        "    f2()\n",
        "    print (a) #prints 2\n",
        "f1()"
      ],
      "execution_count": 0,
      "outputs": [
        {
          "output_type": "stream",
          "text": [
            "2\n",
            "2\n"
          ],
          "name": "stdout"
        }
      ]
    },
    {
      "cell_type": "code",
      "metadata": {
        "id": "21cwniNi94nW",
        "colab_type": "code",
        "colab": {},
        "outputId": "b58dac78-4f13-4b05-f897-3293a8eca3f4"
      },
      "source": [
        "def function1(): # outer function\n",
        "    print (\"Hello from outer function\")\n",
        "    def function2(): # inner function\n",
        "        print (\"Hello from inner function\")\n",
        "    function2()\n",
        "function1()"
      ],
      "execution_count": 0,
      "outputs": [
        {
          "output_type": "stream",
          "text": [
            "Hello from outer function\n",
            "Hello from inner function\n"
          ],
          "name": "stdout"
        }
      ]
    },
    {
      "cell_type": "code",
      "metadata": {
        "id": "vdTUJExq94nf",
        "colab_type": "code",
        "colab": {}
      },
      "source": [
        "def function1(): # outer function\n",
        "    print (\"Hello from outer function\")\n",
        "    def function2(): # inner function\n",
        "        print (\"Hello from inner function\")\n",
        "    function2()"
      ],
      "execution_count": 0,
      "outputs": []
    },
    {
      "cell_type": "code",
      "metadata": {
        "id": "bCAikEJP94nk",
        "colab_type": "code",
        "colab": {},
        "outputId": "022d1d46-22a3-4234-a2de-590adbf956bb"
      },
      "source": [
        "def num1(x):\n",
        "   def num2(y):\n",
        "      return x * y\n",
        "   return num2\n",
        "res = num1(10)\n",
        "\n",
        "print(res(5))"
      ],
      "execution_count": 0,
      "outputs": [
        {
          "output_type": "stream",
          "text": [
            "50\n"
          ],
          "name": "stdout"
        }
      ]
    },
    {
      "cell_type": "code",
      "metadata": {
        "id": "IkpSpBGG94nn",
        "colab_type": "code",
        "colab": {},
        "outputId": "9542cfaa-26a6-4242-87c5-61e3ed1e50b8"
      },
      "source": [
        "def function1():\n",
        "    x = 2 \n",
        "    def function2(a):\n",
        "        print (a+x)\n",
        "    print (x) \n",
        "    function2(3)\n",
        "\n",
        "function1()"
      ],
      "execution_count": 0,
      "outputs": [
        {
          "output_type": "stream",
          "text": [
            "2\n",
            "5\n"
          ],
          "name": "stdout"
        }
      ]
    },
    {
      "cell_type": "code",
      "metadata": {
        "id": "7XFgcfj194nr",
        "colab_type": "code",
        "colab": {},
        "outputId": "a07bdae0-a4a2-4a3d-b32a-dafc77830dae"
      },
      "source": [
        "def outer_function(x):\n",
        "    # Hidden from the outer code\n",
        "    def inner_increment(x):\n",
        "        return x + 2\n",
        "    y = inner_increment(x)\n",
        "    print(x, y)\n",
        "\n",
        "inner_increment(5)\n",
        "#outer_function(5)"
      ],
      "execution_count": 0,
      "outputs": [
        {
          "output_type": "error",
          "ename": "NameError",
          "evalue": "name 'inner_increment' is not defined",
          "traceback": [
            "\u001b[1;31m---------------------------------------------------------------------------\u001b[0m",
            "\u001b[1;31mNameError\u001b[0m                                 Traceback (most recent call last)",
            "\u001b[1;32m<ipython-input-4-a9342f86b9b1>\u001b[0m in \u001b[0;36m<module>\u001b[1;34m\u001b[0m\n\u001b[0;32m      6\u001b[0m     \u001b[0mprint\u001b[0m\u001b[1;33m(\u001b[0m\u001b[0mx\u001b[0m\u001b[1;33m,\u001b[0m \u001b[0my\u001b[0m\u001b[1;33m)\u001b[0m\u001b[1;33m\u001b[0m\u001b[1;33m\u001b[0m\u001b[0m\n\u001b[0;32m      7\u001b[0m \u001b[1;33m\u001b[0m\u001b[0m\n\u001b[1;32m----> 8\u001b[1;33m \u001b[0minner_increment\u001b[0m\u001b[1;33m(\u001b[0m\u001b[1;36m5\u001b[0m\u001b[1;33m)\u001b[0m\u001b[1;33m\u001b[0m\u001b[1;33m\u001b[0m\u001b[0m\n\u001b[0m\u001b[0;32m      9\u001b[0m \u001b[1;31m#outer_function(5)\u001b[0m\u001b[1;33m\u001b[0m\u001b[1;33m\u001b[0m\u001b[1;33m\u001b[0m\u001b[0m\n",
            "\u001b[1;31mNameError\u001b[0m: name 'inner_increment' is not defined"
          ]
        }
      ]
    },
    {
      "cell_type": "code",
      "metadata": {
        "id": "4ANjXe2394nv",
        "colab_type": "code",
        "colab": {},
        "outputId": "ad7ed468-3ce4-4657-c08f-50e3ab333e07"
      },
      "source": [
        "def outer_function(x):\n",
        "    # Hidden from the outer code\n",
        "    def inner_increment(x):\n",
        "        return x + 2\n",
        "    y = inner_increment(x)\n",
        "    print(x, y)\n",
        "\n",
        "#inner_increment(5)\n",
        "outer_function(5)"
      ],
      "execution_count": 0,
      "outputs": [
        {
          "output_type": "stream",
          "text": [
            "5 7\n"
          ],
          "name": "stdout"
        }
      ]
    },
    {
      "cell_type": "code",
      "metadata": {
        "id": "hEWKI57q94ny",
        "colab_type": "code",
        "colab": {},
        "outputId": "efe13e39-954d-4736-d8bb-88ff563051ee"
      },
      "source": [
        "def function1(name):\n",
        "    print('hello world')\n",
        "    def function2():\n",
        "        print('Hello ' + name)\n",
        "    return function2\n",
        "function1('Nicholas')\n",
        "#func = function1('Nicholas')\n",
        "#func()"
      ],
      "execution_count": 0,
      "outputs": [
        {
          "output_type": "stream",
          "text": [
            "hello world\n"
          ],
          "name": "stdout"
        },
        {
          "output_type": "execute_result",
          "data": {
            "text/plain": [
              "<function __main__.function1.<locals>.function2()>"
            ]
          },
          "metadata": {
            "tags": []
          },
          "execution_count": 6
        }
      ]
    },
    {
      "cell_type": "code",
      "metadata": {
        "id": "sdV_QhuO94n1",
        "colab_type": "code",
        "colab": {},
        "outputId": "599db89d-7b86-453e-c57b-68e53866f72f"
      },
      "source": [
        "def power_generator(num):\n",
        "\n",
        "    # Create the inner function\n",
        "    def power_n(power):\n",
        "        return num ** power\n",
        "\n",
        "    return power_n\n",
        "\n",
        "power_two = power_generator(2)\n",
        "power_three = power_generator(3)\n",
        "print(power_two(8))\n",
        "print(power_three(4))"
      ],
      "execution_count": 0,
      "outputs": [
        {
          "output_type": "stream",
          "text": [
            "256\n",
            "81\n"
          ],
          "name": "stdout"
        }
      ]
    },
    {
      "cell_type": "code",
      "metadata": {
        "id": "iCMp8m6594n4",
        "colab_type": "code",
        "colab": {},
        "outputId": "1bb2dcc1-3f90-4140-b9a9-468ade0445e5"
      },
      "source": [
        "def outerFunction(text): \n",
        "    text = text \n",
        "  \n",
        "    def innerFunction(): \n",
        "        print(text) \n",
        "  \n",
        "    innerFunction() \n",
        "  \n",
        "if __name__ == '__main__': \n",
        "    outerFunction('Hey!') "
      ],
      "execution_count": 0,
      "outputs": [
        {
          "output_type": "stream",
          "text": [
            "Hey!\n"
          ],
          "name": "stdout"
        }
      ]
    },
    {
      "cell_type": "code",
      "metadata": {
        "id": "5t8o8xQE94n9",
        "colab_type": "code",
        "colab": {},
        "outputId": "61d61b6d-1d80-42f2-d93e-0fd8378eb53c"
      },
      "source": [
        "def make_adder(x):\n",
        "    def add(y):\n",
        "        return x + y\n",
        "    return add\n",
        "\n",
        "plus5 = make_adder(5)\n",
        "print(plus5(12))"
      ],
      "execution_count": 0,
      "outputs": [
        {
          "output_type": "stream",
          "text": [
            "17\n"
          ],
          "name": "stdout"
        }
      ]
    },
    {
      "cell_type": "code",
      "metadata": {
        "id": "ngt78bty94n_",
        "colab_type": "code",
        "colab": {},
        "outputId": "71b9c77a-d656-4ccb-a16c-e02a24f3225f"
      },
      "source": [
        "def f1(): #outer function\n",
        "    print (\"Hello\")\n",
        "    def f2(): #inner function\n",
        "        print (\"world\")\n",
        "    f2()\n",
        "\n",
        "f1()"
      ],
      "execution_count": 0,
      "outputs": [
        {
          "output_type": "stream",
          "text": [
            "Hello\n",
            "world\n"
          ],
          "name": "stdout"
        }
      ]
    },
    {
      "cell_type": "code",
      "metadata": {
        "id": "yhge5mye94oC",
        "colab_type": "code",
        "colab": {},
        "outputId": "e502b3d1-5607-40d7-dce0-2931385bf073"
      },
      "source": [
        "def f1(): #outer function\n",
        "    x = 1 #variable defined in f1 function\n",
        "    def f2(a): #inner function\n",
        "        print (a+x) #able to acces the variable of outer function\n",
        "    f2(2)\n",
        "\n",
        "f1()"
      ],
      "execution_count": 0,
      "outputs": [
        {
          "output_type": "stream",
          "text": [
            "3\n"
          ],
          "name": "stdout"
        }
      ]
    },
    {
      "cell_type": "code",
      "metadata": {
        "id": "ysRHSvNr94oE",
        "colab_type": "code",
        "colab": {},
        "outputId": "ba90151e-0331-4c01-fc8b-96103843ab0e"
      },
      "source": [
        "def f1(): #outer function\n",
        "    x = 1 # variable defined in the outer function\n",
        "    def f2(a): #inner function\n",
        "       #will create a new variable in the inner function\n",
        "       #instead of changing the value of x of outer function\n",
        "        x = 4\n",
        "        print (a+x)\n",
        "    print (x) # prints the value of x of outer function\n",
        "    f2(2)\n",
        "\n",
        "f1()"
      ],
      "execution_count": 0,
      "outputs": [
        {
          "output_type": "stream",
          "text": [
            "1\n",
            "6\n"
          ],
          "name": "stdout"
        }
      ]
    },
    {
      "cell_type": "code",
      "metadata": {
        "id": "KpJOxEmx94oH",
        "colab_type": "code",
        "colab": {}
      },
      "source": [
        ""
      ],
      "execution_count": 0,
      "outputs": []
    }
  ]
}